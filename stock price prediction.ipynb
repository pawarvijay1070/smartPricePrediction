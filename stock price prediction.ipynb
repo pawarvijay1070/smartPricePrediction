





<!DOCTYPE html>
<html
  lang="en"
  
  data-color-mode="auto" data-light-theme="light" data-dark-theme="dark"
  data-a11y-animated-images="system" data-a11y-link-underlines="true"
  data-css-features="textarea_field_sizing"
  >



  <head>
    <meta charset="utf-8">
  <link rel="dns-prefetch" href="https://github.githubassets.com">
  <link rel="dns-prefetch" href="https://avatars.githubusercontent.com">
  <link rel="dns-prefetch" href="https://github-cloud.s3.amazonaws.com">
  <link rel="dns-prefetch" href="https://user-images.githubusercontent.com/">
  <link rel="preconnect" href="https://github.githubassets.com" crossorigin>
  <link rel="preconnect" href="https://avatars.githubusercontent.com">

  


  <link crossorigin="anonymous" media="all" rel="stylesheet" href="https://github.githubassets.com/assets/light-0cfd1fd8509e.css" /><link crossorigin="anonymous" media="all" rel="stylesheet" href="https://github.githubassets.com/assets/dark-d782f59290e2.css" /><link data-color-theme="dark_dimmed" crossorigin="anonymous" media="all" rel="stylesheet" data-href="https://github.githubassets.com/assets/dark_dimmed-f9fbc4b99a77.css" /><link data-color-theme="dark_high_contrast" crossorigin="anonymous" media="all" rel="stylesheet" data-href="https://github.githubassets.com/assets/dark_high_contrast-cff1c9b27b1a.css" /><link data-color-theme="dark_colorblind" crossorigin="anonymous" media="all" rel="stylesheet" data-href="https://github.githubassets.com/assets/dark_colorblind-70097f75aec1.css" /><link data-color-theme="light_colorblind" crossorigin="anonymous" media="all" rel="stylesheet" data-href="https://github.githubassets.com/assets/light_colorblind-c2f0d49bdcd9.css" /><link data-color-theme="light_high_contrast" crossorigin="anonymous" media="all" rel="stylesheet" data-href="https://github.githubassets.com/assets/light_high_contrast-4747d7bc0bc4.css" /><link data-color-theme="light_tritanopia" crossorigin="anonymous" media="all" rel="stylesheet" data-href="https://github.githubassets.com/assets/light_tritanopia-d3f6a61c91c8.css" /><link data-color-theme="dark_tritanopia" crossorigin="anonymous" media="all" rel="stylesheet" data-href="https://github.githubassets.com/assets/dark_tritanopia-a188d53f44bb.css" />

    <link crossorigin="anonymous" media="all" rel="stylesheet" href="https://github.githubassets.com/assets/primer-primitives-953961b66e63.css" />
    <link crossorigin="anonymous" media="all" rel="stylesheet" href="https://github.githubassets.com/assets/primer-4430d3c2c150.css" />
    <link crossorigin="anonymous" media="all" rel="stylesheet" href="https://github.githubassets.com/assets/global-7e1d0e4dee6a.css" />
    <link crossorigin="anonymous" media="all" rel="stylesheet" href="https://github.githubassets.com/assets/github-e72829f5538b.css" />
  <link crossorigin="anonymous" media="all" rel="stylesheet" href="https://github.githubassets.com/assets/repository-197a21528ff0.css" />
<link crossorigin="anonymous" media="all" rel="stylesheet" href="https://github.githubassets.com/assets/code-730cb3192afb.css" />

  


  <script type="application/json" id="client-env">{"locale":"en","featureFlags":["alive_longer_retries","bypass_copilot_indexing_quota","copilot_new_references_ui","copilot_beta_features_opt_in","copilot_chat_retry_on_error","copilot_chat_persist_submitted_input","copilot_conversational_ux_history_refs","copilot_editor_upsells","copilot_free_limited_user","copilot_implicit_context","copilot_no_floating_button","copilot_smell_icebreaker_ux","drag_and_drop_experimental_move_dialog","experimentation_azure_variant_endpoint","failbot_handle_non_errors","geojson_azure_maps","ghost_pilot_confidence_truncation_25","ghost_pilot_confidence_truncation_40","hovercard_accessibility","issues_advanced_search","issues_react_close_as_duplicate","issues_react_remove_placeholders","issues_react_blur_item_picker_on_close","marketing_pages_search_explore_provider","primer_react_css_modules_ga","react_keyboard_shortcuts_dialog","remove_child_patch","repository_suggester_elastic_search","sample_network_conn_type","site_metered_billing_update","site_copilot_free","issues_react_close_as_duplicate","textarea_field_sizing","lifecycle_label_name_updates","item_picker_new_select_panel"],"login":"pawarvijay1070"}</script>
<script crossorigin="anonymous" defer="defer" type="application/javascript" src="https://github.githubassets.com/assets/wp-runtime-a8689e8d5189.js"></script>
<script crossorigin="anonymous" defer="defer" type="application/javascript" src="https://github.githubassets.com/assets/vendors-node_modules_oddbird_popover-polyfill_dist_popover_js-9da652f58479.js"></script>
<script crossorigin="anonymous" defer="defer" type="application/javascript" src="https://github.githubassets.com/assets/vendors-node_modules_github_arianotify-polyfill_ariaNotify-polyfill_js-node_modules_github_mi-3abb8f-d7e6bc799724.js"></script>
<script crossorigin="anonymous" defer="defer" type="application/javascript" src="https://github.githubassets.com/assets/ui_packages_failbot_failbot_ts-71291b73d826.js"></script>
<script crossorigin="anonymous" defer="defer" type="application/javascript" src="https://github.githubassets.com/assets/environment-7b93e0f0c8ff.js"></script>
<script crossorigin="anonymous" defer="defer" type="application/javascript" src="https://github.githubassets.com/assets/vendors-node_modules_primer_behaviors_dist_esm_index_mjs-ea2a5d75d580.js"></script>
<script crossorigin="anonymous" defer="defer" type="application/javascript" src="https://github.githubassets.com/assets/vendors-node_modules_github_selector-observer_dist_index_esm_js-f690fd9ae3d5.js"></script>
<script crossorigin="anonymous" defer="defer" type="application/javascript" src="https://github.githubassets.com/assets/vendors-node_modules_github_relative-time-element_dist_index_js-f6da4b3fa34c.js"></script>
<script crossorigin="anonymous" defer="defer" type="application/javascript" src="https://github.githubassets.com/assets/vendors-node_modules_github_auto-complete-element_dist_index_js-node_modules_github_catalyst_-8e9f78-a74b4e0a8a6b.js"></script>
<script crossorigin="anonymous" defer="defer" type="application/javascript" src="https://github.githubassets.com/assets/vendors-node_modules_github_text-expander-element_dist_index_js-78748950cb0c.js"></script>
<script crossorigin="anonymous" defer="defer" type="application/javascript" src="https://github.githubassets.com/assets/vendors-node_modules_github_filter-input-element_dist_index_js-node_modules_github_remote-inp-b5f1d7-a1760ffda83d.js"></script>
<script crossorigin="anonymous" defer="defer" type="application/javascript" src="https://github.githubassets.com/assets/vendors-node_modules_github_markdown-toolbar-element_dist_index_js-ceef33f593fa.js"></script>
<script crossorigin="anonymous" defer="defer" type="application/javascript" src="https://github.githubassets.com/assets/vendors-node_modules_github_file-attachment-element_dist_index_js-node_modules_primer_view-co-c44a69-c6d035fa8dc8.js"></script>
<script crossorigin="anonymous" defer="defer" type="application/javascript" src="https://github.githubassets.com/assets/github-elements-f991cfab5105.js"></script>
<script crossorigin="anonymous" defer="defer" type="application/javascript" src="https://github.githubassets.com/assets/element-registry-3b5362d3d402.js"></script>
<script crossorigin="anonymous" defer="defer" type="application/javascript" src="https://github.githubassets.com/assets/vendors-node_modules_braintree_browser-detection_dist_browser-detection_js-node_modules_githu-bb80ec-7f43298e364b.js"></script>
<script crossorigin="anonymous" defer="defer" type="application/javascript" src="https://github.githubassets.com/assets/vendors-node_modules_lit-html_lit-html_js-be8cb88f481b.js"></script>
<script crossorigin="anonymous" defer="defer" type="application/javascript" src="https://github.githubassets.com/assets/vendors-node_modules_github_mini-throttle_dist_index_js-node_modules_morphdom_dist_morphdom-e-7c534c-a4a1922eb55f.js"></script>
<script crossorigin="anonymous" defer="defer" type="application/javascript" src="https://github.githubassets.com/assets/vendors-node_modules_github_turbo_dist_turbo_es2017-esm_js-e3cbe28f1638.js"></script>
<script crossorigin="anonymous" defer="defer" type="application/javascript" src="https://github.githubassets.com/assets/vendors-node_modules_github_remote-form_dist_index_js-node_modules_delegated-events_dist_inde-893f9f-6cf3320416b8.js"></script>
<script crossorigin="anonymous" defer="defer" type="application/javascript" src="https://github.githubassets.com/assets/vendors-node_modules_color-convert_index_js-e3180fe3bcb3.js"></script>
<script crossorigin="anonymous" defer="defer" type="application/javascript" src="https://github.githubassets.com/assets/vendors-node_modules_github_quote-selection_dist_index_js-node_modules_github_session-resume_-69cfcc-833249ee3034.js"></script>
<script crossorigin="anonymous" defer="defer" type="application/javascript" src="https://github.githubassets.com/assets/ui_packages_updatable-content_updatable-content_ts-863ef5872a03.js"></script>
<script crossorigin="anonymous" defer="defer" type="application/javascript" src="https://github.githubassets.com/assets/app_assets_modules_github_behaviors_task-list_ts-app_assets_modules_github_sso_ts-ui_packages-900dde-917d4bda1f1a.js"></script>
<script crossorigin="anonymous" defer="defer" type="application/javascript" src="https://github.githubassets.com/assets/app_assets_modules_github_sticky-scroll-into-view_ts-7cbef09a422c.js"></script>
<script crossorigin="anonymous" defer="defer" type="application/javascript" src="https://github.githubassets.com/assets/app_assets_modules_github_behaviors_ajax-error_ts-app_assets_modules_github_behaviors_include-d0d0a6-b41aeef03499.js"></script>
<script crossorigin="anonymous" defer="defer" type="application/javascript" src="https://github.githubassets.com/assets/app_assets_modules_github_behaviors_commenting_edit_ts-app_assets_modules_github_behaviors_ht-83c235-fb43816ab83c.js"></script>
<script crossorigin="anonymous" defer="defer" type="application/javascript" src="https://github.githubassets.com/assets/behaviors-a6abce982f3f.js"></script>
<script crossorigin="anonymous" defer="defer" type="application/javascript" src="https://github.githubassets.com/assets/vendors-node_modules_delegated-events_dist_index_js-node_modules_github_catalyst_lib_index_js-f6223d90c7ba.js"></script>
<script crossorigin="anonymous" defer="defer" type="application/javascript" src="https://github.githubassets.com/assets/notifications-global-cfcd9f4f0f23.js"></script>
<script crossorigin="anonymous" defer="defer" type="application/javascript" src="https://github.githubassets.com/assets/vendors-node_modules_github_mini-throttle_dist_index_js-node_modules_github_catalyst_lib_inde-dbbea9-26cce2010167.js"></script>
<script crossorigin="anonymous" defer="defer" type="application/javascript" src="https://github.githubassets.com/assets/code-menu-b5f092ec4b30.js"></script>
  
  <script crossorigin="anonymous" defer="defer" type="application/javascript" src="https://github.githubassets.com/assets/primer-react-eb226383faf4.js"></script>
<script crossorigin="anonymous" defer="defer" type="application/javascript" src="https://github.githubassets.com/assets/react-core-85b0640cddc8.js"></script>
<script crossorigin="anonymous" defer="defer" type="application/javascript" src="https://github.githubassets.com/assets/react-lib-2131e17288a8.js"></script>
<script crossorigin="anonymous" defer="defer" type="application/javascript" src="https://github.githubassets.com/assets/octicons-react-611691cca2f6.js"></script>
<script crossorigin="anonymous" defer="defer" type="application/javascript" src="https://github.githubassets.com/assets/vendors-node_modules_tanstack_query-core_build_modern_queryClient_js-e6f07a7e80b7.js"></script>
<script crossorigin="anonymous" defer="defer" type="application/javascript" src="https://github.githubassets.com/assets/vendors-node_modules_emotion_is-prop-valid_dist_emotion-is-prop-valid_esm_js-node_modules_emo-37e3d5-92730c05e718.js"></script>
<script crossorigin="anonymous" defer="defer" type="application/javascript" src="https://github.githubassets.com/assets/vendors-node_modules_github_mini-throttle_dist_index_js-node_modules_stacktrace-parser_dist_s-e7dcdd-f7cc96ebae76.js"></script>
<script crossorigin="anonymous" defer="defer" type="application/javascript" src="https://github.githubassets.com/assets/vendors-node_modules_oddbird_popover-polyfill_dist_popover-fn_js-55fea94174bf.js"></script>
<script crossorigin="anonymous" defer="defer" type="application/javascript" src="https://github.githubassets.com/assets/vendors-node_modules_dompurify_dist_purify_js-b89b98661809.js"></script>
<script crossorigin="anonymous" defer="defer" type="application/javascript" src="https://github.githubassets.com/assets/vendors-node_modules_lodash-es__Stack_js-node_modules_lodash-es__Uint8Array_js-node_modules_l-4faaa6-10d8eea337ce.js"></script>
<script crossorigin="anonymous" defer="defer" type="application/javascript" src="https://github.githubassets.com/assets/vendors-node_modules_lodash-es__baseIsEqual_js-8929eb9718d5.js"></script>
<script crossorigin="anonymous" defer="defer" type="application/javascript" src="https://github.githubassets.com/assets/vendors-node_modules_github_hydro-analytics-client_dist_analytics-client_js-node_modules_gith-9002b0-881da98a8b00.js"></script>
<script crossorigin="anonymous" defer="defer" type="application/javascript" src="https://github.githubassets.com/assets/ui_packages_aria-live_aria-live_ts-ui_packages_promise-with-resolvers-polyfill_promise-with-r-014121-a7926fdcecf7.js"></script>
<script crossorigin="anonymous" defer="defer" type="application/javascript" src="https://github.githubassets.com/assets/ui_packages_paths_index_ts-c223e79a3369.js"></script>
<script crossorigin="anonymous" defer="defer" type="application/javascript" src="https://github.githubassets.com/assets/ui_packages_ref-selector_RefSelector_tsx-691189ea6f17.js"></script>
<script crossorigin="anonymous" defer="defer" type="application/javascript" src="https://github.githubassets.com/assets/ui_packages_code-view-shared_utilities_web-worker_ts-ui_packages_code-view-shared_worker-jobs-6add77-b7d043642f8f.js"></script>
<script crossorigin="anonymous" defer="defer" type="application/javascript" src="https://github.githubassets.com/assets/ui_packages_code-view-shared_hooks_use-canonical-object_ts-ui_packages_code-view-shared_hooks-503c34-318866ed3f00.js"></script>
<script crossorigin="anonymous" defer="defer" type="application/javascript" src="https://github.githubassets.com/assets/ui_packages_repos-file-tree-view_repos-file-tree-view_ts-ui_packages_feature-request_FeatureR-648c3b-2d55cae76827.js"></script>
<script crossorigin="anonymous" defer="defer" type="application/javascript" src="https://github.githubassets.com/assets/app_assets_modules_github_blob-anchor_ts-ui_packages_code-nav_code-nav_ts-ui_packages_filter--8253c1-f38cdfca9137.js"></script>
<script crossorigin="anonymous" defer="defer" type="application/javascript" src="https://github.githubassets.com/assets/react-code-view-5615af2ff969.js"></script>
<link crossorigin="anonymous" media="all" rel="stylesheet" href="https://github.githubassets.com/assets/primer-react.491a1e189efd351d2e8c.module.css" />
<link crossorigin="anonymous" media="all" rel="stylesheet" href="https://github.githubassets.com/assets/react-code-view.6b587a69b593e23c3657.module.css" />


  <title>Stock-Price-Prediction/stock price prediction.ipynb at main · ronakkjain77/Stock-Price-Prediction</title>



  <meta name="route-pattern" content="/:user_id/:repository/blob/*name(/*path)" data-turbo-transient>
  <meta name="route-controller" content="blob" data-turbo-transient>
  <meta name="route-action" content="show" data-turbo-transient>

    
  <meta name="current-catalog-service-hash" content="f3abb0cc802f3d7b95fc8762b94bdcb13bf39634c40c357301c4aa1d67a256fb">


  <meta name="request-id" content="113C:3D7D83:8A00E1:A18207:6780FDA5" data-turbo-transient="true" /><meta name="html-safe-nonce" content="07fa30a59bf1113d447c201b99905618a261f7881acf86e94a92620c467af2d0" data-turbo-transient="true" /><meta name="visitor-payload" content="eyJyZWZlcnJlciI6bnVsbCwicmVxdWVzdF9pZCI6IjExM0M6M0Q3RDgzOjhBMDBFMTpBMTgyMDc6Njc4MEZEQTUiLCJ2aXNpdG9yX2lkIjoiODkxODgxNzY1NTY4MTI2OTI5MiIsInJlZ2lvbl9lZGdlIjoiY2VudHJhbGluZGlhIiwicmVnaW9uX3JlbmRlciI6ImlhZCJ9" data-turbo-transient="true" /><meta name="visitor-hmac" content="598f7e1bef342160a14d6cb46818747f8668be576e5482759bc2dbfdb19b3dab" data-turbo-transient="true" />


    <meta name="hovercard-subject-tag" content="repository:506664938" data-turbo-transient>


  <meta name="github-keyboard-shortcuts" content="repository,source-code,file-tree,copilot" data-turbo-transient="true" />
  

  <meta name="selected-link" value="repo_source" data-turbo-transient>
  <link rel="assets" href="https://github.githubassets.com/">

    <meta name="google-site-verification" content="Apib7-x98H0j5cPqHWwSMm6dNU4GmODRoqxLiDzdx9I">

<meta name="octolytics-url" content="https://collector.github.com/github/collect" /><meta name="octolytics-actor-id" content="135657458" /><meta name="octolytics-actor-login" content="pawarvijay1070" /><meta name="octolytics-actor-hash" content="59623e3951ae909d5d967091110b733086e81f1f3062a006aa3c54aba10d9b97" />

  <meta name="analytics-location" content="/&lt;user-name&gt;/&lt;repo-name&gt;/blob/show" data-turbo-transient="true" />

  




    <meta name="user-login" content="pawarvijay1070">

  <link rel="sudo-modal" href="/sessions/sudo_modal">

    <meta name="viewport" content="width=device-width">

    

      <meta name="description" content="Used tensor flow to predict a stock price. Contribute to ronakkjain77/Stock-Price-Prediction development by creating an account on GitHub.">

      <link rel="search" type="application/opensearchdescription+xml" href="/opensearch.xml" title="GitHub">

    <link rel="fluid-icon" href="https://github.com/fluidicon.png" title="GitHub">
    <meta property="fb:app_id" content="1401488693436528">
    <meta name="apple-itunes-app" content="app-id=1477376905, app-argument=https://github.com/ronakkjain77/Stock-Price-Prediction/blob/main/stock%20price%20prediction.ipynb" />

      <meta name="twitter:image" content="https://opengraph.githubassets.com/012a092692103d9478c34b99a955ab616cfb3899207090d119e7597a82e8db84/ronakkjain77/Stock-Price-Prediction" /><meta name="twitter:site" content="@github" /><meta name="twitter:card" content="summary_large_image" /><meta name="twitter:title" content="Stock-Price-Prediction/stock price prediction.ipynb at main · ronakkjain77/Stock-Price-Prediction" /><meta name="twitter:description" content="Used tensor flow to predict a stock price. Contribute to ronakkjain77/Stock-Price-Prediction development by creating an account on GitHub." />
  <meta property="og:image" content="https://opengraph.githubassets.com/012a092692103d9478c34b99a955ab616cfb3899207090d119e7597a82e8db84/ronakkjain77/Stock-Price-Prediction" /><meta property="og:image:alt" content="Used tensor flow to predict a stock price. Contribute to ronakkjain77/Stock-Price-Prediction development by creating an account on GitHub." /><meta property="og:image:width" content="1200" /><meta property="og:image:height" content="600" /><meta property="og:site_name" content="GitHub" /><meta property="og:type" content="object" /><meta property="og:title" content="Stock-Price-Prediction/stock price prediction.ipynb at main · ronakkjain77/Stock-Price-Prediction" /><meta property="og:url" content="https://github.com/ronakkjain77/Stock-Price-Prediction/blob/main/stock%20price%20prediction.ipynb" /><meta property="og:description" content="Used tensor flow to predict a stock price. Contribute to ronakkjain77/Stock-Price-Prediction development by creating an account on GitHub." />
  


      <link rel="shared-web-socket" href="wss://alive.github.com/_sockets/u/135657458/ws?session=eyJ2IjoiVjMiLCJ1IjoxMzU2NTc0NTgsInMiOjE1NTU2MDg2MTIsImMiOjY2MTM0NDQxOCwidCI6MTczNjUwNjc5OH0=--77427686ccbbc46f232abaa4f0c71b33ff86529a83820965f462fa3feedd072f" data-refresh-url="/_alive" data-session-id="cd3ad44bc848c9917afa31cde814e76744987a935c8c5bfe535f1995c87ac001">
      <link rel="shared-web-socket-src" href="/assets-cdn/worker/socket-worker-abaca4fda701.js">


      <meta name="hostname" content="github.com">


      <meta name="keyboard-shortcuts-preference" content="all">
      <meta name="hovercards-preference" content="true">
      <meta name="announcement-preference-hovercard" content="true">

        <meta name="expected-hostname" content="github.com">


  <meta http-equiv="x-pjax-version" content="3059e746028d54e719eaa601a0134f9b8b0f6e936f1a5c6659894dfc8a452a0b" data-turbo-track="reload">
  <meta http-equiv="x-pjax-csp-version" content="ace39c3b6632770952207593607e6e0be0db363435a8b877b1f96abe6430f345" data-turbo-track="reload">
  <meta http-equiv="x-pjax-css-version" content="83077cf911605d17127453d01c62034b8070f991798fc7ededcb0f1f056f9796" data-turbo-track="reload">
  <meta http-equiv="x-pjax-js-version" content="2493e2b5611be46c658e5a36028db0b22f917423089d961a89adea1391a6ca90" data-turbo-track="reload">

  <meta name="turbo-cache-control" content="no-preview" data-turbo-transient="">

      <meta name="turbo-cache-control" content="no-cache" data-turbo-transient>

    <meta data-hydrostats="publish">
  <meta name="go-import" content="github.com/ronakkjain77/Stock-Price-Prediction git https://github.com/ronakkjain77/Stock-Price-Prediction.git">

  <meta name="octolytics-dimension-user_id" content="85284107" /><meta name="octolytics-dimension-user_login" content="ronakkjain77" /><meta name="octolytics-dimension-repository_id" content="506664938" /><meta name="octolytics-dimension-repository_nwo" content="ronakkjain77/Stock-Price-Prediction" /><meta name="octolytics-dimension-repository_public" content="true" /><meta name="octolytics-dimension-repository_is_fork" content="false" /><meta name="octolytics-dimension-repository_network_root_id" content="506664938" /><meta name="octolytics-dimension-repository_network_root_nwo" content="ronakkjain77/Stock-Price-Prediction" />



    

    <meta name="turbo-body-classes" content="logged-in env-production page-responsive">


  <meta name="browser-stats-url" content="https://api.github.com/_private/browser/stats">

  <meta name="browser-errors-url" content="https://api.github.com/_private/browser/errors">

  <link rel="mask-icon" href="https://github.githubassets.com/assets/pinned-octocat-093da3e6fa40.svg" color="#000000">
  <link rel="alternate icon" class="js-site-favicon" type="image/png" href="https://github.githubassets.com/favicons/favicon.png">
  <link rel="icon" class="js-site-favicon" type="image/svg+xml" href="https://github.githubassets.com/favicons/favicon.svg" data-base-href="https://github.githubassets.com/favicons/favicon">

<meta name="theme-color" content="#1e2327">
<meta name="color-scheme" content="light dark" />

  <link rel="apple-touch-icon" href="https://github.githubassets.com/assets/apple-touch-icon-92bd46d04241.png">
  <link rel="apple-touch-icon" sizes="180x180" href="https://github.githubassets.com/assets/apple-touch-icon-180x180-a80b8e11abe2.png">
  <meta name="apple-mobile-web-app-title" content="GitHub">

  <link rel="manifest" href="/manifest.json" crossOrigin="use-credentials">

  </head>

  <body class="logged-in env-production page-responsive" style="word-wrap: break-word;">
    <div data-turbo-body class="logged-in env-production page-responsive" style="word-wrap: break-word;">
      


    <div class="position-relative header-wrapper js-header-wrapper ">
      <a href="#start-of-content" data-skip-target-assigned="false" class="p-3 color-bg-accent-emphasis color-fg-on-emphasis show-on-focus js-skip-to-content">Skip to content</a>

      <span data-view-component="true" class="progress-pjax-loader Progress position-fixed width-full">
    <span style="width: 0%;" data-view-component="true" class="Progress-item progress-pjax-loader-bar left-0 top-0 color-bg-accent-emphasis"></span>
</span>      
      
      <script crossorigin="anonymous" defer="defer" type="application/javascript" src="https://github.githubassets.com/assets/ui_packages_ui-commands_ui-commands_ts-fecaee5fb732.js"></script>
<script crossorigin="anonymous" defer="defer" type="application/javascript" src="https://github.githubassets.com/assets/keyboard-shortcuts-dialog-958cae8ecd6c.js"></script>
<link crossorigin="anonymous" media="all" rel="stylesheet" href="https://github.githubassets.com/assets/primer-react.491a1e189efd351d2e8c.module.css" />

<react-partial
  partial-name="keyboard-shortcuts-dialog"
  data-ssr="false"
  data-attempted-ssr="false"
>
  
  <script type="application/json" data-target="react-partial.embeddedData">{"props":{"docsUrl":"https://docs.github.com/get-started/accessibility/keyboard-shortcuts"}}</script>
  <div data-target="react-partial.reactRoot"></div>
</react-partial>




      

          

              <header class="AppHeader" role="banner">
  <h2 class="sr-only">Navigation Menu</h2>

    

    <div class="AppHeader-globalBar pb-2 js-global-bar">
      <div class="AppHeader-globalBar-start">
          <deferred-side-panel data-url="/_side-panels/global">
  <include-fragment data-target="deferred-side-panel.fragment">
      <button aria-label="Open global navigation menu" data-action="click:deferred-side-panel#loadPanel click:deferred-side-panel#panelOpened" data-show-dialog-id="dialog-1a1391ff-5a8d-4b5f-a7ca-f6c90f73957e" id="dialog-show-dialog-1a1391ff-5a8d-4b5f-a7ca-f6c90f73957e" type="button" data-view-component="true" class="Button Button--iconOnly Button--secondary Button--medium AppHeader-button p-0 color-fg-muted">  <svg aria-hidden="true" height="16" viewBox="0 0 16 16" version="1.1" width="16" data-view-component="true" class="octicon octicon-three-bars Button-visual">
    <path d="M1 2.75A.75.75 0 0 1 1.75 2h12.5a.75.75 0 0 1 0 1.5H1.75A.75.75 0 0 1 1 2.75Zm0 5A.75.75 0 0 1 1.75 7h12.5a.75.75 0 0 1 0 1.5H1.75A.75.75 0 0 1 1 7.75ZM1.75 12h12.5a.75.75 0 0 1 0 1.5H1.75a.75.75 0 0 1 0-1.5Z"></path>
</svg>
</button>

<dialog-helper>
  <dialog data-target="deferred-side-panel.panel" id="dialog-1a1391ff-5a8d-4b5f-a7ca-f6c90f73957e" aria-modal="true" aria-labelledby="dialog-1a1391ff-5a8d-4b5f-a7ca-f6c90f73957e-title" aria-describedby="dialog-1a1391ff-5a8d-4b5f-a7ca-f6c90f73957e-description" data-view-component="true" class="Overlay Overlay-whenNarrow Overlay--size-small-portrait Overlay--motion-scaleFade Overlay--placement-left SidePanel Overlay--disableScroll">
    <div styles="flex-direction: row;" data-view-component="true" class="Overlay-header">
  <div class="Overlay-headerContentWrap">
    <div class="Overlay-titleWrap">
      <h1 class="Overlay-title sr-only" id="dialog-1a1391ff-5a8d-4b5f-a7ca-f6c90f73957e-title">
        Global navigation
      </h1>
            <div data-view-component="true" class="d-flex">
      <div data-view-component="true" class="AppHeader-logo position-relative">
        <svg aria-hidden="true" height="24" viewBox="0 0 24 24" version="1.1" width="24" data-view-component="true" class="octicon octicon-mark-github">
    <path d="M12.5.75C6.146.75 1 5.896 1 12.25c0 5.089 3.292 9.387 7.863 10.91.575.101.79-.244.79-.546 0-.273-.014-1.178-.014-2.142-2.889.532-3.636-.704-3.866-1.35-.13-.331-.69-1.352-1.18-1.625-.402-.216-.977-.748-.014-.762.906-.014 1.553.834 1.769 1.179 1.035 1.74 2.688 1.25 3.349.948.1-.747.402-1.25.733-1.538-2.559-.287-5.232-1.279-5.232-5.678 0-1.25.445-2.285 1.178-3.09-.115-.288-.517-1.467.115-3.048 0 0 .963-.302 3.163 1.179.92-.259 1.897-.388 2.875-.388.977 0 1.955.13 2.875.388 2.2-1.495 3.162-1.179 3.162-1.179.633 1.581.23 2.76.115 3.048.733.805 1.179 1.825 1.179 3.09 0 4.413-2.688 5.39-5.247 5.678.417.36.776 1.05.776 2.128 0 1.538-.014 2.774-.014 3.162 0 .302.216.662.79.547C20.709 21.637 24 17.324 24 12.25 24 5.896 18.854.75 12.5.75Z"></path>
</svg>
</div></div>
    </div>
    <div class="Overlay-actionWrap">
      <button data-close-dialog-id="dialog-1a1391ff-5a8d-4b5f-a7ca-f6c90f73957e" aria-label="Close" type="button" data-view-component="true" class="close-button Overlay-closeButton"><svg aria-hidden="true" height="16" viewBox="0 0 16 16" version="1.1" width="16" data-view-component="true" class="octicon octicon-x">
    <path d="M3.72 3.72a.75.75 0 0 1 1.06 0L8 6.94l3.22-3.22a.749.749 0 0 1 1.275.326.749.749 0 0 1-.215.734L9.06 8l3.22 3.22a.749.749 0 0 1-.326 1.275.749.749 0 0 1-.734-.215L8 9.06l-3.22 3.22a.751.751 0 0 1-1.042-.018.751.751 0 0 1-.018-1.042L6.94 8 3.72 4.78a.75.75 0 0 1 0-1.06Z"></path>
</svg></button>
    </div>
  </div>
  
</div>
      <scrollable-region data-labelled-by="dialog-1a1391ff-5a8d-4b5f-a7ca-f6c90f73957e-title">
        <div data-view-component="true" class="Overlay-body d-flex flex-column px-2">    <div data-view-component="true" class="d-flex flex-column mb-3">
        <nav aria-label="Site navigation" data-view-component="true" class="ActionList">
  
  <nav-list>
    <ul data-target="nav-list.topLevelList" data-view-component="true" class="ActionListWrap">
        
          
<li data-item-id="" data-targets="nav-list.items" data-view-component="true" class="ActionListItem">
    
    
    <a data-hotkey="g d" data-analytics-event="{&quot;category&quot;:&quot;Global navigation&quot;,&quot;action&quot;:&quot;HOME&quot;,&quot;label&quot;:null}" id="item-f12a8a1d-40a5-4a2e-92c2-c37de29b2210" href="/dashboard" data-view-component="true" class="ActionListContent ActionListContent--visual16">
        <span class="ActionListItem-visual ActionListItem-visual--leading">
          <svg aria-hidden="true" height="16" viewBox="0 0 16 16" version="1.1" width="16" data-view-component="true" class="octicon octicon-home">
    <path d="M6.906.664a1.749 1.749 0 0 1 2.187 0l5.25 4.2c.415.332.657.835.657 1.367v7.019A1.75 1.75 0 0 1 13.25 15h-3.5a.75.75 0 0 1-.75-.75V9H7v5.25a.75.75 0 0 1-.75.75h-3.5A1.75 1.75 0 0 1 1 13.25V6.23c0-.531.242-1.034.657-1.366l5.25-4.2Zm1.25 1.171a.25.25 0 0 0-.312 0l-5.25 4.2a.25.25 0 0 0-.094.196v7.019c0 .138.112.25.25.25H5.5V8.25a.75.75 0 0 1 .75-.75h3.5a.75.75 0 0 1 .75.75v5.25h2.75a.25.25 0 0 0 .25-.25V6.23a.25.25 0 0 0-.094-.195Z"></path>
</svg>
        </span>
      
        <span data-view-component="true" class="ActionListItem-label">
          Home
</span>      
</a>
  
</li>

        
          
<li data-item-id="" data-targets="nav-list.items" data-view-component="true" class="ActionListItem">
    
    
    <a data-hotkey="g i" data-analytics-event="{&quot;category&quot;:&quot;Global navigation&quot;,&quot;action&quot;:&quot;ISSUES&quot;,&quot;label&quot;:null}" id="item-5ff2dc75-b326-4c44-9074-37ed4dd6b781" href="/issues" data-view-component="true" class="ActionListContent ActionListContent--visual16">
        <span class="ActionListItem-visual ActionListItem-visual--leading">
          <svg aria-hidden="true" height="16" viewBox="0 0 16 16" version="1.1" width="16" data-view-component="true" class="octicon octicon-issue-opened">
    <path d="M8 9.5a1.5 1.5 0 1 0 0-3 1.5 1.5 0 0 0 0 3Z"></path><path d="M8 0a8 8 0 1 1 0 16A8 8 0 0 1 8 0ZM1.5 8a6.5 6.5 0 1 0 13 0 6.5 6.5 0 0 0-13 0Z"></path>
</svg>
        </span>
      
        <span data-view-component="true" class="ActionListItem-label">
          Issues
</span>      
</a>
  
</li>

        
          
<li data-item-id="" data-targets="nav-list.items" data-view-component="true" class="ActionListItem">
    
    
    <a data-hotkey="g p" data-analytics-event="{&quot;category&quot;:&quot;Global navigation&quot;,&quot;action&quot;:&quot;PULL_REQUESTS&quot;,&quot;label&quot;:null}" id="item-d356701a-fd68-4146-8f34-023a66edefbc" href="/pulls" data-view-component="true" class="ActionListContent ActionListContent--visual16">
        <span class="ActionListItem-visual ActionListItem-visual--leading">
          <svg aria-hidden="true" height="16" viewBox="0 0 16 16" version="1.1" width="16" data-view-component="true" class="octicon octicon-git-pull-request">
    <path d="M1.5 3.25a2.25 2.25 0 1 1 3 2.122v5.256a2.251 2.251 0 1 1-1.5 0V5.372A2.25 2.25 0 0 1 1.5 3.25Zm5.677-.177L9.573.677A.25.25 0 0 1 10 .854V2.5h1A2.5 2.5 0 0 1 13.5 5v5.628a2.251 2.251 0 1 1-1.5 0V5a1 1 0 0 0-1-1h-1v1.646a.25.25 0 0 1-.427.177L7.177 3.427a.25.25 0 0 1 0-.354ZM3.75 2.5a.75.75 0 1 0 0 1.5.75.75 0 0 0 0-1.5Zm0 9.5a.75.75 0 1 0 0 1.5.75.75 0 0 0 0-1.5Zm8.25.75a.75.75 0 1 0 1.5 0 .75.75 0 0 0-1.5 0Z"></path>
</svg>
        </span>
      
        <span data-view-component="true" class="ActionListItem-label">
          Pull requests
</span>      
</a>
  
</li>

        
          
<li data-item-id="" data-targets="nav-list.items" data-item-id="projects" data-view-component="true" class="ActionListItem">
    
    
    <a data-analytics-event="{&quot;category&quot;:&quot;Global navigation&quot;,&quot;action&quot;:&quot;PROJECTS&quot;,&quot;label&quot;:null}" id="item-5f450706-e777-4553-a03b-dfff93cd8f10" href="/projects" data-view-component="true" class="ActionListContent ActionListContent--visual16">
        <span class="ActionListItem-visual ActionListItem-visual--leading">
          <svg aria-hidden="true" height="16" viewBox="0 0 16 16" version="1.1" width="16" data-view-component="true" class="octicon octicon-table">
    <path d="M0 1.75C0 .784.784 0 1.75 0h12.5C15.216 0 16 .784 16 1.75v12.5A1.75 1.75 0 0 1 14.25 16H1.75A1.75 1.75 0 0 1 0 14.25ZM6.5 6.5v8h7.75a.25.25 0 0 0 .25-.25V6.5Zm8-1.5V1.75a.25.25 0 0 0-.25-.25H6.5V5Zm-13 1.5v7.75c0 .138.112.25.25.25H5v-8ZM5 5V1.5H1.75a.25.25 0 0 0-.25.25V5Z"></path>
</svg>
        </span>
      
        <span data-view-component="true" class="ActionListItem-label">
          Projects
</span>      
</a>
  
</li>

        
          
<li data-item-id="" data-targets="nav-list.items" data-view-component="true" class="ActionListItem">
    
    
    <a data-analytics-event="{&quot;category&quot;:&quot;Global navigation&quot;,&quot;action&quot;:&quot;DISCUSSIONS&quot;,&quot;label&quot;:null}" id="item-cc02da92-726c-4162-924d-47a6b76fd8d8" href="/discussions" data-view-component="true" class="ActionListContent ActionListContent--visual16">
        <span class="ActionListItem-visual ActionListItem-visual--leading">
          <svg aria-hidden="true" height="16" viewBox="0 0 16 16" version="1.1" width="16" data-view-component="true" class="octicon octicon-comment-discussion">
    <path d="M1.75 1h8.5c.966 0 1.75.784 1.75 1.75v5.5A1.75 1.75 0 0 1 10.25 10H7.061l-2.574 2.573A1.458 1.458 0 0 1 2 11.543V10h-.25A1.75 1.75 0 0 1 0 8.25v-5.5C0 1.784.784 1 1.75 1ZM1.5 2.75v5.5c0 .138.112.25.25.25h1a.75.75 0 0 1 .75.75v2.19l2.72-2.72a.749.749 0 0 1 .53-.22h3.5a.25.25 0 0 0 .25-.25v-5.5a.25.25 0 0 0-.25-.25h-8.5a.25.25 0 0 0-.25.25Zm13 2a.25.25 0 0 0-.25-.25h-.5a.75.75 0 0 1 0-1.5h.5c.966 0 1.75.784 1.75 1.75v5.5A1.75 1.75 0 0 1 14.25 12H14v1.543a1.458 1.458 0 0 1-2.487 1.03L9.22 12.28a.749.749 0 0 1 .326-1.275.749.749 0 0 1 .734.215l2.22 2.22v-2.19a.75.75 0 0 1 .75-.75h1a.25.25 0 0 0 .25-.25Z"></path>
</svg>
        </span>
      
        <span data-view-component="true" class="ActionListItem-label">
          Discussions
</span>      
</a>
  
</li>

        
          
<li data-item-id="" data-targets="nav-list.items" data-view-component="true" class="ActionListItem">
    
    
    <a data-analytics-event="{&quot;category&quot;:&quot;Global navigation&quot;,&quot;action&quot;:&quot;CODESPACES&quot;,&quot;label&quot;:null}" id="item-3702c767-d3b6-407a-b6eb-7bd18566c2df" href="https://github.com/codespaces" data-view-component="true" class="ActionListContent ActionListContent--visual16">
        <span class="ActionListItem-visual ActionListItem-visual--leading">
          <svg aria-hidden="true" height="16" viewBox="0 0 16 16" version="1.1" width="16" data-view-component="true" class="octicon octicon-codespaces">
    <path d="M0 11.25c0-.966.784-1.75 1.75-1.75h12.5c.966 0 1.75.784 1.75 1.75v3A1.75 1.75 0 0 1 14.25 16H1.75A1.75 1.75 0 0 1 0 14.25Zm2-9.5C2 .784 2.784 0 3.75 0h8.5C13.216 0 14 .784 14 1.75v5a1.75 1.75 0 0 1-1.75 1.75h-8.5A1.75 1.75 0 0 1 2 6.75Zm1.75-.25a.25.25 0 0 0-.25.25v5c0 .138.112.25.25.25h8.5a.25.25 0 0 0 .25-.25v-5a.25.25 0 0 0-.25-.25Zm-2 9.5a.25.25 0 0 0-.25.25v3c0 .138.112.25.25.25h12.5a.25.25 0 0 0 .25-.25v-3a.25.25 0 0 0-.25-.25Z"></path><path d="M7 12.75a.75.75 0 0 1 .75-.75h4.5a.75.75 0 0 1 0 1.5h-4.5a.75.75 0 0 1-.75-.75Zm-4 0a.75.75 0 0 1 .75-.75h.5a.75.75 0 0 1 0 1.5h-.5a.75.75 0 0 1-.75-.75Z"></path>
</svg>
        </span>
      
        <span data-view-component="true" class="ActionListItem-label">
          Codespaces
</span>      
</a>
  
</li>

        
          
<li data-item-id="" data-targets="nav-list.items" data-view-component="true" class="ActionListItem">
    
    
    <a data-analytics-event="{&quot;category&quot;:&quot;Global navigation&quot;,&quot;action&quot;:&quot;COPILOT&quot;,&quot;label&quot;:null}" id="item-2444f2e3-d1c0-4336-b6c4-548a516599d6" href="/copilot" data-view-component="true" class="ActionListContent ActionListContent--visual16">
        <span class="ActionListItem-visual ActionListItem-visual--leading">
          <svg aria-hidden="true" height="16" viewBox="0 0 16 16" version="1.1" width="16" data-view-component="true" class="octicon octicon-copilot">
    <path d="M7.998 15.035c-4.562 0-7.873-2.914-7.998-3.749V9.338c.085-.628.677-1.686 1.588-2.065.013-.07.024-.143.036-.218.029-.183.06-.384.126-.612-.201-.508-.254-1.084-.254-1.656 0-.87.128-1.769.693-2.484.579-.733 1.494-1.124 2.724-1.261 1.206-.134 2.262.034 2.944.765.05.053.096.108.139.165.044-.057.094-.112.143-.165.682-.731 1.738-.899 2.944-.765 1.23.137 2.145.528 2.724 1.261.566.715.693 1.614.693 2.484 0 .572-.053 1.148-.254 1.656.066.228.098.429.126.612.012.076.024.148.037.218.924.385 1.522 1.471 1.591 2.095v1.872c0 .766-3.351 3.795-8.002 3.795Zm0-1.485c2.28 0 4.584-1.11 5.002-1.433V7.862l-.023-.116c-.49.21-1.075.291-1.727.291-1.146 0-2.059-.327-2.71-.991A3.222 3.222 0 0 1 8 6.303a3.24 3.24 0 0 1-.544.743c-.65.664-1.563.991-2.71.991-.652 0-1.236-.081-1.727-.291l-.023.116v4.255c.419.323 2.722 1.433 5.002 1.433ZM6.762 2.83c-.193-.206-.637-.413-1.682-.297-1.019.113-1.479.404-1.713.7-.247.312-.369.789-.369 1.554 0 .793.129 1.171.308 1.371.162.181.519.379 1.442.379.853 0 1.339-.235 1.638-.54.315-.322.527-.827.617-1.553.117-.935-.037-1.395-.241-1.614Zm4.155-.297c-1.044-.116-1.488.091-1.681.297-.204.219-.359.679-.242 1.614.091.726.303 1.231.618 1.553.299.305.784.54 1.638.54.922 0 1.28-.198 1.442-.379.179-.2.308-.578.308-1.371 0-.765-.123-1.242-.37-1.554-.233-.296-.693-.587-1.713-.7Z"></path><path d="M6.25 9.037a.75.75 0 0 1 .75.75v1.501a.75.75 0 0 1-1.5 0V9.787a.75.75 0 0 1 .75-.75Zm4.25.75v1.501a.75.75 0 0 1-1.5 0V9.787a.75.75 0 0 1 1.5 0Z"></path>
</svg>
        </span>
      
        <span data-view-component="true" class="ActionListItem-label">
          Copilot
</span>      
</a>
  
</li>

        
          <li role="presentation" aria-hidden="true" data-view-component="true" class="ActionList-sectionDivider"></li>
        
          
<li data-item-id="" data-targets="nav-list.items" data-view-component="true" class="ActionListItem">
    
    
    <a data-analytics-event="{&quot;category&quot;:&quot;Global navigation&quot;,&quot;action&quot;:&quot;EXPLORE&quot;,&quot;label&quot;:null}" id="item-8d701971-b92c-4e55-a22f-a2d32cf80e44" href="/explore" data-view-component="true" class="ActionListContent ActionListContent--visual16">
        <span class="ActionListItem-visual ActionListItem-visual--leading">
          <svg aria-hidden="true" height="16" viewBox="0 0 16 16" version="1.1" width="16" data-view-component="true" class="octicon octicon-telescope">
    <path d="M14.184 1.143v-.001l1.422 2.464a1.75 1.75 0 0 1-.757 2.451L3.104 11.713a1.75 1.75 0 0 1-2.275-.702l-.447-.775a1.75 1.75 0 0 1 .53-2.32L11.682.573a1.748 1.748 0 0 1 2.502.57Zm-4.709 9.32h-.001l2.644 3.863a.75.75 0 1 1-1.238.848l-1.881-2.75v2.826a.75.75 0 0 1-1.5 0v-2.826l-1.881 2.75a.75.75 0 1 1-1.238-.848l2.049-2.992a.746.746 0 0 1 .293-.253l1.809-.87a.749.749 0 0 1 .944.252ZM9.436 3.92h-.001l-4.97 3.39.942 1.63 5.42-2.61Zm3.091-2.108h.001l-1.85 1.26 1.505 2.605 2.016-.97a.247.247 0 0 0 .13-.151.247.247 0 0 0-.022-.199l-1.422-2.464a.253.253 0 0 0-.161-.119.254.254 0 0 0-.197.038ZM1.756 9.157a.25.25 0 0 0-.075.33l.447.775a.25.25 0 0 0 .325.1l1.598-.769-.83-1.436-1.465 1Z"></path>
</svg>
        </span>
      
        <span data-view-component="true" class="ActionListItem-label">
          Explore
</span>      
</a>
  
</li>

        
          
<li data-item-id="" data-targets="nav-list.items" data-view-component="true" class="ActionListItem">
    
    
    <a data-analytics-event="{&quot;category&quot;:&quot;Global navigation&quot;,&quot;action&quot;:&quot;MARKETPLACE&quot;,&quot;label&quot;:null}" id="item-3362c8d9-96c0-4eb4-9e5f-b22e76ae38f2" href="/marketplace" data-view-component="true" class="ActionListContent ActionListContent--visual16">
        <span class="ActionListItem-visual ActionListItem-visual--leading">
          <svg aria-hidden="true" height="16" viewBox="0 0 16 16" version="1.1" width="16" data-view-component="true" class="octicon octicon-gift">
    <path d="M2 2.75A2.75 2.75 0 0 1 4.75 0c.983 0 1.873.42 2.57 1.232.268.318.497.668.68 1.042.183-.375.411-.725.68-1.044C9.376.42 10.266 0 11.25 0a2.75 2.75 0 0 1 2.45 4h.55c.966 0 1.75.784 1.75 1.75v2c0 .698-.409 1.301-1 1.582v4.918A1.75 1.75 0 0 1 13.25 16H2.75A1.75 1.75 0 0 1 1 14.25V9.332C.409 9.05 0 8.448 0 7.75v-2C0 4.784.784 4 1.75 4h.55c-.192-.375-.3-.8-.3-1.25ZM7.25 9.5H2.5v4.75c0 .138.112.25.25.25h4.5Zm1.5 0v5h4.5a.25.25 0 0 0 .25-.25V9.5Zm0-4V8h5.5a.25.25 0 0 0 .25-.25v-2a.25.25 0 0 0-.25-.25Zm-7 0a.25.25 0 0 0-.25.25v2c0 .138.112.25.25.25h5.5V5.5h-5.5Zm3-4a1.25 1.25 0 0 0 0 2.5h2.309c-.233-.818-.542-1.401-.878-1.793-.43-.502-.915-.707-1.431-.707ZM8.941 4h2.309a1.25 1.25 0 0 0 0-2.5c-.516 0-1 .205-1.43.707-.337.392-.646.975-.879 1.793Z"></path>
</svg>
        </span>
      
        <span data-view-component="true" class="ActionListItem-label">
          Marketplace
</span>      
</a>
  
</li>

</ul>  </nav-list>
</nav>

        <div data-view-component="true" class="my-3 d-flex flex-justify-center height-full">
          <span data-view-component="true">
  <svg style="box-sizing: content-box; color: var(--color-icon-primary);" width="16" height="16" viewBox="0 0 16 16" fill="none" aria-hidden="true" data-view-component="true" class="anim-rotate">
    <circle cx="8" cy="8" r="7" stroke="currentColor" stroke-opacity="0.25" stroke-width="2" vector-effect="non-scaling-stroke" fill="none" />
    <path d="M15 8a7.002 7.002 0 00-7-7" stroke="currentColor" stroke-width="2" stroke-linecap="round" vector-effect="non-scaling-stroke" />
</svg>    <span class="sr-only">Loading</span>
</span>
</div>
</div>
      <div data-view-component="true" class="flex-1"></div>


      <div data-view-component="true" class="px-2">      <p class="color-fg-subtle text-small text-light">&copy; 2025 GitHub, Inc.</p>

      <div data-view-component="true" class="d-flex flex-wrap text-small text-light">
          <a target="_blank" href="https://github.com/about" data-view-component="true" class="Link mr-2">About</a>
          <a target="_blank" href="https://github.blog" data-view-component="true" class="Link mr-2">Blog</a>
          <a target="_blank" href="https://docs.github.com/site-policy/github-terms/github-terms-of-service" data-view-component="true" class="Link mr-2">Terms</a>
          <a target="_blank" href="https://docs.github.com/site-policy/privacy-policies/github-privacy-statement" data-view-component="true" class="Link mr-2">Privacy</a>
          <a target="_blank" href="https://github.com/security" data-view-component="true" class="Link mr-2">Security</a>
          <a target="_blank" href="https://www.githubstatus.com/" data-view-component="true" class="Link mr-3">Status</a>

</div></div>
</div>
      </scrollable-region>
      
</dialog></dialog-helper>

  </include-fragment>
</deferred-side-panel>

        <a
          class="AppHeader-logo ml-1"
          href="https://github.com/"
          data-hotkey="g d"
          aria-label="Homepage "
          data-turbo="false"
          data-analytics-event="{&quot;category&quot;:&quot;Header&quot;,&quot;action&quot;:&quot;go to dashboard&quot;,&quot;label&quot;:&quot;icon:logo&quot;}"
        >
          <svg height="32" aria-hidden="true" viewBox="0 0 24 24" version="1.1" width="32" data-view-component="true" class="octicon octicon-mark-github v-align-middle">
    <path d="M12.5.75C6.146.75 1 5.896 1 12.25c0 5.089 3.292 9.387 7.863 10.91.575.101.79-.244.79-.546 0-.273-.014-1.178-.014-2.142-2.889.532-3.636-.704-3.866-1.35-.13-.331-.69-1.352-1.18-1.625-.402-.216-.977-.748-.014-.762.906-.014 1.553.834 1.769 1.179 1.035 1.74 2.688 1.25 3.349.948.1-.747.402-1.25.733-1.538-2.559-.287-5.232-1.279-5.232-5.678 0-1.25.445-2.285 1.178-3.09-.115-.288-.517-1.467.115-3.048 0 0 .963-.302 3.163 1.179.92-.259 1.897-.388 2.875-.388.977 0 1.955.13 2.875.388 2.2-1.495 3.162-1.179 3.162-1.179.633 1.581.23 2.76.115 3.048.733.805 1.179 1.825 1.179 3.09 0 4.413-2.688 5.39-5.247 5.678.417.36.776 1.05.776 2.128 0 1.538-.014 2.774-.014 3.162 0 .302.216.662.79.547C20.709 21.637 24 17.324 24 12.25 24 5.896 18.854.75 12.5.75Z"></path>
</svg>
        </a>

          <div class="AppHeader-context" >
  <div class="AppHeader-context-compact">
      <button aria-expanded="false" aria-haspopup="dialog" aria-label="Page context: ronakkjain77 / Stock-Price-Prediction" id="dialog-show-context-region-dialog" data-show-dialog-id="context-region-dialog" type="button" data-view-component="true" class="AppHeader-context-compact-trigger Truncate Button--secondary Button--medium Button box-shadow-none">  <span class="Button-content">
    <span class="Button-label"><span class="AppHeader-context-compact-lead">
                <span class="AppHeader-context-compact-parentItem">ronakkjain77</span>
                <span class="no-wrap">&nbsp;/</span>

            </span>

            <strong class="AppHeader-context-compact-mainItem d-flex flex-items-center Truncate" >
  <span class="Truncate-text ">Stock-Price-Prediction</span>

</strong></span>
  </span>
</button>

<dialog-helper>
  <dialog id="context-region-dialog" aria-modal="true" aria-labelledby="context-region-dialog-title" aria-describedby="context-region-dialog-description" data-view-component="true" class="Overlay Overlay-whenNarrow Overlay--size-medium Overlay--motion-scaleFade Overlay--disableScroll">
    <div data-view-component="true" class="Overlay-header">
  <div class="Overlay-headerContentWrap">
    <div class="Overlay-titleWrap">
      <h1 class="Overlay-title " id="context-region-dialog-title">
        Navigate back to
      </h1>
        
    </div>
    <div class="Overlay-actionWrap">
      <button data-close-dialog-id="context-region-dialog" aria-label="Close" type="button" data-view-component="true" class="close-button Overlay-closeButton"><svg aria-hidden="true" height="16" viewBox="0 0 16 16" version="1.1" width="16" data-view-component="true" class="octicon octicon-x">
    <path d="M3.72 3.72a.75.75 0 0 1 1.06 0L8 6.94l3.22-3.22a.749.749 0 0 1 1.275.326.749.749 0 0 1-.215.734L9.06 8l3.22 3.22a.749.749 0 0 1-.326 1.275.749.749 0 0 1-.734-.215L8 9.06l-3.22 3.22a.751.751 0 0 1-1.042-.018.751.751 0 0 1-.018-1.042L6.94 8 3.72 4.78a.75.75 0 0 1 0-1.06Z"></path>
</svg></button>
    </div>
  </div>
  
</div>
      <scrollable-region data-labelled-by="context-region-dialog-title">
        <div data-view-component="true" class="Overlay-body">          <ul role="list" class="list-style-none" >
    <li>
      <a data-analytics-event="{&quot;category&quot;:&quot;SiteHeaderComponent&quot;,&quot;action&quot;:&quot;context_region_crumb&quot;,&quot;label&quot;:&quot;ronakkjain77&quot;,&quot;screen_size&quot;:&quot;compact&quot;}" href="/ronakkjain77" data-view-component="true" class="Link--primary Truncate d-flex flex-items-center py-1">
        <span class="AppHeader-context-item-label Truncate-text ">
            <svg aria-hidden="true" height="12" viewBox="0 0 16 16" version="1.1" width="12" data-view-component="true" class="octicon octicon-person mr-1">
    <path d="M10.561 8.073a6.005 6.005 0 0 1 3.432 5.142.75.75 0 1 1-1.498.07 4.5 4.5 0 0 0-8.99 0 .75.75 0 0 1-1.498-.07 6.004 6.004 0 0 1 3.431-5.142 3.999 3.999 0 1 1 5.123 0ZM10.5 5a2.5 2.5 0 1 0-5 0 2.5 2.5 0 0 0 5 0Z"></path>
</svg>

          ronakkjain77
        </span>

</a>
    </li>
    <li>
      <a data-analytics-event="{&quot;category&quot;:&quot;SiteHeaderComponent&quot;,&quot;action&quot;:&quot;context_region_crumb&quot;,&quot;label&quot;:&quot;Stock-Price-Prediction&quot;,&quot;screen_size&quot;:&quot;compact&quot;}" href="/ronakkjain77/Stock-Price-Prediction" data-view-component="true" class="Link--primary Truncate d-flex flex-items-center py-1">
        <span class="AppHeader-context-item-label Truncate-text ">
            <svg aria-hidden="true" height="12" viewBox="0 0 16 16" version="1.1" width="12" data-view-component="true" class="octicon octicon-repo mr-1">
    <path d="M2 2.5A2.5 2.5 0 0 1 4.5 0h8.75a.75.75 0 0 1 .75.75v12.5a.75.75 0 0 1-.75.75h-2.5a.75.75 0 0 1 0-1.5h1.75v-2h-8a1 1 0 0 0-.714 1.7.75.75 0 1 1-1.072 1.05A2.495 2.495 0 0 1 2 11.5Zm10.5-1h-8a1 1 0 0 0-1 1v6.708A2.486 2.486 0 0 1 4.5 9h8ZM5 12.25a.25.25 0 0 1 .25-.25h3.5a.25.25 0 0 1 .25.25v3.25a.25.25 0 0 1-.4.2l-1.45-1.087a.249.249 0 0 0-.3 0L5.4 15.7a.25.25 0 0 1-.4-.2Z"></path>
</svg>

          Stock-Price-Prediction
        </span>

</a>
    </li>
</ul>

</div>
      </scrollable-region>
      
</dialog></dialog-helper>
  </div>

  <div class="AppHeader-context-full">
    <nav role="navigation" aria-label="Page context">
      <ul role="list" class="list-style-none" >
    <li>
      <a data-analytics-event="{&quot;category&quot;:&quot;SiteHeaderComponent&quot;,&quot;action&quot;:&quot;context_region_crumb&quot;,&quot;label&quot;:&quot;ronakkjain77&quot;,&quot;screen_size&quot;:&quot;full&quot;}" data-hovercard-type="user" data-hovercard-url="/users/ronakkjain77/hovercard" data-octo-click="hovercard-link-click" data-octo-dimensions="link_type:self" href="/ronakkjain77" data-view-component="true" class="AppHeader-context-item">
        <span class="AppHeader-context-item-label  ">

          ronakkjain77
        </span>

</a>
        <span class="AppHeader-context-item-separator">
          <span class='sr-only'>/</span>
          <svg width="16" height="16" viewBox="0 0 16 16" xmlns="http://www.w3.org/2000/svg" aria-hidden="true">
            <path d="M10.956 1.27994L6.06418 14.7201L5 14.7201L9.89181 1.27994L10.956 1.27994Z" fill="currentcolor"/>
          </svg>
        </span>
    </li>
    <li>
      <a data-analytics-event="{&quot;category&quot;:&quot;SiteHeaderComponent&quot;,&quot;action&quot;:&quot;context_region_crumb&quot;,&quot;label&quot;:&quot;Stock-Price-Prediction&quot;,&quot;screen_size&quot;:&quot;full&quot;}" href="/ronakkjain77/Stock-Price-Prediction" data-view-component="true" class="AppHeader-context-item">
        <span class="AppHeader-context-item-label  ">

          Stock-Price-Prediction
        </span>

</a>
    </li>
</ul>

    </nav>
  </div>
</div>

      </div>
      <div class="AppHeader-globalBar-end">
          <div class="AppHeader-search" >
              


<qbsearch-input class="search-input" data-scope="repo:ronakkjain77/Stock-Price-Prediction" data-custom-scopes-path="/search/custom_scopes" data-delete-custom-scopes-csrf="knFnUy5cBZN2DiEhQCFpZXAAPuiKiD1Kdi8x8UOg1qV9yIbDslxardWY_HJqzc7FZJxVCo-3kM-uHZwfTUaJIw" data-max-custom-scopes="10" data-header-redesign-enabled="true" data-initial-value="" data-blackbird-suggestions-path="/search/suggestions" data-jump-to-suggestions-path="/_graphql/GetSuggestedNavigationDestinations" data-current-repository="ronakkjain77/Stock-Price-Prediction" data-current-org="" data-current-owner="ronakkjain77" data-logged-in="true" data-copilot-chat-enabled="true" data-nl-search-enabled="false">
  <div
    class="search-input-container search-with-dialog position-relative d-flex flex-row flex-items-center height-auto color-bg-transparent border-0 color-fg-subtle mx-0"
    data-action="click:qbsearch-input#searchInputContainerClicked"
  >
      
            <button type="button" data-action="click:qbsearch-input#handleExpand" class="AppHeader-button AppHeader-search-whenNarrow" aria-label="Search or jump to…" aria-expanded="false" aria-haspopup="dialog">
            <svg aria-hidden="true" height="16" viewBox="0 0 16 16" version="1.1" width="16" data-view-component="true" class="octicon octicon-search">
    <path d="M10.68 11.74a6 6 0 0 1-7.922-8.982 6 6 0 0 1 8.982 7.922l3.04 3.04a.749.749 0 0 1-.326 1.275.749.749 0 0 1-.734-.215ZM11.5 7a4.499 4.499 0 1 0-8.997 0A4.499 4.499 0 0 0 11.5 7Z"></path>
</svg>
          </button>


<div class="AppHeader-search-whenRegular">
  <div class="AppHeader-search-wrap AppHeader-search-wrap--hasTrailing">
    <div class="AppHeader-search-control">
      <label
        for="AppHeader-searchInput"
        aria-label="Search or jump to…"
        class="AppHeader-search-visual--leading"
      >
        <svg aria-hidden="true" height="16" viewBox="0 0 16 16" version="1.1" width="16" data-view-component="true" class="octicon octicon-search">
    <path d="M10.68 11.74a6 6 0 0 1-7.922-8.982 6 6 0 0 1 8.982 7.922l3.04 3.04a.749.749 0 0 1-.326 1.275.749.749 0 0 1-.734-.215ZM11.5 7a4.499 4.499 0 1 0-8.997 0A4.499 4.499 0 0 0 11.5 7Z"></path>
</svg>
      </label>

                <button
            type="button"
            data-target="qbsearch-input.inputButton"
            data-action="click:qbsearch-input#handleExpand"
            class="AppHeader-searchButton form-control input-contrast text-left color-fg-subtle no-wrap"
            data-hotkey="s,/"
            data-analytics-event="{&quot;location&quot;:&quot;navbar&quot;,&quot;action&quot;:&quot;searchbar&quot;,&quot;context&quot;:&quot;global&quot;,&quot;tag&quot;:&quot;input&quot;,&quot;label&quot;:&quot;searchbar_input_global_navbar&quot;}"
            aria-describedby="search-error-message-flash"
          >
            <div class="overflow-hidden">
              <span id="qb-input-query" data-target="qbsearch-input.inputButtonText">
                  Type <kbd class="AppHeader-search-kbd">/</kbd> to search
              </span>
            </div>
          </button>

    </div>


  </div>
</div>

    <input type="hidden" name="type" class="js-site-search-type-field">

    
<div class="Overlay--hidden " data-modal-dialog-overlay>
  <modal-dialog data-action="close:qbsearch-input#handleClose cancel:qbsearch-input#handleClose" data-target="qbsearch-input.searchSuggestionsDialog" role="dialog" id="search-suggestions-dialog" aria-modal="true" aria-labelledby="search-suggestions-dialog-header" data-view-component="true" class="Overlay Overlay--width-medium Overlay--height-auto">
      <h1 id="search-suggestions-dialog-header" class="sr-only">Search code, repositories, users, issues, pull requests...</h1>
    <div class="Overlay-body Overlay-body--paddingNone">
      
          <div data-view-component="true">        <div class="search-suggestions position-absolute width-full color-shadow-large border color-fg-default color-bg-default overflow-hidden d-flex flex-column query-builder-container"
          style="border-radius: 12px;"
          data-target="qbsearch-input.queryBuilderContainer"
          hidden
        >
          <!-- '"` --><!-- </textarea></xmp> --></option></form><form id="query-builder-test-form" action="" accept-charset="UTF-8" method="get">
  <query-builder data-target="qbsearch-input.queryBuilder" id="query-builder-query-builder-test" data-filter-key=":" data-view-component="true" class="QueryBuilder search-query-builder">
    <div class="FormControl FormControl--fullWidth">
      <label id="query-builder-test-label" for="query-builder-test" class="FormControl-label sr-only">
        Search
      </label>
      <div
        class="QueryBuilder-StyledInput width-fit "
        data-target="query-builder.styledInput"
      >
          <span id="query-builder-test-leadingvisual-wrap" class="FormControl-input-leadingVisualWrap QueryBuilder-leadingVisualWrap">
            <svg aria-hidden="true" height="16" viewBox="0 0 16 16" version="1.1" width="16" data-view-component="true" class="octicon octicon-search FormControl-input-leadingVisual">
    <path d="M10.68 11.74a6 6 0 0 1-7.922-8.982 6 6 0 0 1 8.982 7.922l3.04 3.04a.749.749 0 0 1-.326 1.275.749.749 0 0 1-.734-.215ZM11.5 7a4.499 4.499 0 1 0-8.997 0A4.499 4.499 0 0 0 11.5 7Z"></path>
</svg>
          </span>
        <div data-target="query-builder.styledInputContainer" class="QueryBuilder-StyledInputContainer">
          <div
            aria-hidden="true"
            class="QueryBuilder-StyledInputContent"
            data-target="query-builder.styledInputContent"
          ></div>
          <div class="QueryBuilder-InputWrapper">
            <div aria-hidden="true" class="QueryBuilder-Sizer" data-target="query-builder.sizer"></div>
            <input id="query-builder-test" name="query-builder-test" value="" autocomplete="off" type="text" role="combobox" spellcheck="false" aria-expanded="false" aria-describedby="validation-721f8eb1-ccdd-4bff-9a7d-9b7782e7294a" data-target="query-builder.input" data-action="
          input:query-builder#inputChange
          blur:query-builder#inputBlur
          keydown:query-builder#inputKeydown
          focus:query-builder#inputFocus
        " data-view-component="true" class="FormControl-input QueryBuilder-Input FormControl-medium" />
          </div>
        </div>
          <span class="sr-only" id="query-builder-test-clear">Clear</span>
          <button role="button" id="query-builder-test-clear-button" aria-labelledby="query-builder-test-clear query-builder-test-label" data-target="query-builder.clearButton" data-action="
                click:query-builder#clear
                focus:query-builder#clearButtonFocus
                blur:query-builder#clearButtonBlur
              " variant="small" hidden="hidden" type="button" data-view-component="true" class="Button Button--iconOnly Button--invisible Button--medium mr-1 px-2 py-0 d-flex flex-items-center rounded-1 color-fg-muted">  <svg aria-hidden="true" height="16" viewBox="0 0 16 16" version="1.1" width="16" data-view-component="true" class="octicon octicon-x-circle-fill Button-visual">
    <path d="M2.343 13.657A8 8 0 1 1 13.658 2.343 8 8 0 0 1 2.343 13.657ZM6.03 4.97a.751.751 0 0 0-1.042.018.751.751 0 0 0-.018 1.042L6.94 8 4.97 9.97a.749.749 0 0 0 .326 1.275.749.749 0 0 0 .734-.215L8 9.06l1.97 1.97a.749.749 0 0 0 1.275-.326.749.749 0 0 0-.215-.734L9.06 8l1.97-1.97a.749.749 0 0 0-.326-1.275.749.749 0 0 0-.734.215L8 6.94Z"></path>
</svg>
</button>

      </div>
      <template id="search-icon">
  <svg aria-hidden="true" height="16" viewBox="0 0 16 16" version="1.1" width="16" data-view-component="true" class="octicon octicon-search">
    <path d="M10.68 11.74a6 6 0 0 1-7.922-8.982 6 6 0 0 1 8.982 7.922l3.04 3.04a.749.749 0 0 1-.326 1.275.749.749 0 0 1-.734-.215ZM11.5 7a4.499 4.499 0 1 0-8.997 0A4.499 4.499 0 0 0 11.5 7Z"></path>
</svg>
</template>

<template id="code-icon">
  <svg aria-hidden="true" height="16" viewBox="0 0 16 16" version="1.1" width="16" data-view-component="true" class="octicon octicon-code">
    <path d="m11.28 3.22 4.25 4.25a.75.75 0 0 1 0 1.06l-4.25 4.25a.749.749 0 0 1-1.275-.326.749.749 0 0 1 .215-.734L13.94 8l-3.72-3.72a.749.749 0 0 1 .326-1.275.749.749 0 0 1 .734.215Zm-6.56 0a.751.751 0 0 1 1.042.018.751.751 0 0 1 .018 1.042L2.06 8l3.72 3.72a.749.749 0 0 1-.326 1.275.749.749 0 0 1-.734-.215L.47 8.53a.75.75 0 0 1 0-1.06Z"></path>
</svg>
</template>

<template id="file-code-icon">
  <svg aria-hidden="true" height="16" viewBox="0 0 16 16" version="1.1" width="16" data-view-component="true" class="octicon octicon-file-code">
    <path d="M4 1.75C4 .784 4.784 0 5.75 0h5.586c.464 0 .909.184 1.237.513l2.914 2.914c.329.328.513.773.513 1.237v8.586A1.75 1.75 0 0 1 14.25 15h-9a.75.75 0 0 1 0-1.5h9a.25.25 0 0 0 .25-.25V6h-2.75A1.75 1.75 0 0 1 10 4.25V1.5H5.75a.25.25 0 0 0-.25.25v2.5a.75.75 0 0 1-1.5 0Zm1.72 4.97a.75.75 0 0 1 1.06 0l2 2a.75.75 0 0 1 0 1.06l-2 2a.749.749 0 0 1-1.275-.326.749.749 0 0 1 .215-.734l1.47-1.47-1.47-1.47a.75.75 0 0 1 0-1.06ZM3.28 7.78 1.81 9.25l1.47 1.47a.751.751 0 0 1-.018 1.042.751.751 0 0 1-1.042.018l-2-2a.75.75 0 0 1 0-1.06l2-2a.751.751 0 0 1 1.042.018.751.751 0 0 1 .018 1.042Zm8.22-6.218V4.25c0 .138.112.25.25.25h2.688l-.011-.013-2.914-2.914-.013-.011Z"></path>
</svg>
</template>

<template id="history-icon">
  <svg aria-hidden="true" height="16" viewBox="0 0 16 16" version="1.1" width="16" data-view-component="true" class="octicon octicon-history">
    <path d="m.427 1.927 1.215 1.215a8.002 8.002 0 1 1-1.6 5.685.75.75 0 1 1 1.493-.154 6.5 6.5 0 1 0 1.18-4.458l1.358 1.358A.25.25 0 0 1 3.896 6H.25A.25.25 0 0 1 0 5.75V2.104a.25.25 0 0 1 .427-.177ZM7.75 4a.75.75 0 0 1 .75.75v2.992l2.028.812a.75.75 0 0 1-.557 1.392l-2.5-1A.751.751 0 0 1 7 8.25v-3.5A.75.75 0 0 1 7.75 4Z"></path>
</svg>
</template>

<template id="repo-icon">
  <svg aria-hidden="true" height="16" viewBox="0 0 16 16" version="1.1" width="16" data-view-component="true" class="octicon octicon-repo">
    <path d="M2 2.5A2.5 2.5 0 0 1 4.5 0h8.75a.75.75 0 0 1 .75.75v12.5a.75.75 0 0 1-.75.75h-2.5a.75.75 0 0 1 0-1.5h1.75v-2h-8a1 1 0 0 0-.714 1.7.75.75 0 1 1-1.072 1.05A2.495 2.495 0 0 1 2 11.5Zm10.5-1h-8a1 1 0 0 0-1 1v6.708A2.486 2.486 0 0 1 4.5 9h8ZM5 12.25a.25.25 0 0 1 .25-.25h3.5a.25.25 0 0 1 .25.25v3.25a.25.25 0 0 1-.4.2l-1.45-1.087a.249.249 0 0 0-.3 0L5.4 15.7a.25.25 0 0 1-.4-.2Z"></path>
</svg>
</template>

<template id="bookmark-icon">
  <svg aria-hidden="true" height="16" viewBox="0 0 16 16" version="1.1" width="16" data-view-component="true" class="octicon octicon-bookmark">
    <path d="M3 2.75C3 1.784 3.784 1 4.75 1h6.5c.966 0 1.75.784 1.75 1.75v11.5a.75.75 0 0 1-1.227.579L8 11.722l-3.773 3.107A.751.751 0 0 1 3 14.25Zm1.75-.25a.25.25 0 0 0-.25.25v9.91l3.023-2.489a.75.75 0 0 1 .954 0l3.023 2.49V2.75a.25.25 0 0 0-.25-.25Z"></path>
</svg>
</template>

<template id="plus-circle-icon">
  <svg aria-hidden="true" height="16" viewBox="0 0 16 16" version="1.1" width="16" data-view-component="true" class="octicon octicon-plus-circle">
    <path d="M8 0a8 8 0 1 1 0 16A8 8 0 0 1 8 0ZM1.5 8a6.5 6.5 0 1 0 13 0 6.5 6.5 0 0 0-13 0Zm7.25-3.25v2.5h2.5a.75.75 0 0 1 0 1.5h-2.5v2.5a.75.75 0 0 1-1.5 0v-2.5h-2.5a.75.75 0 0 1 0-1.5h2.5v-2.5a.75.75 0 0 1 1.5 0Z"></path>
</svg>
</template>

<template id="circle-icon">
  <svg aria-hidden="true" height="16" viewBox="0 0 16 16" version="1.1" width="16" data-view-component="true" class="octicon octicon-dot-fill">
    <path d="M8 4a4 4 0 1 1 0 8 4 4 0 0 1 0-8Z"></path>
</svg>
</template>

<template id="trash-icon">
  <svg aria-hidden="true" height="16" viewBox="0 0 16 16" version="1.1" width="16" data-view-component="true" class="octicon octicon-trash">
    <path d="M11 1.75V3h2.25a.75.75 0 0 1 0 1.5H2.75a.75.75 0 0 1 0-1.5H5V1.75C5 .784 5.784 0 6.75 0h2.5C10.216 0 11 .784 11 1.75ZM4.496 6.675l.66 6.6a.25.25 0 0 0 .249.225h5.19a.25.25 0 0 0 .249-.225l.66-6.6a.75.75 0 0 1 1.492.149l-.66 6.6A1.748 1.748 0 0 1 10.595 15h-5.19a1.75 1.75 0 0 1-1.741-1.575l-.66-6.6a.75.75 0 1 1 1.492-.15ZM6.5 1.75V3h3V1.75a.25.25 0 0 0-.25-.25h-2.5a.25.25 0 0 0-.25.25Z"></path>
</svg>
</template>

<template id="team-icon">
  <svg aria-hidden="true" height="16" viewBox="0 0 16 16" version="1.1" width="16" data-view-component="true" class="octicon octicon-people">
    <path d="M2 5.5a3.5 3.5 0 1 1 5.898 2.549 5.508 5.508 0 0 1 3.034 4.084.75.75 0 1 1-1.482.235 4 4 0 0 0-7.9 0 .75.75 0 0 1-1.482-.236A5.507 5.507 0 0 1 3.102 8.05 3.493 3.493 0 0 1 2 5.5ZM11 4a3.001 3.001 0 0 1 2.22 5.018 5.01 5.01 0 0 1 2.56 3.012.749.749 0 0 1-.885.954.752.752 0 0 1-.549-.514 3.507 3.507 0 0 0-2.522-2.372.75.75 0 0 1-.574-.73v-.352a.75.75 0 0 1 .416-.672A1.5 1.5 0 0 0 11 5.5.75.75 0 0 1 11 4Zm-5.5-.5a2 2 0 1 0-.001 3.999A2 2 0 0 0 5.5 3.5Z"></path>
</svg>
</template>

<template id="project-icon">
  <svg aria-hidden="true" height="16" viewBox="0 0 16 16" version="1.1" width="16" data-view-component="true" class="octicon octicon-project">
    <path d="M1.75 0h12.5C15.216 0 16 .784 16 1.75v12.5A1.75 1.75 0 0 1 14.25 16H1.75A1.75 1.75 0 0 1 0 14.25V1.75C0 .784.784 0 1.75 0ZM1.5 1.75v12.5c0 .138.112.25.25.25h12.5a.25.25 0 0 0 .25-.25V1.75a.25.25 0 0 0-.25-.25H1.75a.25.25 0 0 0-.25.25ZM11.75 3a.75.75 0 0 1 .75.75v7.5a.75.75 0 0 1-1.5 0v-7.5a.75.75 0 0 1 .75-.75Zm-8.25.75a.75.75 0 0 1 1.5 0v5.5a.75.75 0 0 1-1.5 0ZM8 3a.75.75 0 0 1 .75.75v3.5a.75.75 0 0 1-1.5 0v-3.5A.75.75 0 0 1 8 3Z"></path>
</svg>
</template>

<template id="pencil-icon">
  <svg aria-hidden="true" height="16" viewBox="0 0 16 16" version="1.1" width="16" data-view-component="true" class="octicon octicon-pencil">
    <path d="M11.013 1.427a1.75 1.75 0 0 1 2.474 0l1.086 1.086a1.75 1.75 0 0 1 0 2.474l-8.61 8.61c-.21.21-.47.364-.756.445l-3.251.93a.75.75 0 0 1-.927-.928l.929-3.25c.081-.286.235-.547.445-.758l8.61-8.61Zm.176 4.823L9.75 4.81l-6.286 6.287a.253.253 0 0 0-.064.108l-.558 1.953 1.953-.558a.253.253 0 0 0 .108-.064Zm1.238-3.763a.25.25 0 0 0-.354 0L10.811 3.75l1.439 1.44 1.263-1.263a.25.25 0 0 0 0-.354Z"></path>
</svg>
</template>

<template id="copilot-icon">
  <svg aria-hidden="true" height="16" viewBox="0 0 16 16" version="1.1" width="16" data-view-component="true" class="octicon octicon-copilot">
    <path d="M7.998 15.035c-4.562 0-7.873-2.914-7.998-3.749V9.338c.085-.628.677-1.686 1.588-2.065.013-.07.024-.143.036-.218.029-.183.06-.384.126-.612-.201-.508-.254-1.084-.254-1.656 0-.87.128-1.769.693-2.484.579-.733 1.494-1.124 2.724-1.261 1.206-.134 2.262.034 2.944.765.05.053.096.108.139.165.044-.057.094-.112.143-.165.682-.731 1.738-.899 2.944-.765 1.23.137 2.145.528 2.724 1.261.566.715.693 1.614.693 2.484 0 .572-.053 1.148-.254 1.656.066.228.098.429.126.612.012.076.024.148.037.218.924.385 1.522 1.471 1.591 2.095v1.872c0 .766-3.351 3.795-8.002 3.795Zm0-1.485c2.28 0 4.584-1.11 5.002-1.433V7.862l-.023-.116c-.49.21-1.075.291-1.727.291-1.146 0-2.059-.327-2.71-.991A3.222 3.222 0 0 1 8 6.303a3.24 3.24 0 0 1-.544.743c-.65.664-1.563.991-2.71.991-.652 0-1.236-.081-1.727-.291l-.023.116v4.255c.419.323 2.722 1.433 5.002 1.433ZM6.762 2.83c-.193-.206-.637-.413-1.682-.297-1.019.113-1.479.404-1.713.7-.247.312-.369.789-.369 1.554 0 .793.129 1.171.308 1.371.162.181.519.379 1.442.379.853 0 1.339-.235 1.638-.54.315-.322.527-.827.617-1.553.117-.935-.037-1.395-.241-1.614Zm4.155-.297c-1.044-.116-1.488.091-1.681.297-.204.219-.359.679-.242 1.614.091.726.303 1.231.618 1.553.299.305.784.54 1.638.54.922 0 1.28-.198 1.442-.379.179-.2.308-.578.308-1.371 0-.765-.123-1.242-.37-1.554-.233-.296-.693-.587-1.713-.7Z"></path><path d="M6.25 9.037a.75.75 0 0 1 .75.75v1.501a.75.75 0 0 1-1.5 0V9.787a.75.75 0 0 1 .75-.75Zm4.25.75v1.501a.75.75 0 0 1-1.5 0V9.787a.75.75 0 0 1 1.5 0Z"></path>
</svg>
</template>

<template id="copilot-error-icon">
  <svg aria-hidden="true" height="16" viewBox="0 0 16 16" version="1.1" width="16" data-view-component="true" class="octicon octicon-copilot-error">
    <path d="M16 11.24c0 .112-.072.274-.21.467L13 9.688V7.862l-.023-.116c-.49.21-1.075.291-1.727.291-.198 0-.388-.009-.571-.029L6.833 5.226a4.01 4.01 0 0 0 .17-.782c.117-.935-.037-1.395-.241-1.614-.193-.206-.637-.413-1.682-.297-.683.076-1.115.231-1.395.415l-1.257-.91c.579-.564 1.413-.877 2.485-.996 1.206-.134 2.262.034 2.944.765.05.053.096.108.139.165.044-.057.094-.112.143-.165.682-.731 1.738-.899 2.944-.765 1.23.137 2.145.528 2.724 1.261.566.715.693 1.614.693 2.484 0 .572-.053 1.148-.254 1.656.066.228.098.429.126.612.012.076.024.148.037.218.924.385 1.522 1.471 1.591 2.095Zm-5.083-8.707c-1.044-.116-1.488.091-1.681.297-.204.219-.359.679-.242 1.614.091.726.303 1.231.618 1.553.299.305.784.54 1.638.54.922 0 1.28-.198 1.442-.379.179-.2.308-.578.308-1.371 0-.765-.123-1.242-.37-1.554-.233-.296-.693-.587-1.713-.7Zm2.511 11.074c-1.393.776-3.272 1.428-5.43 1.428-4.562 0-7.873-2.914-7.998-3.749V9.338c.085-.628.677-1.686 1.588-2.065.013-.07.024-.143.036-.218.029-.183.06-.384.126-.612-.18-.455-.241-.963-.252-1.475L.31 4.107A.747.747 0 0 1 0 3.509V3.49a.748.748 0 0 1 .625-.73c.156-.026.306.047.435.139l14.667 10.578a.592.592 0 0 1 .227.264.752.752 0 0 1 .046.249v.022a.75.75 0 0 1-1.19.596Zm-1.367-.991L5.635 7.964a5.128 5.128 0 0 1-.889.073c-.652 0-1.236-.081-1.727-.291l-.023.116v4.255c.419.323 2.722 1.433 5.002 1.433 1.539 0 3.089-.505 4.063-.934Z"></path>
</svg>
</template>

<template id="workflow-icon">
  <svg aria-hidden="true" height="16" viewBox="0 0 16 16" version="1.1" width="16" data-view-component="true" class="octicon octicon-workflow">
    <path d="M0 1.75C0 .784.784 0 1.75 0h3.5C6.216 0 7 .784 7 1.75v3.5A1.75 1.75 0 0 1 5.25 7H4v4a1 1 0 0 0 1 1h4v-1.25C9 9.784 9.784 9 10.75 9h3.5c.966 0 1.75.784 1.75 1.75v3.5A1.75 1.75 0 0 1 14.25 16h-3.5A1.75 1.75 0 0 1 9 14.25v-.75H5A2.5 2.5 0 0 1 2.5 11V7h-.75A1.75 1.75 0 0 1 0 5.25Zm1.75-.25a.25.25 0 0 0-.25.25v3.5c0 .138.112.25.25.25h3.5a.25.25 0 0 0 .25-.25v-3.5a.25.25 0 0 0-.25-.25Zm9 9a.25.25 0 0 0-.25.25v3.5c0 .138.112.25.25.25h3.5a.25.25 0 0 0 .25-.25v-3.5a.25.25 0 0 0-.25-.25Z"></path>
</svg>
</template>

<template id="book-icon">
  <svg aria-hidden="true" height="16" viewBox="0 0 16 16" version="1.1" width="16" data-view-component="true" class="octicon octicon-book">
    <path d="M0 1.75A.75.75 0 0 1 .75 1h4.253c1.227 0 2.317.59 3 1.501A3.743 3.743 0 0 1 11.006 1h4.245a.75.75 0 0 1 .75.75v10.5a.75.75 0 0 1-.75.75h-4.507a2.25 2.25 0 0 0-1.591.659l-.622.621a.75.75 0 0 1-1.06 0l-.622-.621A2.25 2.25 0 0 0 5.258 13H.75a.75.75 0 0 1-.75-.75Zm7.251 10.324.004-5.073-.002-2.253A2.25 2.25 0 0 0 5.003 2.5H1.5v9h3.757a3.75 3.75 0 0 1 1.994.574ZM8.755 4.75l-.004 7.322a3.752 3.752 0 0 1 1.992-.572H14.5v-9h-3.495a2.25 2.25 0 0 0-2.25 2.25Z"></path>
</svg>
</template>

<template id="code-review-icon">
  <svg aria-hidden="true" height="16" viewBox="0 0 16 16" version="1.1" width="16" data-view-component="true" class="octicon octicon-code-review">
    <path d="M1.75 1h12.5c.966 0 1.75.784 1.75 1.75v8.5A1.75 1.75 0 0 1 14.25 13H8.061l-2.574 2.573A1.458 1.458 0 0 1 3 14.543V13H1.75A1.75 1.75 0 0 1 0 11.25v-8.5C0 1.784.784 1 1.75 1ZM1.5 2.75v8.5c0 .138.112.25.25.25h2a.75.75 0 0 1 .75.75v2.19l2.72-2.72a.749.749 0 0 1 .53-.22h6.5a.25.25 0 0 0 .25-.25v-8.5a.25.25 0 0 0-.25-.25H1.75a.25.25 0 0 0-.25.25Zm5.28 1.72a.75.75 0 0 1 0 1.06L5.31 7l1.47 1.47a.751.751 0 0 1-.018 1.042.751.751 0 0 1-1.042.018l-2-2a.75.75 0 0 1 0-1.06l2-2a.75.75 0 0 1 1.06 0Zm2.44 0a.75.75 0 0 1 1.06 0l2 2a.75.75 0 0 1 0 1.06l-2 2a.751.751 0 0 1-1.042-.018.751.751 0 0 1-.018-1.042L10.69 7 9.22 5.53a.75.75 0 0 1 0-1.06Z"></path>
</svg>
</template>

<template id="codespaces-icon">
  <svg aria-hidden="true" height="16" viewBox="0 0 16 16" version="1.1" width="16" data-view-component="true" class="octicon octicon-codespaces">
    <path d="M0 11.25c0-.966.784-1.75 1.75-1.75h12.5c.966 0 1.75.784 1.75 1.75v3A1.75 1.75 0 0 1 14.25 16H1.75A1.75 1.75 0 0 1 0 14.25Zm2-9.5C2 .784 2.784 0 3.75 0h8.5C13.216 0 14 .784 14 1.75v5a1.75 1.75 0 0 1-1.75 1.75h-8.5A1.75 1.75 0 0 1 2 6.75Zm1.75-.25a.25.25 0 0 0-.25.25v5c0 .138.112.25.25.25h8.5a.25.25 0 0 0 .25-.25v-5a.25.25 0 0 0-.25-.25Zm-2 9.5a.25.25 0 0 0-.25.25v3c0 .138.112.25.25.25h12.5a.25.25 0 0 0 .25-.25v-3a.25.25 0 0 0-.25-.25Z"></path><path d="M7 12.75a.75.75 0 0 1 .75-.75h4.5a.75.75 0 0 1 0 1.5h-4.5a.75.75 0 0 1-.75-.75Zm-4 0a.75.75 0 0 1 .75-.75h.5a.75.75 0 0 1 0 1.5h-.5a.75.75 0 0 1-.75-.75Z"></path>
</svg>
</template>

<template id="comment-icon">
  <svg aria-hidden="true" height="16" viewBox="0 0 16 16" version="1.1" width="16" data-view-component="true" class="octicon octicon-comment">
    <path d="M1 2.75C1 1.784 1.784 1 2.75 1h10.5c.966 0 1.75.784 1.75 1.75v7.5A1.75 1.75 0 0 1 13.25 12H9.06l-2.573 2.573A1.458 1.458 0 0 1 4 13.543V12H2.75A1.75 1.75 0 0 1 1 10.25Zm1.75-.25a.25.25 0 0 0-.25.25v7.5c0 .138.112.25.25.25h2a.75.75 0 0 1 .75.75v2.19l2.72-2.72a.749.749 0 0 1 .53-.22h4.5a.25.25 0 0 0 .25-.25v-7.5a.25.25 0 0 0-.25-.25Z"></path>
</svg>
</template>

<template id="comment-discussion-icon">
  <svg aria-hidden="true" height="16" viewBox="0 0 16 16" version="1.1" width="16" data-view-component="true" class="octicon octicon-comment-discussion">
    <path d="M1.75 1h8.5c.966 0 1.75.784 1.75 1.75v5.5A1.75 1.75 0 0 1 10.25 10H7.061l-2.574 2.573A1.458 1.458 0 0 1 2 11.543V10h-.25A1.75 1.75 0 0 1 0 8.25v-5.5C0 1.784.784 1 1.75 1ZM1.5 2.75v5.5c0 .138.112.25.25.25h1a.75.75 0 0 1 .75.75v2.19l2.72-2.72a.749.749 0 0 1 .53-.22h3.5a.25.25 0 0 0 .25-.25v-5.5a.25.25 0 0 0-.25-.25h-8.5a.25.25 0 0 0-.25.25Zm13 2a.25.25 0 0 0-.25-.25h-.5a.75.75 0 0 1 0-1.5h.5c.966 0 1.75.784 1.75 1.75v5.5A1.75 1.75 0 0 1 14.25 12H14v1.543a1.458 1.458 0 0 1-2.487 1.03L9.22 12.28a.749.749 0 0 1 .326-1.275.749.749 0 0 1 .734.215l2.22 2.22v-2.19a.75.75 0 0 1 .75-.75h1a.25.25 0 0 0 .25-.25Z"></path>
</svg>
</template>

<template id="organization-icon">
  <svg aria-hidden="true" height="16" viewBox="0 0 16 16" version="1.1" width="16" data-view-component="true" class="octicon octicon-organization">
    <path d="M1.75 16A1.75 1.75 0 0 1 0 14.25V1.75C0 .784.784 0 1.75 0h8.5C11.216 0 12 .784 12 1.75v12.5c0 .085-.006.168-.018.25h2.268a.25.25 0 0 0 .25-.25V8.285a.25.25 0 0 0-.111-.208l-1.055-.703a.749.749 0 1 1 .832-1.248l1.055.703c.487.325.779.871.779 1.456v5.965A1.75 1.75 0 0 1 14.25 16h-3.5a.766.766 0 0 1-.197-.026c-.099.017-.2.026-.303.026h-3a.75.75 0 0 1-.75-.75V14h-1v1.25a.75.75 0 0 1-.75.75Zm-.25-1.75c0 .138.112.25.25.25H4v-1.25a.75.75 0 0 1 .75-.75h2.5a.75.75 0 0 1 .75.75v1.25h2.25a.25.25 0 0 0 .25-.25V1.75a.25.25 0 0 0-.25-.25h-8.5a.25.25 0 0 0-.25.25ZM3.75 6h.5a.75.75 0 0 1 0 1.5h-.5a.75.75 0 0 1 0-1.5ZM3 3.75A.75.75 0 0 1 3.75 3h.5a.75.75 0 0 1 0 1.5h-.5A.75.75 0 0 1 3 3.75Zm4 3A.75.75 0 0 1 7.75 6h.5a.75.75 0 0 1 0 1.5h-.5A.75.75 0 0 1 7 6.75ZM7.75 3h.5a.75.75 0 0 1 0 1.5h-.5a.75.75 0 0 1 0-1.5ZM3 9.75A.75.75 0 0 1 3.75 9h.5a.75.75 0 0 1 0 1.5h-.5A.75.75 0 0 1 3 9.75ZM7.75 9h.5a.75.75 0 0 1 0 1.5h-.5a.75.75 0 0 1 0-1.5Z"></path>
</svg>
</template>

<template id="rocket-icon">
  <svg aria-hidden="true" height="16" viewBox="0 0 16 16" version="1.1" width="16" data-view-component="true" class="octicon octicon-rocket">
    <path d="M14.064 0h.186C15.216 0 16 .784 16 1.75v.186a8.752 8.752 0 0 1-2.564 6.186l-.458.459c-.314.314-.641.616-.979.904v3.207c0 .608-.315 1.172-.833 1.49l-2.774 1.707a.749.749 0 0 1-1.11-.418l-.954-3.102a1.214 1.214 0 0 1-.145-.125L3.754 9.816a1.218 1.218 0 0 1-.124-.145L.528 8.717a.749.749 0 0 1-.418-1.11l1.71-2.774A1.748 1.748 0 0 1 3.31 4h3.204c.288-.338.59-.665.904-.979l.459-.458A8.749 8.749 0 0 1 14.064 0ZM8.938 3.623h-.002l-.458.458c-.76.76-1.437 1.598-2.02 2.5l-1.5 2.317 2.143 2.143 2.317-1.5c.902-.583 1.74-1.26 2.499-2.02l.459-.458a7.25 7.25 0 0 0 2.123-5.127V1.75a.25.25 0 0 0-.25-.25h-.186a7.249 7.249 0 0 0-5.125 2.123ZM3.56 14.56c-.732.732-2.334 1.045-3.005 1.148a.234.234 0 0 1-.201-.064.234.234 0 0 1-.064-.201c.103-.671.416-2.273 1.15-3.003a1.502 1.502 0 1 1 2.12 2.12Zm6.94-3.935c-.088.06-.177.118-.266.175l-2.35 1.521.548 1.783 1.949-1.2a.25.25 0 0 0 .119-.213ZM3.678 8.116 5.2 5.766c.058-.09.117-.178.176-.266H3.309a.25.25 0 0 0-.213.119l-1.2 1.95ZM12 5a1 1 0 1 1-2 0 1 1 0 0 1 2 0Z"></path>
</svg>
</template>

<template id="shield-check-icon">
  <svg aria-hidden="true" height="16" viewBox="0 0 16 16" version="1.1" width="16" data-view-component="true" class="octicon octicon-shield-check">
    <path d="m8.533.133 5.25 1.68A1.75 1.75 0 0 1 15 3.48V7c0 1.566-.32 3.182-1.303 4.682-.983 1.498-2.585 2.813-5.032 3.855a1.697 1.697 0 0 1-1.33 0c-2.447-1.042-4.049-2.357-5.032-3.855C1.32 10.182 1 8.566 1 7V3.48a1.75 1.75 0 0 1 1.217-1.667l5.25-1.68a1.748 1.748 0 0 1 1.066 0Zm-.61 1.429.001.001-5.25 1.68a.251.251 0 0 0-.174.237V7c0 1.36.275 2.666 1.057 3.859.784 1.194 2.121 2.342 4.366 3.298a.196.196 0 0 0 .154 0c2.245-.957 3.582-2.103 4.366-3.297C13.225 9.666 13.5 8.358 13.5 7V3.48a.25.25 0 0 0-.174-.238l-5.25-1.68a.25.25 0 0 0-.153 0ZM11.28 6.28l-3.5 3.5a.75.75 0 0 1-1.06 0l-1.5-1.5a.749.749 0 0 1 .326-1.275.749.749 0 0 1 .734.215l.97.97 2.97-2.97a.751.751 0 0 1 1.042.018.751.751 0 0 1 .018 1.042Z"></path>
</svg>
</template>

<template id="heart-icon">
  <svg aria-hidden="true" height="16" viewBox="0 0 16 16" version="1.1" width="16" data-view-component="true" class="octicon octicon-heart">
    <path d="m8 14.25.345.666a.75.75 0 0 1-.69 0l-.008-.004-.018-.01a7.152 7.152 0 0 1-.31-.17 22.055 22.055 0 0 1-3.434-2.414C2.045 10.731 0 8.35 0 5.5 0 2.836 2.086 1 4.25 1 5.797 1 7.153 1.802 8 3.02 8.847 1.802 10.203 1 11.75 1 13.914 1 16 2.836 16 5.5c0 2.85-2.045 5.231-3.885 6.818a22.066 22.066 0 0 1-3.744 2.584l-.018.01-.006.003h-.002ZM4.25 2.5c-1.336 0-2.75 1.164-2.75 3 0 2.15 1.58 4.144 3.365 5.682A20.58 20.58 0 0 0 8 13.393a20.58 20.58 0 0 0 3.135-2.211C12.92 9.644 14.5 7.65 14.5 5.5c0-1.836-1.414-3-2.75-3-1.373 0-2.609.986-3.029 2.456a.749.749 0 0 1-1.442 0C6.859 3.486 5.623 2.5 4.25 2.5Z"></path>
</svg>
</template>

<template id="server-icon">
  <svg aria-hidden="true" height="16" viewBox="0 0 16 16" version="1.1" width="16" data-view-component="true" class="octicon octicon-server">
    <path d="M1.75 1h12.5c.966 0 1.75.784 1.75 1.75v4c0 .372-.116.717-.314 1 .198.283.314.628.314 1v4a1.75 1.75 0 0 1-1.75 1.75H1.75A1.75 1.75 0 0 1 0 12.75v-4c0-.358.109-.707.314-1a1.739 1.739 0 0 1-.314-1v-4C0 1.784.784 1 1.75 1ZM1.5 2.75v4c0 .138.112.25.25.25h12.5a.25.25 0 0 0 .25-.25v-4a.25.25 0 0 0-.25-.25H1.75a.25.25 0 0 0-.25.25Zm.25 5.75a.25.25 0 0 0-.25.25v4c0 .138.112.25.25.25h12.5a.25.25 0 0 0 .25-.25v-4a.25.25 0 0 0-.25-.25ZM7 4.75A.75.75 0 0 1 7.75 4h4.5a.75.75 0 0 1 0 1.5h-4.5A.75.75 0 0 1 7 4.75ZM7.75 10h4.5a.75.75 0 0 1 0 1.5h-4.5a.75.75 0 0 1 0-1.5ZM3 4.75A.75.75 0 0 1 3.75 4h.5a.75.75 0 0 1 0 1.5h-.5A.75.75 0 0 1 3 4.75ZM3.75 10h.5a.75.75 0 0 1 0 1.5h-.5a.75.75 0 0 1 0-1.5Z"></path>
</svg>
</template>

<template id="globe-icon">
  <svg aria-hidden="true" height="16" viewBox="0 0 16 16" version="1.1" width="16" data-view-component="true" class="octicon octicon-globe">
    <path d="M8 0a8 8 0 1 1 0 16A8 8 0 0 1 8 0ZM5.78 8.75a9.64 9.64 0 0 0 1.363 4.177c.255.426.542.832.857 1.215.245-.296.551-.705.857-1.215A9.64 9.64 0 0 0 10.22 8.75Zm4.44-1.5a9.64 9.64 0 0 0-1.363-4.177c-.307-.51-.612-.919-.857-1.215a9.927 9.927 0 0 0-.857 1.215A9.64 9.64 0 0 0 5.78 7.25Zm-5.944 1.5H1.543a6.507 6.507 0 0 0 4.666 5.5c-.123-.181-.24-.365-.352-.552-.715-1.192-1.437-2.874-1.581-4.948Zm-2.733-1.5h2.733c.144-2.074.866-3.756 1.58-4.948.12-.197.237-.381.353-.552a6.507 6.507 0 0 0-4.666 5.5Zm10.181 1.5c-.144 2.074-.866 3.756-1.58 4.948-.12.197-.237.381-.353.552a6.507 6.507 0 0 0 4.666-5.5Zm2.733-1.5a6.507 6.507 0 0 0-4.666-5.5c.123.181.24.365.353.552.714 1.192 1.436 2.874 1.58 4.948Z"></path>
</svg>
</template>

<template id="issue-opened-icon">
  <svg aria-hidden="true" height="16" viewBox="0 0 16 16" version="1.1" width="16" data-view-component="true" class="octicon octicon-issue-opened">
    <path d="M8 9.5a1.5 1.5 0 1 0 0-3 1.5 1.5 0 0 0 0 3Z"></path><path d="M8 0a8 8 0 1 1 0 16A8 8 0 0 1 8 0ZM1.5 8a6.5 6.5 0 1 0 13 0 6.5 6.5 0 0 0-13 0Z"></path>
</svg>
</template>

<template id="device-mobile-icon">
  <svg aria-hidden="true" height="16" viewBox="0 0 16 16" version="1.1" width="16" data-view-component="true" class="octicon octicon-device-mobile">
    <path d="M3.75 0h8.5C13.216 0 14 .784 14 1.75v12.5A1.75 1.75 0 0 1 12.25 16h-8.5A1.75 1.75 0 0 1 2 14.25V1.75C2 .784 2.784 0 3.75 0ZM3.5 1.75v12.5c0 .138.112.25.25.25h8.5a.25.25 0 0 0 .25-.25V1.75a.25.25 0 0 0-.25-.25h-8.5a.25.25 0 0 0-.25.25ZM8 13a1 1 0 1 1 0-2 1 1 0 0 1 0 2Z"></path>
</svg>
</template>

<template id="package-icon">
  <svg aria-hidden="true" height="16" viewBox="0 0 16 16" version="1.1" width="16" data-view-component="true" class="octicon octicon-package">
    <path d="m8.878.392 5.25 3.045c.54.314.872.89.872 1.514v6.098a1.75 1.75 0 0 1-.872 1.514l-5.25 3.045a1.75 1.75 0 0 1-1.756 0l-5.25-3.045A1.75 1.75 0 0 1 1 11.049V4.951c0-.624.332-1.201.872-1.514L7.122.392a1.75 1.75 0 0 1 1.756 0ZM7.875 1.69l-4.63 2.685L8 7.133l4.755-2.758-4.63-2.685a.248.248 0 0 0-.25 0ZM2.5 5.677v5.372c0 .09.047.171.125.216l4.625 2.683V8.432Zm6.25 8.271 4.625-2.683a.25.25 0 0 0 .125-.216V5.677L8.75 8.432Z"></path>
</svg>
</template>

<template id="credit-card-icon">
  <svg aria-hidden="true" height="16" viewBox="0 0 16 16" version="1.1" width="16" data-view-component="true" class="octicon octicon-credit-card">
    <path d="M10.75 9a.75.75 0 0 0 0 1.5h1.5a.75.75 0 0 0 0-1.5h-1.5Z"></path><path d="M0 3.75C0 2.784.784 2 1.75 2h12.5c.966 0 1.75.784 1.75 1.75v8.5A1.75 1.75 0 0 1 14.25 14H1.75A1.75 1.75 0 0 1 0 12.25ZM14.5 6.5h-13v5.75c0 .138.112.25.25.25h12.5a.25.25 0 0 0 .25-.25Zm0-2.75a.25.25 0 0 0-.25-.25H1.75a.25.25 0 0 0-.25.25V5h13Z"></path>
</svg>
</template>

<template id="play-icon">
  <svg aria-hidden="true" height="16" viewBox="0 0 16 16" version="1.1" width="16" data-view-component="true" class="octicon octicon-play">
    <path d="M8 0a8 8 0 1 1 0 16A8 8 0 0 1 8 0ZM1.5 8a6.5 6.5 0 1 0 13 0 6.5 6.5 0 0 0-13 0Zm4.879-2.773 4.264 2.559a.25.25 0 0 1 0 .428l-4.264 2.559A.25.25 0 0 1 6 10.559V5.442a.25.25 0 0 1 .379-.215Z"></path>
</svg>
</template>

<template id="gift-icon">
  <svg aria-hidden="true" height="16" viewBox="0 0 16 16" version="1.1" width="16" data-view-component="true" class="octicon octicon-gift">
    <path d="M2 2.75A2.75 2.75 0 0 1 4.75 0c.983 0 1.873.42 2.57 1.232.268.318.497.668.68 1.042.183-.375.411-.725.68-1.044C9.376.42 10.266 0 11.25 0a2.75 2.75 0 0 1 2.45 4h.55c.966 0 1.75.784 1.75 1.75v2c0 .698-.409 1.301-1 1.582v4.918A1.75 1.75 0 0 1 13.25 16H2.75A1.75 1.75 0 0 1 1 14.25V9.332C.409 9.05 0 8.448 0 7.75v-2C0 4.784.784 4 1.75 4h.55c-.192-.375-.3-.8-.3-1.25ZM7.25 9.5H2.5v4.75c0 .138.112.25.25.25h4.5Zm1.5 0v5h4.5a.25.25 0 0 0 .25-.25V9.5Zm0-4V8h5.5a.25.25 0 0 0 .25-.25v-2a.25.25 0 0 0-.25-.25Zm-7 0a.25.25 0 0 0-.25.25v2c0 .138.112.25.25.25h5.5V5.5h-5.5Zm3-4a1.25 1.25 0 0 0 0 2.5h2.309c-.233-.818-.542-1.401-.878-1.793-.43-.502-.915-.707-1.431-.707ZM8.941 4h2.309a1.25 1.25 0 0 0 0-2.5c-.516 0-1 .205-1.43.707-.337.392-.646.975-.879 1.793Z"></path>
</svg>
</template>

<template id="code-square-icon">
  <svg aria-hidden="true" height="16" viewBox="0 0 16 16" version="1.1" width="16" data-view-component="true" class="octicon octicon-code-square">
    <path d="M0 1.75C0 .784.784 0 1.75 0h12.5C15.216 0 16 .784 16 1.75v12.5A1.75 1.75 0 0 1 14.25 16H1.75A1.75 1.75 0 0 1 0 14.25Zm1.75-.25a.25.25 0 0 0-.25.25v12.5c0 .138.112.25.25.25h12.5a.25.25 0 0 0 .25-.25V1.75a.25.25 0 0 0-.25-.25Zm7.47 3.97a.75.75 0 0 1 1.06 0l2 2a.75.75 0 0 1 0 1.06l-2 2a.749.749 0 0 1-1.275-.326.749.749 0 0 1 .215-.734L10.69 8 9.22 6.53a.75.75 0 0 1 0-1.06ZM6.78 6.53 5.31 8l1.47 1.47a.749.749 0 0 1-.326 1.275.749.749 0 0 1-.734-.215l-2-2a.75.75 0 0 1 0-1.06l2-2a.751.751 0 0 1 1.042.018.751.751 0 0 1 .018 1.042Z"></path>
</svg>
</template>

<template id="device-desktop-icon">
  <svg aria-hidden="true" height="16" viewBox="0 0 16 16" version="1.1" width="16" data-view-component="true" class="octicon octicon-device-desktop">
    <path d="M14.25 1c.966 0 1.75.784 1.75 1.75v7.5A1.75 1.75 0 0 1 14.25 12h-3.727c.099 1.041.52 1.872 1.292 2.757A.752.752 0 0 1 11.25 16h-6.5a.75.75 0 0 1-.565-1.243c.772-.885 1.192-1.716 1.292-2.757H1.75A1.75 1.75 0 0 1 0 10.25v-7.5C0 1.784.784 1 1.75 1ZM1.75 2.5a.25.25 0 0 0-.25.25v7.5c0 .138.112.25.25.25h12.5a.25.25 0 0 0 .25-.25v-7.5a.25.25 0 0 0-.25-.25ZM9.018 12H6.982a5.72 5.72 0 0 1-.765 2.5h3.566a5.72 5.72 0 0 1-.765-2.5Z"></path>
</svg>
</template>

        <div class="position-relative">
                <ul
                  role="listbox"
                  class="ActionListWrap QueryBuilder-ListWrap"
                  aria-label="Suggestions"
                  data-action="
                    combobox-commit:query-builder#comboboxCommit
                    mousedown:query-builder#resultsMousedown
                  "
                  data-target="query-builder.resultsList"
                  data-persist-list=false
                  id="query-builder-test-results"
                ></ul>
        </div>
      <div class="FormControl-inlineValidation" id="validation-721f8eb1-ccdd-4bff-9a7d-9b7782e7294a" hidden="hidden">
        <span class="FormControl-inlineValidation--visual">
          <svg aria-hidden="true" height="12" viewBox="0 0 12 12" version="1.1" width="12" data-view-component="true" class="octicon octicon-alert-fill">
    <path d="M4.855.708c.5-.896 1.79-.896 2.29 0l4.675 8.351a1.312 1.312 0 0 1-1.146 1.954H1.33A1.313 1.313 0 0 1 .183 9.058ZM7 7V3H5v4Zm-1 3a1 1 0 1 0 0-2 1 1 0 0 0 0 2Z"></path>
</svg>
        </span>
        <span></span>
</div>    </div>
    <div data-target="query-builder.screenReaderFeedback" aria-live="polite" aria-atomic="true" class="sr-only"></div>
</query-builder></form>
          <div class="d-flex flex-row color-fg-muted px-3 text-small color-bg-default search-feedback-prompt">
            <a target="_blank" href="https://docs.github.com/search-github/github-code-search/understanding-github-code-search-syntax" data-view-component="true" class="Link color-fg-accent text-normal ml-2">Search syntax tips</a>            <div class="d-flex flex-1"></div>
              <button data-action="click:qbsearch-input#showFeedbackDialog" type="button" data-view-component="true" class="Button--link Button--medium Button color-fg-accent text-normal ml-2">  <span class="Button-content">
    <span class="Button-label">Give feedback</span>
  </span>
</button>
          </div>
        </div>
</div>

    </div>
</modal-dialog></div>
  </div>
  <div data-action="click:qbsearch-input#retract" class="dark-backdrop position-fixed" hidden data-target="qbsearch-input.darkBackdrop"></div>
  <div class="color-fg-default">
    
<dialog-helper>
  <dialog data-target="qbsearch-input.feedbackDialog" data-action="close:qbsearch-input#handleDialogClose cancel:qbsearch-input#handleDialogClose" id="feedback-dialog" aria-modal="true" aria-labelledby="feedback-dialog-title" aria-describedby="feedback-dialog-description" data-view-component="true" class="Overlay Overlay-whenNarrow Overlay--size-medium Overlay--motion-scaleFade Overlay--disableScroll">
    <div data-view-component="true" class="Overlay-header">
  <div class="Overlay-headerContentWrap">
    <div class="Overlay-titleWrap">
      <h1 class="Overlay-title " id="feedback-dialog-title">
        Provide feedback
      </h1>
        
    </div>
    <div class="Overlay-actionWrap">
      <button data-close-dialog-id="feedback-dialog" aria-label="Close" type="button" data-view-component="true" class="close-button Overlay-closeButton"><svg aria-hidden="true" height="16" viewBox="0 0 16 16" version="1.1" width="16" data-view-component="true" class="octicon octicon-x">
    <path d="M3.72 3.72a.75.75 0 0 1 1.06 0L8 6.94l3.22-3.22a.749.749 0 0 1 1.275.326.749.749 0 0 1-.215.734L9.06 8l3.22 3.22a.749.749 0 0 1-.326 1.275.749.749 0 0 1-.734-.215L8 9.06l-3.22 3.22a.751.751 0 0 1-1.042-.018.751.751 0 0 1-.018-1.042L6.94 8 3.72 4.78a.75.75 0 0 1 0-1.06Z"></path>
</svg></button>
    </div>
  </div>
  
</div>
      <scrollable-region data-labelled-by="feedback-dialog-title">
        <div data-view-component="true" class="Overlay-body">        <!-- '"` --><!-- </textarea></xmp> --></option></form><form id="code-search-feedback-form" data-turbo="false" action="/search/feedback" accept-charset="UTF-8" method="post"><input type="hidden" name="authenticity_token" value="UkA7dFhNmx6Am0dKWGFiSV_9gCefNOlPbEIFoRX-t4umU9LPbkzLNbpMdxaEAsiJTuQrhpaECrySk3NrTUJw3A" />
          <p>We read every piece of feedback, and take your input very seriously.</p>
          <textarea name="feedback" class="form-control width-full mb-2" style="height: 120px" id="feedback"></textarea>
          <input name="include_email" id="include_email" aria-label="Include my email address so I can be contacted" class="form-control mr-2" type="checkbox">
          <label for="include_email" style="font-weight: normal">Include my email address so I can be contacted</label>
</form></div>
      </scrollable-region>
      <div data-view-component="true" class="Overlay-footer Overlay-footer--alignEnd">          <button data-close-dialog-id="feedback-dialog" type="button" data-view-component="true" class="btn">    Cancel
</button>
          <button form="code-search-feedback-form" data-action="click:qbsearch-input#submitFeedback" type="submit" data-view-component="true" class="btn-primary btn">    Submit feedback
</button>
</div>
</dialog></dialog-helper>

    <custom-scopes data-target="qbsearch-input.customScopesManager">
    
<dialog-helper>
  <dialog data-target="custom-scopes.customScopesModalDialog" data-action="close:qbsearch-input#handleDialogClose cancel:qbsearch-input#handleDialogClose" id="custom-scopes-dialog" aria-modal="true" aria-labelledby="custom-scopes-dialog-title" aria-describedby="custom-scopes-dialog-description" data-view-component="true" class="Overlay Overlay-whenNarrow Overlay--size-medium Overlay--motion-scaleFade Overlay--disableScroll">
    <div data-view-component="true" class="Overlay-header Overlay-header--divided">
  <div class="Overlay-headerContentWrap">
    <div class="Overlay-titleWrap">
      <h1 class="Overlay-title " id="custom-scopes-dialog-title">
        Saved searches
      </h1>
        <h2 id="custom-scopes-dialog-description" class="Overlay-description">Use saved searches to filter your results more quickly</h2>
    </div>
    <div class="Overlay-actionWrap">
      <button data-close-dialog-id="custom-scopes-dialog" aria-label="Close" type="button" data-view-component="true" class="close-button Overlay-closeButton"><svg aria-hidden="true" height="16" viewBox="0 0 16 16" version="1.1" width="16" data-view-component="true" class="octicon octicon-x">
    <path d="M3.72 3.72a.75.75 0 0 1 1.06 0L8 6.94l3.22-3.22a.749.749 0 0 1 1.275.326.749.749 0 0 1-.215.734L9.06 8l3.22 3.22a.749.749 0 0 1-.326 1.275.749.749 0 0 1-.734-.215L8 9.06l-3.22 3.22a.751.751 0 0 1-1.042-.018.751.751 0 0 1-.018-1.042L6.94 8 3.72 4.78a.75.75 0 0 1 0-1.06Z"></path>
</svg></button>
    </div>
  </div>
  
</div>
      <scrollable-region data-labelled-by="custom-scopes-dialog-title">
        <div data-view-component="true" class="Overlay-body">        <div data-target="custom-scopes.customScopesModalDialogFlash"></div>

        <div hidden class="create-custom-scope-form" data-target="custom-scopes.createCustomScopeForm">
        <!-- '"` --><!-- </textarea></xmp> --></option></form><form id="custom-scopes-dialog-form" data-turbo="false" action="/search/custom_scopes" accept-charset="UTF-8" method="post"><input type="hidden" name="authenticity_token" value="dfbJ53HJYxa61dvKGUzVClBqYpfTyxgff42lFqKsG37clIN3EjoQabI6VJANxHX988gap0o3i4yFoJrMPr4VkQ" />
          <div data-target="custom-scopes.customScopesModalDialogFlash"></div>

          <input type="hidden" id="custom_scope_id" name="custom_scope_id" data-target="custom-scopes.customScopesIdField">

          <div class="form-group">
            <label for="custom_scope_name">Name</label>
            <auto-check src="/search/custom_scopes/check_name" required>
              <input
                type="text"
                name="custom_scope_name"
                id="custom_scope_name"
                data-target="custom-scopes.customScopesNameField"
                class="form-control"
                autocomplete="off"
                placeholder="github-ruby"
                required
                maxlength="50">
              <input type="hidden" value="zzAc6iWWzECBwjO9JqoGdLJGjjLKtuwJfiVoFoBzpo9u0WM57b7J-NZzqrtmeRa6GxcpOGJ68zIk669w_PtDFA" data-csrf="true" />
            </auto-check>
          </div>

          <div class="form-group">
            <label for="custom_scope_query">Query</label>
            <input
              type="text"
              name="custom_scope_query"
              id="custom_scope_query"
              data-target="custom-scopes.customScopesQueryField"
              class="form-control"
              autocomplete="off"
              placeholder="(repo:mona/a OR repo:mona/b) AND lang:python"
              required
              maxlength="500">
          </div>

          <p class="text-small color-fg-muted">
            To see all available qualifiers, see our <a class="Link--inTextBlock" href="https://docs.github.com/search-github/github-code-search/understanding-github-code-search-syntax">documentation</a>.
          </p>
</form>        </div>

        <div data-target="custom-scopes.manageCustomScopesForm">
          <div data-target="custom-scopes.list"></div>
        </div>

</div>
      </scrollable-region>
      <div data-view-component="true" class="Overlay-footer Overlay-footer--alignEnd Overlay-footer--divided">          <button data-action="click:custom-scopes#customScopesCancel" type="button" data-view-component="true" class="btn">    Cancel
</button>
          <button form="custom-scopes-dialog-form" data-action="click:custom-scopes#customScopesSubmit" data-target="custom-scopes.customScopesSubmitButton" type="submit" data-view-component="true" class="btn-primary btn">    Create saved search
</button>
</div>
</dialog></dialog-helper>
    </custom-scopes>
  </div>
</qbsearch-input>    <input type="hidden" value="qa4ZMbCxc44c_xQZGvYQHKi0skOEJ5YIirCNyWSD0yDRxAhsaTHhuU4HMkzxIvR9Iw6o9qpMlo1JGn6BIp-CZw" data-csrf="true" class="js-data-jump-to-suggestions-path-csrf" />

          </div>

        
          <div class="AppHeader-CopilotChat">
    <react-partial-anchor>
      <button id="copilot-chat-header-button" data-target="react-partial-anchor.anchor" data-hotkey="Shift+C" aria-expanded="false" aria-controls="copilot-chat-panel" aria-labelledby="tooltip-d8849668-da23-4e4a-b21a-75ead8712012" type="button" disabled="disabled" data-view-component="true" class="Button Button--iconOnly Button--secondary Button--medium AppHeader-button AppHeader-buttonLeft cursor-wait">  <svg aria-hidden="true" height="16" viewBox="0 0 16 16" version="1.1" width="16" data-view-component="true" class="octicon octicon-copilot Button-visual">
    <path d="M7.998 15.035c-4.562 0-7.873-2.914-7.998-3.749V9.338c.085-.628.677-1.686 1.588-2.065.013-.07.024-.143.036-.218.029-.183.06-.384.126-.612-.201-.508-.254-1.084-.254-1.656 0-.87.128-1.769.693-2.484.579-.733 1.494-1.124 2.724-1.261 1.206-.134 2.262.034 2.944.765.05.053.096.108.139.165.044-.057.094-.112.143-.165.682-.731 1.738-.899 2.944-.765 1.23.137 2.145.528 2.724 1.261.566.715.693 1.614.693 2.484 0 .572-.053 1.148-.254 1.656.066.228.098.429.126.612.012.076.024.148.037.218.924.385 1.522 1.471 1.591 2.095v1.872c0 .766-3.351 3.795-8.002 3.795Zm0-1.485c2.28 0 4.584-1.11 5.002-1.433V7.862l-.023-.116c-.49.21-1.075.291-1.727.291-1.146 0-2.059-.327-2.71-.991A3.222 3.222 0 0 1 8 6.303a3.24 3.24 0 0 1-.544.743c-.65.664-1.563.991-2.71.991-.652 0-1.236-.081-1.727-.291l-.023.116v4.255c.419.323 2.722 1.433 5.002 1.433ZM6.762 2.83c-.193-.206-.637-.413-1.682-.297-1.019.113-1.479.404-1.713.7-.247.312-.369.789-.369 1.554 0 .793.129 1.171.308 1.371.162.181.519.379 1.442.379.853 0 1.339-.235 1.638-.54.315-.322.527-.827.617-1.553.117-.935-.037-1.395-.241-1.614Zm4.155-.297c-1.044-.116-1.488.091-1.681.297-.204.219-.359.679-.242 1.614.091.726.303 1.231.618 1.553.299.305.784.54 1.638.54.922 0 1.28-.198 1.442-.379.179-.2.308-.578.308-1.371 0-.765-.123-1.242-.37-1.554-.233-.296-.693-.587-1.713-.7Z"></path><path d="M6.25 9.037a.75.75 0 0 1 .75.75v1.501a.75.75 0 0 1-1.5 0V9.787a.75.75 0 0 1 .75-.75Zm4.25.75v1.501a.75.75 0 0 1-1.5 0V9.787a.75.75 0 0 1 1.5 0Z"></path>
</svg>
</button><tool-tip id="tooltip-d8849668-da23-4e4a-b21a-75ead8712012" for="copilot-chat-header-button" popover="manual" data-direction="s" data-type="label" data-view-component="true" class="sr-only position-absolute">Chat with Copilot</tool-tip>

      <template data-target="react-partial-anchor.template">
        <script crossorigin="anonymous" defer="defer" type="application/javascript" src="https://github.githubassets.com/assets/vendors-node_modules_react-relay_index_js-c5b7ce0827d5.js"></script>
<script crossorigin="anonymous" defer="defer" type="application/javascript" src="https://github.githubassets.com/assets/vendors-node_modules_date-fns_format_mjs-6e4d0f904632.js"></script>
<script crossorigin="anonymous" defer="defer" type="application/javascript" src="https://github.githubassets.com/assets/vendors-node_modules_date-fns_addWeeks_mjs-node_modules_date-fns_addYears_mjs-node_modules_da-827f4f-cf37cd06c24f.js"></script>
<script crossorigin="anonymous" defer="defer" type="application/javascript" src="https://github.githubassets.com/assets/vendors-node_modules_focus-visible_dist_focus-visible_js-node_modules_fzy_js_index_js-node_mo-c4d1d6-a009f6007b3c.js"></script>
<script crossorigin="anonymous" defer="defer" type="application/javascript" src="https://github.githubassets.com/assets/vendors-node_modules_date-fns_getDaysInMonth_mjs-node_modules_date-fns_isAfter_mjs-node_modul-49f526-6d4bedc5c754.js"></script>
<script crossorigin="anonymous" defer="defer" type="application/javascript" src="https://github.githubassets.com/assets/vendors-node_modules_tanstack_query-core_build_modern_queryObserver_js-node_modules_tanstack_-defd52-843b41414e0e.js"></script>
<script crossorigin="anonymous" defer="defer" type="application/javascript" src="https://github.githubassets.com/assets/vendors-node_modules_react-relay_hooks_js-node_modules_github_combobox-nav_dist_index_js-node-6d672f-6315950b19a4.js"></script>
<script crossorigin="anonymous" defer="defer" type="application/javascript" src="https://github.githubassets.com/assets/vendors-node_modules_highlight_js_lib_index_js-node_modules_tanstack_react-query_build_modern-3fdf40-591fb51c8a6e.js"></script>
<script crossorigin="anonymous" defer="defer" type="application/javascript" src="https://github.githubassets.com/assets/vendors-node_modules_github_mini-throttle_dist_decorators_js-node_modules_github_hotkey_dist_-28977e-be00e2d75918.js"></script>
<script crossorigin="anonymous" defer="defer" type="application/javascript" src="https://github.githubassets.com/assets/ui_packages_date-picker_date-picker_ts-ui_packages_github-avatar_GitHubAvatar_tsx-b55eae95552d.js"></script>
<script crossorigin="anonymous" defer="defer" type="application/javascript" src="https://github.githubassets.com/assets/ui_packages_item-picker_constants_labels_ts-ui_packages_item-picker_constants_values_ts-ui_pa-163a9a-5bae42c6a790.js"></script>
<script crossorigin="anonymous" defer="defer" type="application/javascript" src="https://github.githubassets.com/assets/ui_packages_item-picker_components_RepositoryPicker_tsx-c5a3f0d0ca9b.js"></script>
<script crossorigin="anonymous" defer="defer" type="application/javascript" src="https://github.githubassets.com/assets/ui_packages_use-safe-async-callback_use-safe-async-callback_ts-ui_packages_copy-to-clipboard_-4c1096-1fe86ceb9d4f.js"></script>
<script crossorigin="anonymous" defer="defer" type="application/javascript" src="https://github.githubassets.com/assets/ui_packages_issue-create_dialog_CreateIssueDialogEntry_tsx-75a17a263147.js"></script>
<script crossorigin="anonymous" defer="defer" type="application/javascript" src="https://github.githubassets.com/assets/ui_packages_copilot-chat_utils_copilot-chat-hooks_ts-ui_packages_issue-viewer_utils_queries_ts-fb9b3d9fbb77.js"></script>
<script crossorigin="anonymous" defer="defer" type="application/javascript" src="https://github.githubassets.com/assets/ui_packages_test-id-props_test-id-props_ts-ui_packages_use-analytics_use-analytics_ts-ui_pack-b3df46-d751cd8881ec.js"></script>
<script crossorigin="anonymous" defer="defer" type="application/javascript" src="https://github.githubassets.com/assets/copilot-chat-2a987e577ef5.js"></script>
<link crossorigin="anonymous" media="all" rel="stylesheet" href="https://github.githubassets.com/assets/primer-react.491a1e189efd351d2e8c.module.css" />
<link crossorigin="anonymous" media="all" rel="stylesheet" href="https://github.githubassets.com/assets/copilot-chat.10cffd62085b905ee13f.module.css" />
        <link crossorigin="anonymous" media="all" rel="stylesheet" href="https://github.githubassets.com/assets/copilot-markdown-rendering-e18097b08a37.css" />
        <include-fragment src="/github-copilot/chat?skip_anchor=true"></include-fragment>
      </template>
    </react-partial-anchor>
    <react-partial-anchor>
      <button id="global-copilot-menu-button" data-target="react-partial-anchor.anchor" aria-expanded="false" aria-labelledby="tooltip-e5576298-06d6-4e84-8909-eabc0e53a42b" type="button" data-view-component="true" class="Button Button--iconOnly Button--secondary Button--medium AppHeader-button AppHeader-buttonRight">  <svg aria-hidden="true" height="16" viewBox="0 0 16 16" version="1.1" width="16" data-view-component="true" class="octicon octicon-triangle-down Button-visual">
    <path d="m4.427 7.427 3.396 3.396a.25.25 0 0 0 .354 0l3.396-3.396A.25.25 0 0 0 11.396 7H4.604a.25.25 0 0 0-.177.427Z"></path>
</svg>
</button><tool-tip id="tooltip-e5576298-06d6-4e84-8909-eabc0e53a42b" for="global-copilot-menu-button" popover="manual" data-direction="s" data-type="label" data-view-component="true" class="sr-only position-absolute">Open Copilot…</tool-tip>

      <template data-target="react-partial-anchor.template">
        <script crossorigin="anonymous" defer="defer" type="application/javascript" src="https://github.githubassets.com/assets/global-copilot-menu-7250ae383d7d.js"></script>
<link crossorigin="anonymous" media="all" rel="stylesheet" href="https://github.githubassets.com/assets/primer-react.491a1e189efd351d2e8c.module.css" />

<react-partial
  partial-name="global-copilot-menu"
  data-ssr="false"
  data-attempted-ssr="false"
>
  
  <script type="application/json" data-target="react-partial.embeddedData">{"props":{}}</script>
  <div data-target="react-partial.reactRoot"></div>
</react-partial>

      </template>
    </react-partial-anchor>
</div>


        <div class="AppHeader-actions position-relative">
             <react-partial-anchor>
      <button id="global-create-menu-anchor" aria-label="Create something new" data-target="react-partial-anchor.anchor" type="button" disabled="disabled" data-view-component="true" class="AppHeader-button global-create-button cursor-wait Button--secondary Button--medium Button width-auto color-fg-muted">  <span class="Button-content">
      <span class="Button-visual Button-leadingVisual">
        <svg aria-hidden="true" height="16" viewBox="0 0 16 16" version="1.1" width="16" data-view-component="true" class="octicon octicon-plus">
    <path d="M7.75 2a.75.75 0 0 1 .75.75V7h4.25a.75.75 0 0 1 0 1.5H8.5v4.25a.75.75 0 0 1-1.5 0V8.5H2.75a.75.75 0 0 1 0-1.5H7V2.75A.75.75 0 0 1 7.75 2Z"></path>
</svg>
      </span>
    <span class="Button-label"><svg aria-hidden="true" height="16" viewBox="0 0 16 16" version="1.1" width="16" data-view-component="true" class="octicon octicon-triangle-down">
    <path d="m4.427 7.427 3.396 3.396a.25.25 0 0 0 .354 0l3.396-3.396A.25.25 0 0 0 11.396 7H4.604a.25.25 0 0 0-.177.427Z"></path>
</svg></span>
  </span>
</button><tool-tip id="tooltip-de19eb2a-4c8d-47e0-aa8a-df85271060a2" for="global-create-menu-anchor" popover="manual" data-direction="s" data-type="description" data-view-component="true" class="sr-only position-absolute">Create new...</tool-tip>

      <template data-target="react-partial-anchor.template">
        <script crossorigin="anonymous" defer="defer" type="application/javascript" src="https://github.githubassets.com/assets/ui_packages_promise-with-resolvers-polyfill_promise-with-resolvers-polyfill_ts-ui_packages_re-8d43b0-97d9da3d4d12.js"></script>
<script crossorigin="anonymous" defer="defer" type="application/javascript" src="https://github.githubassets.com/assets/global-create-menu-e66a8207c01b.js"></script>
<link crossorigin="anonymous" media="all" rel="stylesheet" href="https://github.githubassets.com/assets/primer-react.491a1e189efd351d2e8c.module.css" />

<react-partial
  partial-name="global-create-menu"
  data-ssr="false"
  data-attempted-ssr="false"
>
  
  <script type="application/json" data-target="react-partial.embeddedData">{"props":{"createRepo":true,"importRepo":true,"codespaces":true,"gist":true,"createOrg":true,"createProject":false,"createProjectUrl":"/pawarvijay1070?tab=projects","createLegacyProject":false,"createIssue":false,"org":null,"owner":"ronakkjain77","repo":"Stock-Price-Prediction"}}</script>
  <div data-target="react-partial.reactRoot"></div>
</react-partial>

      </template>
    </react-partial-anchor>


          <a href="/issues" data-analytics-event="{&quot;category&quot;:&quot;Global navigation&quot;,&quot;action&quot;:&quot;ISSUES_HEADER&quot;,&quot;label&quot;:null}" id="icon-button-7aead631-d565-4f25-b082-d755b84b1b65" aria-labelledby="tooltip-ad9e4ab8-f45d-4d1d-b7e3-fb40eae0f075" data-view-component="true" class="Button Button--iconOnly Button--secondary Button--medium AppHeader-button color-fg-muted">  <svg aria-hidden="true" height="16" viewBox="0 0 16 16" version="1.1" width="16" data-view-component="true" class="octicon octicon-issue-opened Button-visual">
    <path d="M8 9.5a1.5 1.5 0 1 0 0-3 1.5 1.5 0 0 0 0 3Z"></path><path d="M8 0a8 8 0 1 1 0 16A8 8 0 0 1 8 0ZM1.5 8a6.5 6.5 0 1 0 13 0 6.5 6.5 0 0 0-13 0Z"></path>
</svg>
</a><tool-tip id="tooltip-ad9e4ab8-f45d-4d1d-b7e3-fb40eae0f075" for="icon-button-7aead631-d565-4f25-b082-d755b84b1b65" popover="manual" data-direction="s" data-type="label" data-view-component="true" class="sr-only position-absolute">Issues</tool-tip>

          <a href="/pulls" data-analytics-event="{&quot;category&quot;:&quot;Global navigation&quot;,&quot;action&quot;:&quot;PULL_REQUESTS_HEADER&quot;,&quot;label&quot;:null}" id="icon-button-f5c821a1-bd54-46fe-96c8-b44891d008d2" aria-labelledby="tooltip-b68d34ca-413e-41d2-9172-1e3bb5648d7a" data-view-component="true" class="Button Button--iconOnly Button--secondary Button--medium AppHeader-button color-fg-muted">  <svg aria-hidden="true" height="16" viewBox="0 0 16 16" version="1.1" width="16" data-view-component="true" class="octicon octicon-git-pull-request Button-visual">
    <path d="M1.5 3.25a2.25 2.25 0 1 1 3 2.122v5.256a2.251 2.251 0 1 1-1.5 0V5.372A2.25 2.25 0 0 1 1.5 3.25Zm5.677-.177L9.573.677A.25.25 0 0 1 10 .854V2.5h1A2.5 2.5 0 0 1 13.5 5v5.628a2.251 2.251 0 1 1-1.5 0V5a1 1 0 0 0-1-1h-1v1.646a.25.25 0 0 1-.427.177L7.177 3.427a.25.25 0 0 1 0-.354ZM3.75 2.5a.75.75 0 1 0 0 1.5.75.75 0 0 0 0-1.5Zm0 9.5a.75.75 0 1 0 0 1.5.75.75 0 0 0 0-1.5Zm8.25.75a.75.75 0 1 0 1.5 0 .75.75 0 0 0-1.5 0Z"></path>
</svg>
</a><tool-tip id="tooltip-b68d34ca-413e-41d2-9172-1e3bb5648d7a" for="icon-button-f5c821a1-bd54-46fe-96c8-b44891d008d2" popover="manual" data-direction="s" data-type="label" data-view-component="true" class="sr-only position-absolute">Pull requests</tool-tip>

        </div>

        <notification-indicator data-channel="eyJjIjoibm90aWZpY2F0aW9uLWNoYW5nZWQ6MTM1NjU3NDU4IiwidCI6MTczNjUwNjc5OH0=--603020344b275f1c2fdecf90b4073674949fd0ebbbce7d3bad95909076aa2f31" data-indicator-mode="none" data-tooltip-global="You have unread notifications" data-tooltip-unavailable="Notifications are unavailable at the moment." data-tooltip-none="You have no unread notifications" data-header-redesign-enabled="true" data-fetch-indicator-src="/notifications/indicator" data-fetch-indicator-enabled="true" data-view-component="true" class="js-socket-channel">
    <a id="AppHeader-notifications-button" href="/notifications" aria-labelledby="notification-indicator-tooltip" data-hotkey="g n" data-target="notification-indicator.link" data-analytics-event="{&quot;category&quot;:&quot;Global navigation&quot;,&quot;action&quot;:&quot;NOTIFICATIONS_HEADER&quot;,&quot;label&quot;:null}" data-view-component="true" class="Button Button--iconOnly Button--secondary Button--medium AppHeader-button  color-fg-muted">  <svg aria-hidden="true" height="16" viewBox="0 0 16 16" version="1.1" width="16" data-view-component="true" class="octicon octicon-inbox Button-visual">
    <path d="M2.8 2.06A1.75 1.75 0 0 1 4.41 1h7.18c.7 0 1.333.417 1.61 1.06l2.74 6.395c.04.093.06.194.06.295v4.5A1.75 1.75 0 0 1 14.25 15H1.75A1.75 1.75 0 0 1 0 13.25v-4.5c0-.101.02-.202.06-.295Zm1.61.44a.25.25 0 0 0-.23.152L1.887 8H4.75a.75.75 0 0 1 .6.3L6.625 10h2.75l1.275-1.7a.75.75 0 0 1 .6-.3h2.863L11.82 2.652a.25.25 0 0 0-.23-.152Zm10.09 7h-2.875l-1.275 1.7a.75.75 0 0 1-.6.3h-3.5a.75.75 0 0 1-.6-.3L4.375 9.5H1.5v3.75c0 .138.112.25.25.25h12.5a.25.25 0 0 0 .25-.25Z"></path>
</svg>
</a>

    <tool-tip id="notification-indicator-tooltip" data-target="notification-indicator.tooltip" for="AppHeader-notifications-button" popover="manual" data-direction="s" data-type="label" data-view-component="true" class="sr-only position-absolute">Notifications</tool-tip>
</notification-indicator>

        <div class="AppHeader-user">
          <deferred-side-panel data-url="/_side-panels/user?repository_id=506664938">
  <include-fragment data-target="deferred-side-panel.fragment">
    <react-partial-anchor
  
>
  <button data-target="react-partial-anchor.anchor" data-login="pawarvijay1070" aria-label="Open user navigation menu" type="button" data-view-component="true" class="cursor-wait Button--invisible Button--medium Button Button--invisible-noVisuals color-bg-transparent p-0">  <span class="Button-content">
    <span class="Button-label"><img src="https://avatars.githubusercontent.com/u/135657458?v=4" alt="" size="32" height="32" width="32" data-view-component="true" class="avatar circle" /></span>
  </span>
</button>
  <template data-target="react-partial-anchor.template">
    <script crossorigin="anonymous" defer="defer" type="application/javascript" src="https://github.githubassets.com/assets/global-user-nav-drawer-498d725fb69f.js"></script>
<link crossorigin="anonymous" media="all" rel="stylesheet" href="https://github.githubassets.com/assets/primer-react.491a1e189efd351d2e8c.module.css" />
<link crossorigin="anonymous" media="all" rel="stylesheet" href="https://github.githubassets.com/assets/global-user-nav-drawer.830d6c10c9fea7fc134e.module.css" />

<react-partial
  partial-name="global-user-nav-drawer"
  data-ssr="false"
  data-attempted-ssr="false"
>
  
  <script type="application/json" data-target="react-partial.embeddedData">{"props":{"owner":{"login":"pawarvijay1070","name":null,"avatarUrl":"https://avatars.githubusercontent.com/u/135657458?v=4"},"drawerId":"global-user-nav-drawer","lazyLoadItemDataFetchUrl":"/_side-panels/user.json","canAddAccount":true,"addAccountPath":"/login?add_account=1\u0026return_to=https%3A%2F%2Fgithub.com%2Fronakkjain77%2FStock-Price-Prediction%2Fblob%2Fmain%2Fstock%2520price%2520prediction.ipynb","switchAccountPath":"/switch_account","loginAccountPath":"/login?add_account=1","projectsPath":"/pawarvijay1070?tab=projects","gistsUrl":"https://gist.github.com/mine","docsUrl":"https://docs.github.com","yourEnterpriseUrl":null,"enterpriseSettingsUrl":null,"supportUrl":"https://support.github.com","showAccountSwitcher":true,"showCopilot":true,"showEnterprises":true,"showEnterprise":false,"showGists":true,"showOrganizations":true,"showSponsors":true,"showUpgrade":true,"showFeaturesPreviews":true,"showEnterpriseSettings":false,"createMenuProps":{"createRepo":true,"importRepo":true,"codespaces":true,"gist":true,"createOrg":true,"createProject":false,"createProjectUrl":"/pawarvijay1070?tab=projects","createLegacyProject":false,"createIssue":false,"org":null,"owner":"ronakkjain77","repo":"Stock-Price-Prediction"}}}</script>
  <div data-target="react-partial.reactRoot"></div>
</react-partial>

  </template>
</react-partial-anchor>

  </include-fragment>
</deferred-side-panel>
        </div>

        <div class="position-absolute mt-2">
            
<site-header-logged-in-user-menu>

</site-header-logged-in-user-menu>

        </div>
      </div>
    </div>


      <div class="AppHeader-localBar" >
        <nav data-pjax="#js-repo-pjax-container" aria-label="Repository" data-view-component="true" class="js-repo-nav js-sidenav-container-pjax js-responsive-underlinenav overflow-hidden UnderlineNav">

  <ul data-view-component="true" class="UnderlineNav-body list-style-none">
      <li data-view-component="true" class="d-inline-flex">
  <a id="code-tab" href="/ronakkjain77/Stock-Price-Prediction" data-tab-item="i0code-tab" data-selected-links="repo_source repo_downloads repo_commits repo_releases repo_tags repo_branches repo_packages repo_deployments repo_attestations /ronakkjain77/Stock-Price-Prediction" data-pjax="#repo-content-pjax-container" data-turbo-frame="repo-content-turbo-frame" data-hotkey="g c" data-analytics-event="{&quot;category&quot;:&quot;Underline navbar&quot;,&quot;action&quot;:&quot;Click tab&quot;,&quot;label&quot;:&quot;Code&quot;,&quot;target&quot;:&quot;UNDERLINE_NAV.TAB&quot;}" data-view-component="true" class="UnderlineNav-item no-wrap js-responsive-underlinenav-item js-selected-navigation-item">
    
              <svg aria-hidden="true" height="16" viewBox="0 0 16 16" version="1.1" width="16" data-view-component="true" class="octicon octicon-code UnderlineNav-octicon d-none d-sm-inline">
    <path d="m11.28 3.22 4.25 4.25a.75.75 0 0 1 0 1.06l-4.25 4.25a.749.749 0 0 1-1.275-.326.749.749 0 0 1 .215-.734L13.94 8l-3.72-3.72a.749.749 0 0 1 .326-1.275.749.749 0 0 1 .734.215Zm-6.56 0a.751.751 0 0 1 1.042.018.751.751 0 0 1 .018 1.042L2.06 8l3.72 3.72a.749.749 0 0 1-.326 1.275.749.749 0 0 1-.734-.215L.47 8.53a.75.75 0 0 1 0-1.06Z"></path>
</svg>
        <span data-content="Code">Code</span>
          <span id="code-repo-tab-count" data-pjax-replace="" data-turbo-replace="" title="Not available" data-view-component="true" class="Counter"></span>


    
</a></li>
      <li data-view-component="true" class="d-inline-flex">
  <a id="issues-tab" href="/ronakkjain77/Stock-Price-Prediction/issues" data-tab-item="i1issues-tab" data-selected-links="repo_issues repo_labels repo_milestones /ronakkjain77/Stock-Price-Prediction/issues" data-pjax="#repo-content-pjax-container" data-turbo-frame="repo-content-turbo-frame" data-hotkey="g i" data-analytics-event="{&quot;category&quot;:&quot;Underline navbar&quot;,&quot;action&quot;:&quot;Click tab&quot;,&quot;label&quot;:&quot;Issues&quot;,&quot;target&quot;:&quot;UNDERLINE_NAV.TAB&quot;}" data-view-component="true" class="UnderlineNav-item no-wrap js-responsive-underlinenav-item js-selected-navigation-item">
    
              <svg aria-hidden="true" height="16" viewBox="0 0 16 16" version="1.1" width="16" data-view-component="true" class="octicon octicon-issue-opened UnderlineNav-octicon d-none d-sm-inline">
    <path d="M8 9.5a1.5 1.5 0 1 0 0-3 1.5 1.5 0 0 0 0 3Z"></path><path d="M8 0a8 8 0 1 1 0 16A8 8 0 0 1 8 0ZM1.5 8a6.5 6.5 0 1 0 13 0 6.5 6.5 0 0 0-13 0Z"></path>
</svg>
        <span data-content="Issues">Issues</span>
          <span id="issues-repo-tab-count" data-pjax-replace="" data-turbo-replace="" title="0" hidden="hidden" data-view-component="true" class="Counter">0</span>


    
</a></li>
      <li data-view-component="true" class="d-inline-flex">
  <a id="pull-requests-tab" href="/ronakkjain77/Stock-Price-Prediction/pulls" data-tab-item="i2pull-requests-tab" data-selected-links="repo_pulls checks /ronakkjain77/Stock-Price-Prediction/pulls" data-pjax="#repo-content-pjax-container" data-turbo-frame="repo-content-turbo-frame" data-hotkey="g p" data-analytics-event="{&quot;category&quot;:&quot;Underline navbar&quot;,&quot;action&quot;:&quot;Click tab&quot;,&quot;label&quot;:&quot;Pull requests&quot;,&quot;target&quot;:&quot;UNDERLINE_NAV.TAB&quot;}" data-view-component="true" class="UnderlineNav-item no-wrap js-responsive-underlinenav-item js-selected-navigation-item">
    
              <svg aria-hidden="true" height="16" viewBox="0 0 16 16" version="1.1" width="16" data-view-component="true" class="octicon octicon-git-pull-request UnderlineNav-octicon d-none d-sm-inline">
    <path d="M1.5 3.25a2.25 2.25 0 1 1 3 2.122v5.256a2.251 2.251 0 1 1-1.5 0V5.372A2.25 2.25 0 0 1 1.5 3.25Zm5.677-.177L9.573.677A.25.25 0 0 1 10 .854V2.5h1A2.5 2.5 0 0 1 13.5 5v5.628a2.251 2.251 0 1 1-1.5 0V5a1 1 0 0 0-1-1h-1v1.646a.25.25 0 0 1-.427.177L7.177 3.427a.25.25 0 0 1 0-.354ZM3.75 2.5a.75.75 0 1 0 0 1.5.75.75 0 0 0 0-1.5Zm0 9.5a.75.75 0 1 0 0 1.5.75.75 0 0 0 0-1.5Zm8.25.75a.75.75 0 1 0 1.5 0 .75.75 0 0 0-1.5 0Z"></path>
</svg>
        <span data-content="Pull requests">Pull requests</span>
          <span id="pull-requests-repo-tab-count" data-pjax-replace="" data-turbo-replace="" title="0" hidden="hidden" data-view-component="true" class="Counter">0</span>


    
</a></li>
      <li data-view-component="true" class="d-inline-flex">
  <a id="actions-tab" href="/ronakkjain77/Stock-Price-Prediction/actions" data-tab-item="i3actions-tab" data-selected-links="repo_actions /ronakkjain77/Stock-Price-Prediction/actions" data-pjax="#repo-content-pjax-container" data-turbo-frame="repo-content-turbo-frame" data-hotkey="g a" data-analytics-event="{&quot;category&quot;:&quot;Underline navbar&quot;,&quot;action&quot;:&quot;Click tab&quot;,&quot;label&quot;:&quot;Actions&quot;,&quot;target&quot;:&quot;UNDERLINE_NAV.TAB&quot;}" data-view-component="true" class="UnderlineNav-item no-wrap js-responsive-underlinenav-item js-selected-navigation-item">
    
              <svg aria-hidden="true" height="16" viewBox="0 0 16 16" version="1.1" width="16" data-view-component="true" class="octicon octicon-play UnderlineNav-octicon d-none d-sm-inline">
    <path d="M8 0a8 8 0 1 1 0 16A8 8 0 0 1 8 0ZM1.5 8a6.5 6.5 0 1 0 13 0 6.5 6.5 0 0 0-13 0Zm4.879-2.773 4.264 2.559a.25.25 0 0 1 0 .428l-4.264 2.559A.25.25 0 0 1 6 10.559V5.442a.25.25 0 0 1 .379-.215Z"></path>
</svg>
        <span data-content="Actions">Actions</span>
          <span id="actions-repo-tab-count" data-pjax-replace="" data-turbo-replace="" title="Not available" data-view-component="true" class="Counter"></span>


    
</a></li>
      <li data-view-component="true" class="d-inline-flex">
  <a id="projects-tab" href="/ronakkjain77/Stock-Price-Prediction/projects" data-tab-item="i4projects-tab" data-selected-links="repo_projects new_repo_project repo_project /ronakkjain77/Stock-Price-Prediction/projects" data-pjax="#repo-content-pjax-container" data-turbo-frame="repo-content-turbo-frame" data-hotkey="g b" data-analytics-event="{&quot;category&quot;:&quot;Underline navbar&quot;,&quot;action&quot;:&quot;Click tab&quot;,&quot;label&quot;:&quot;Projects&quot;,&quot;target&quot;:&quot;UNDERLINE_NAV.TAB&quot;}" data-view-component="true" class="UnderlineNav-item no-wrap js-responsive-underlinenav-item js-selected-navigation-item">
    
              <svg aria-hidden="true" height="16" viewBox="0 0 16 16" version="1.1" width="16" data-view-component="true" class="octicon octicon-table UnderlineNav-octicon d-none d-sm-inline">
    <path d="M0 1.75C0 .784.784 0 1.75 0h12.5C15.216 0 16 .784 16 1.75v12.5A1.75 1.75 0 0 1 14.25 16H1.75A1.75 1.75 0 0 1 0 14.25ZM6.5 6.5v8h7.75a.25.25 0 0 0 .25-.25V6.5Zm8-1.5V1.75a.25.25 0 0 0-.25-.25H6.5V5Zm-13 1.5v7.75c0 .138.112.25.25.25H5v-8ZM5 5V1.5H1.75a.25.25 0 0 0-.25.25V5Z"></path>
</svg>
        <span data-content="Projects">Projects</span>
          <span id="projects-repo-tab-count" data-pjax-replace="" data-turbo-replace="" title="0" hidden="hidden" data-view-component="true" class="Counter">0</span>


    
</a></li>
      <li data-view-component="true" class="d-inline-flex">
  <a id="security-tab" href="/ronakkjain77/Stock-Price-Prediction/security" data-tab-item="i5security-tab" data-selected-links="security overview alerts policy token_scanning code_scanning /ronakkjain77/Stock-Price-Prediction/security" data-pjax="#repo-content-pjax-container" data-turbo-frame="repo-content-turbo-frame" data-hotkey="g s" data-analytics-event="{&quot;category&quot;:&quot;Underline navbar&quot;,&quot;action&quot;:&quot;Click tab&quot;,&quot;label&quot;:&quot;Security&quot;,&quot;target&quot;:&quot;UNDERLINE_NAV.TAB&quot;}" data-view-component="true" class="UnderlineNav-item no-wrap js-responsive-underlinenav-item js-selected-navigation-item">
    
              <svg aria-hidden="true" height="16" viewBox="0 0 16 16" version="1.1" width="16" data-view-component="true" class="octicon octicon-shield UnderlineNav-octicon d-none d-sm-inline">
    <path d="M7.467.133a1.748 1.748 0 0 1 1.066 0l5.25 1.68A1.75 1.75 0 0 1 15 3.48V7c0 1.566-.32 3.182-1.303 4.682-.983 1.498-2.585 2.813-5.032 3.855a1.697 1.697 0 0 1-1.33 0c-2.447-1.042-4.049-2.357-5.032-3.855C1.32 10.182 1 8.566 1 7V3.48a1.75 1.75 0 0 1 1.217-1.667Zm.61 1.429a.25.25 0 0 0-.153 0l-5.25 1.68a.25.25 0 0 0-.174.238V7c0 1.358.275 2.666 1.057 3.86.784 1.194 2.121 2.34 4.366 3.297a.196.196 0 0 0 .154 0c2.245-.956 3.582-2.104 4.366-3.298C13.225 9.666 13.5 8.36 13.5 7V3.48a.251.251 0 0 0-.174-.237l-5.25-1.68ZM8.75 4.75v3a.75.75 0 0 1-1.5 0v-3a.75.75 0 0 1 1.5 0ZM9 10.5a1 1 0 1 1-2 0 1 1 0 0 1 2 0Z"></path>
</svg>
        <span data-content="Security">Security</span>
          <include-fragment src="/ronakkjain77/Stock-Price-Prediction/security/overall-count" accept="text/fragment+html"></include-fragment>

    
</a></li>
      <li data-view-component="true" class="d-inline-flex">
  <a id="insights-tab" href="/ronakkjain77/Stock-Price-Prediction/pulse" data-tab-item="i6insights-tab" data-selected-links="repo_graphs repo_contributors dependency_graph dependabot_updates pulse people community /ronakkjain77/Stock-Price-Prediction/pulse" data-pjax="#repo-content-pjax-container" data-turbo-frame="repo-content-turbo-frame" data-analytics-event="{&quot;category&quot;:&quot;Underline navbar&quot;,&quot;action&quot;:&quot;Click tab&quot;,&quot;label&quot;:&quot;Insights&quot;,&quot;target&quot;:&quot;UNDERLINE_NAV.TAB&quot;}" data-view-component="true" class="UnderlineNav-item no-wrap js-responsive-underlinenav-item js-selected-navigation-item">
    
              <svg aria-hidden="true" height="16" viewBox="0 0 16 16" version="1.1" width="16" data-view-component="true" class="octicon octicon-graph UnderlineNav-octicon d-none d-sm-inline">
    <path d="M1.5 1.75V13.5h13.75a.75.75 0 0 1 0 1.5H.75a.75.75 0 0 1-.75-.75V1.75a.75.75 0 0 1 1.5 0Zm14.28 2.53-5.25 5.25a.75.75 0 0 1-1.06 0L7 7.06 4.28 9.78a.751.751 0 0 1-1.042-.018.751.751 0 0 1-.018-1.042l3.25-3.25a.75.75 0 0 1 1.06 0L10 7.94l4.72-4.72a.751.751 0 0 1 1.042.018.751.751 0 0 1 .018 1.042Z"></path>
</svg>
        <span data-content="Insights">Insights</span>
          <span id="insights-repo-tab-count" data-pjax-replace="" data-turbo-replace="" title="Not available" data-view-component="true" class="Counter"></span>


    
</a></li>
</ul>
    <div style="visibility:hidden;" data-view-component="true" class="UnderlineNav-actions js-responsive-underlinenav-overflow position-absolute pr-3 pr-md-4 pr-lg-5 right-0">      <action-menu data-select-variant="none" data-view-component="true">
  <focus-group direction="vertical" mnemonics retain>
    <button id="action-menu-e99d7c57-4d5d-4e57-a8e7-e735260626be-button" popovertarget="action-menu-e99d7c57-4d5d-4e57-a8e7-e735260626be-overlay" aria-controls="action-menu-e99d7c57-4d5d-4e57-a8e7-e735260626be-list" aria-haspopup="true" aria-labelledby="tooltip-f94f3676-95e7-4385-a173-2af2ce13e38d" type="button" data-view-component="true" class="Button Button--iconOnly Button--secondary Button--medium UnderlineNav-item">  <svg aria-hidden="true" height="16" viewBox="0 0 16 16" version="1.1" width="16" data-view-component="true" class="octicon octicon-kebab-horizontal Button-visual">
    <path d="M8 9a1.5 1.5 0 1 0 0-3 1.5 1.5 0 0 0 0 3ZM1.5 9a1.5 1.5 0 1 0 0-3 1.5 1.5 0 0 0 0 3Zm13 0a1.5 1.5 0 1 0 0-3 1.5 1.5 0 0 0 0 3Z"></path>
</svg>
</button><tool-tip id="tooltip-f94f3676-95e7-4385-a173-2af2ce13e38d" for="action-menu-e99d7c57-4d5d-4e57-a8e7-e735260626be-button" popover="manual" data-direction="s" data-type="label" data-view-component="true" class="sr-only position-absolute">Additional navigation options</tool-tip>


<anchored-position data-target="action-menu.overlay" id="action-menu-e99d7c57-4d5d-4e57-a8e7-e735260626be-overlay" anchor="action-menu-e99d7c57-4d5d-4e57-a8e7-e735260626be-button" align="start" side="outside-bottom" anchor-offset="normal" popover="auto" data-view-component="true">
  <div data-view-component="true" class="Overlay Overlay--size-auto">
    
      <div data-view-component="true" class="Overlay-body Overlay-body--paddingNone">          <action-list>
  <div data-view-component="true">
    <ul aria-labelledby="action-menu-e99d7c57-4d5d-4e57-a8e7-e735260626be-button" id="action-menu-e99d7c57-4d5d-4e57-a8e7-e735260626be-list" role="menu" data-view-component="true" class="ActionListWrap--inset ActionListWrap">
        <li hidden="hidden" data-menu-item="i0code-tab" data-targets="action-list.items" role="none" data-view-component="true" class="ActionListItem">
    
    
    <a tabindex="-1" id="item-cba218b8-7bd0-45f0-a1be-49b7230745a6" href="/ronakkjain77/Stock-Price-Prediction" role="menuitem" data-view-component="true" class="ActionListContent ActionListContent--visual16">
        <span class="ActionListItem-visual ActionListItem-visual--leading">
          <svg aria-hidden="true" height="16" viewBox="0 0 16 16" version="1.1" width="16" data-view-component="true" class="octicon octicon-code">
    <path d="m11.28 3.22 4.25 4.25a.75.75 0 0 1 0 1.06l-4.25 4.25a.749.749 0 0 1-1.275-.326.749.749 0 0 1 .215-.734L13.94 8l-3.72-3.72a.749.749 0 0 1 .326-1.275.749.749 0 0 1 .734.215Zm-6.56 0a.751.751 0 0 1 1.042.018.751.751 0 0 1 .018 1.042L2.06 8l3.72 3.72a.749.749 0 0 1-.326 1.275.749.749 0 0 1-.734-.215L.47 8.53a.75.75 0 0 1 0-1.06Z"></path>
</svg>
        </span>
      
        <span data-view-component="true" class="ActionListItem-label">
          Code
</span>      
</a>
  
</li>
        <li hidden="hidden" data-menu-item="i1issues-tab" data-targets="action-list.items" role="none" data-view-component="true" class="ActionListItem">
    
    
    <a tabindex="-1" id="item-75638012-95e6-470b-a471-88fa3a6a902c" href="/ronakkjain77/Stock-Price-Prediction/issues" role="menuitem" data-view-component="true" class="ActionListContent ActionListContent--visual16">
        <span class="ActionListItem-visual ActionListItem-visual--leading">
          <svg aria-hidden="true" height="16" viewBox="0 0 16 16" version="1.1" width="16" data-view-component="true" class="octicon octicon-issue-opened">
    <path d="M8 9.5a1.5 1.5 0 1 0 0-3 1.5 1.5 0 0 0 0 3Z"></path><path d="M8 0a8 8 0 1 1 0 16A8 8 0 0 1 8 0ZM1.5 8a6.5 6.5 0 1 0 13 0 6.5 6.5 0 0 0-13 0Z"></path>
</svg>
        </span>
      
        <span data-view-component="true" class="ActionListItem-label">
          Issues
</span>      
</a>
  
</li>
        <li hidden="hidden" data-menu-item="i2pull-requests-tab" data-targets="action-list.items" role="none" data-view-component="true" class="ActionListItem">
    
    
    <a tabindex="-1" id="item-e30a1901-612c-4863-9590-ab8ae82b7ffa" href="/ronakkjain77/Stock-Price-Prediction/pulls" role="menuitem" data-view-component="true" class="ActionListContent ActionListContent--visual16">
        <span class="ActionListItem-visual ActionListItem-visual--leading">
          <svg aria-hidden="true" height="16" viewBox="0 0 16 16" version="1.1" width="16" data-view-component="true" class="octicon octicon-git-pull-request">
    <path d="M1.5 3.25a2.25 2.25 0 1 1 3 2.122v5.256a2.251 2.251 0 1 1-1.5 0V5.372A2.25 2.25 0 0 1 1.5 3.25Zm5.677-.177L9.573.677A.25.25 0 0 1 10 .854V2.5h1A2.5 2.5 0 0 1 13.5 5v5.628a2.251 2.251 0 1 1-1.5 0V5a1 1 0 0 0-1-1h-1v1.646a.25.25 0 0 1-.427.177L7.177 3.427a.25.25 0 0 1 0-.354ZM3.75 2.5a.75.75 0 1 0 0 1.5.75.75 0 0 0 0-1.5Zm0 9.5a.75.75 0 1 0 0 1.5.75.75 0 0 0 0-1.5Zm8.25.75a.75.75 0 1 0 1.5 0 .75.75 0 0 0-1.5 0Z"></path>
</svg>
        </span>
      
        <span data-view-component="true" class="ActionListItem-label">
          Pull requests
</span>      
</a>
  
</li>
        <li hidden="hidden" data-menu-item="i3actions-tab" data-targets="action-list.items" role="none" data-view-component="true" class="ActionListItem">
    
    
    <a tabindex="-1" id="item-acf00880-cbcb-49f2-b55d-9fbb4ec3723b" href="/ronakkjain77/Stock-Price-Prediction/actions" role="menuitem" data-view-component="true" class="ActionListContent ActionListContent--visual16">
        <span class="ActionListItem-visual ActionListItem-visual--leading">
          <svg aria-hidden="true" height="16" viewBox="0 0 16 16" version="1.1" width="16" data-view-component="true" class="octicon octicon-play">
    <path d="M8 0a8 8 0 1 1 0 16A8 8 0 0 1 8 0ZM1.5 8a6.5 6.5 0 1 0 13 0 6.5 6.5 0 0 0-13 0Zm4.879-2.773 4.264 2.559a.25.25 0 0 1 0 .428l-4.264 2.559A.25.25 0 0 1 6 10.559V5.442a.25.25 0 0 1 .379-.215Z"></path>
</svg>
        </span>
      
        <span data-view-component="true" class="ActionListItem-label">
          Actions
</span>      
</a>
  
</li>
        <li hidden="hidden" data-menu-item="i4projects-tab" data-targets="action-list.items" role="none" data-view-component="true" class="ActionListItem">
    
    
    <a tabindex="-1" id="item-0f9f0ae8-752a-47e1-b7ac-017b3a7da97c" href="/ronakkjain77/Stock-Price-Prediction/projects" role="menuitem" data-view-component="true" class="ActionListContent ActionListContent--visual16">
        <span class="ActionListItem-visual ActionListItem-visual--leading">
          <svg aria-hidden="true" height="16" viewBox="0 0 16 16" version="1.1" width="16" data-view-component="true" class="octicon octicon-table">
    <path d="M0 1.75C0 .784.784 0 1.75 0h12.5C15.216 0 16 .784 16 1.75v12.5A1.75 1.75 0 0 1 14.25 16H1.75A1.75 1.75 0 0 1 0 14.25ZM6.5 6.5v8h7.75a.25.25 0 0 0 .25-.25V6.5Zm8-1.5V1.75a.25.25 0 0 0-.25-.25H6.5V5Zm-13 1.5v7.75c0 .138.112.25.25.25H5v-8ZM5 5V1.5H1.75a.25.25 0 0 0-.25.25V5Z"></path>
</svg>
        </span>
      
        <span data-view-component="true" class="ActionListItem-label">
          Projects
</span>      
</a>
  
</li>
        <li hidden="hidden" data-menu-item="i5security-tab" data-targets="action-list.items" role="none" data-view-component="true" class="ActionListItem">
    
    
    <a tabindex="-1" id="item-a7d33824-d09f-4030-a745-20d00775c527" href="/ronakkjain77/Stock-Price-Prediction/security" role="menuitem" data-view-component="true" class="ActionListContent ActionListContent--visual16">
        <span class="ActionListItem-visual ActionListItem-visual--leading">
          <svg aria-hidden="true" height="16" viewBox="0 0 16 16" version="1.1" width="16" data-view-component="true" class="octicon octicon-shield">
    <path d="M7.467.133a1.748 1.748 0 0 1 1.066 0l5.25 1.68A1.75 1.75 0 0 1 15 3.48V7c0 1.566-.32 3.182-1.303 4.682-.983 1.498-2.585 2.813-5.032 3.855a1.697 1.697 0 0 1-1.33 0c-2.447-1.042-4.049-2.357-5.032-3.855C1.32 10.182 1 8.566 1 7V3.48a1.75 1.75 0 0 1 1.217-1.667Zm.61 1.429a.25.25 0 0 0-.153 0l-5.25 1.68a.25.25 0 0 0-.174.238V7c0 1.358.275 2.666 1.057 3.86.784 1.194 2.121 2.34 4.366 3.297a.196.196 0 0 0 .154 0c2.245-.956 3.582-2.104 4.366-3.298C13.225 9.666 13.5 8.36 13.5 7V3.48a.251.251 0 0 0-.174-.237l-5.25-1.68ZM8.75 4.75v3a.75.75 0 0 1-1.5 0v-3a.75.75 0 0 1 1.5 0ZM9 10.5a1 1 0 1 1-2 0 1 1 0 0 1 2 0Z"></path>
</svg>
        </span>
      
        <span data-view-component="true" class="ActionListItem-label">
          Security
</span>      
</a>
  
</li>
        <li hidden="hidden" data-menu-item="i6insights-tab" data-targets="action-list.items" role="none" data-view-component="true" class="ActionListItem">
    
    
    <a tabindex="-1" id="item-55c23fa7-f2af-4f54-88dd-58045d9aef56" href="/ronakkjain77/Stock-Price-Prediction/pulse" role="menuitem" data-view-component="true" class="ActionListContent ActionListContent--visual16">
        <span class="ActionListItem-visual ActionListItem-visual--leading">
          <svg aria-hidden="true" height="16" viewBox="0 0 16 16" version="1.1" width="16" data-view-component="true" class="octicon octicon-graph">
    <path d="M1.5 1.75V13.5h13.75a.75.75 0 0 1 0 1.5H.75a.75.75 0 0 1-.75-.75V1.75a.75.75 0 0 1 1.5 0Zm14.28 2.53-5.25 5.25a.75.75 0 0 1-1.06 0L7 7.06 4.28 9.78a.751.751 0 0 1-1.042-.018.751.751 0 0 1-.018-1.042l3.25-3.25a.75.75 0 0 1 1.06 0L10 7.94l4.72-4.72a.751.751 0 0 1 1.042.018.751.751 0 0 1 .018 1.042Z"></path>
</svg>
        </span>
      
        <span data-view-component="true" class="ActionListItem-label">
          Insights
</span>      
</a>
  
</li>
</ul>    
</div></action-list>


</div>
      
</div></anchored-position>  </focus-group>
</action-menu></div>
</nav>
      </div>
</header>


      <div hidden="hidden" data-view-component="true" class="js-stale-session-flash stale-session-flash flash flash-warn flash-full">
  
        <svg aria-hidden="true" height="16" viewBox="0 0 16 16" version="1.1" width="16" data-view-component="true" class="octicon octicon-alert">
    <path d="M6.457 1.047c.659-1.234 2.427-1.234 3.086 0l6.082 11.378A1.75 1.75 0 0 1 14.082 15H1.918a1.75 1.75 0 0 1-1.543-2.575Zm1.763.707a.25.25 0 0 0-.44 0L1.698 13.132a.25.25 0 0 0 .22.368h12.164a.25.25 0 0 0 .22-.368Zm.53 3.996v2.5a.75.75 0 0 1-1.5 0v-2.5a.75.75 0 0 1 1.5 0ZM9 11a1 1 0 1 1-2 0 1 1 0 0 1 2 0Z"></path>
</svg>
        <span class="js-stale-session-flash-signed-in" hidden>You signed in with another tab or window. <a class="Link--inTextBlock" href="">Reload</a> to refresh your session.</span>
        <span class="js-stale-session-flash-signed-out" hidden>You signed out in another tab or window. <a class="Link--inTextBlock" href="">Reload</a> to refresh your session.</span>
        <span class="js-stale-session-flash-switched" hidden>You switched accounts on another tab or window. <a class="Link--inTextBlock" href="">Reload</a> to refresh your session.</span>

    <button id="icon-button-13505f4c-aa85-490a-a8ce-9f2d9ef0c886" aria-labelledby="tooltip-d8b7c87b-c6b6-417f-a660-912a6bac2ed8" type="button" data-view-component="true" class="Button Button--iconOnly Button--invisible Button--medium flash-close js-flash-close">  <svg aria-hidden="true" height="16" viewBox="0 0 16 16" version="1.1" width="16" data-view-component="true" class="octicon octicon-x Button-visual">
    <path d="M3.72 3.72a.75.75 0 0 1 1.06 0L8 6.94l3.22-3.22a.749.749 0 0 1 1.275.326.749.749 0 0 1-.215.734L9.06 8l3.22 3.22a.749.749 0 0 1-.326 1.275.749.749 0 0 1-.734-.215L8 9.06l-3.22 3.22a.751.751 0 0 1-1.042-.018.751.751 0 0 1-.018-1.042L6.94 8 3.72 4.78a.75.75 0 0 1 0-1.06Z"></path>
</svg>
</button><tool-tip id="tooltip-d8b7c87b-c6b6-417f-a660-912a6bac2ed8" for="icon-button-13505f4c-aa85-490a-a8ce-9f2d9ef0c886" popover="manual" data-direction="s" data-type="label" data-view-component="true" class="sr-only position-absolute">Dismiss alert</tool-tip>


  
</div>
          
    </div>

  <div id="start-of-content" class="show-on-focus"></div>








    <div id="js-flash-container" class="flash-container" data-turbo-replace>


      <include-fragment  src="/settings/two_factor_authentication/holiday_warning_banner"></include-fragment>


  <template class="js-flash-template">
    
<div class="flash flash-full   {{ className }}">
  <div >
    <button autofocus class="flash-close js-flash-close" type="button" aria-label="Dismiss this message">
      <svg aria-hidden="true" height="16" viewBox="0 0 16 16" version="1.1" width="16" data-view-component="true" class="octicon octicon-x">
    <path d="M3.72 3.72a.75.75 0 0 1 1.06 0L8 6.94l3.22-3.22a.749.749 0 0 1 1.275.326.749.749 0 0 1-.215.734L9.06 8l3.22 3.22a.749.749 0 0 1-.326 1.275.749.749 0 0 1-.734-.215L8 9.06l-3.22 3.22a.751.751 0 0 1-1.042-.018.751.751 0 0 1-.018-1.042L6.94 8 3.72 4.78a.75.75 0 0 1 0-1.06Z"></path>
</svg>
    </button>
    <div aria-atomic="true" role="alert" class="js-flash-alert">
      
      <div>{{ message }}</div>

    </div>
  </div>
</div>
  </template>
</div>


    
  <notification-shelf-watcher data-base-url="https://github.com/notifications/beta/shelf" data-channel="eyJjIjoibm90aWZpY2F0aW9uLWNoYW5nZWQ6MTM1NjU3NDU4IiwidCI6MTczNjUwNjc5OH0=--603020344b275f1c2fdecf90b4073674949fd0ebbbce7d3bad95909076aa2f31" data-view-component="true" class="js-socket-channel"></notification-shelf-watcher>
  <div hidden data-initial data-target="notification-shelf-watcher.placeholder"></div>






  <div
    class="application-main "
    data-commit-hovercards-enabled
    data-discussion-hovercards-enabled
    data-issue-and-pr-hovercards-enabled
    data-project-hovercards-enabled
  >
        <div itemscope itemtype="http://schema.org/SoftwareSourceCode" class="">
    <main id="js-repo-pjax-container" >
      
      






    
  <div id="repository-container-header" data-turbo-replace hidden ></div>




<turbo-frame id="repo-content-turbo-frame" target="_top" data-turbo-action="advance" class="">
    <div id="repo-content-pjax-container" class="repository-content " >
      <a href="https://github.dev/" class="d-none js-github-dev-shortcut" data-hotkey=".,Mod+Alt+.">Open in github.dev</a>
  <a href="https://github.dev/" class="d-none js-github-dev-new-tab-shortcut" data-hotkey="Shift+.,Shift+&gt;,&gt;" target="_blank" rel="noopener noreferrer">Open in a new github.dev tab</a>
    <a class="d-none" data-hotkey=",,Mod+Alt+," target="_blank" href="/codespaces/new/ronakkjain77/Stock-Price-Prediction/tree/main?resume=1">Open in codespace</a>




    
      
    








<react-app
  app-name="react-code-view"
  initial-path="/ronakkjain77/Stock-Price-Prediction/blob/main/stock%20price%20prediction.ipynb"
    style="display: block; min-height: calc(100vh - 64px);"
  data-attempted-ssr="true"
  data-ssr="true"
  data-lazy="false"
  data-alternate="false"
>
  
  <script type="application/json" data-target="react-app.embeddedData">{"payload":{"allShortcutsEnabled":true,"fileTree":{"":{"items":[{"name":"README.md","path":"README.md","contentType":"file"},{"name":"stock price prediction.ipynb","path":"stock price prediction.ipynb","contentType":"file"}],"totalCount":2}},"fileTreeProcessingTime":9.525820000000001,"foldersToFetch":[],"repo":{"id":506664938,"defaultBranch":"main","name":"Stock-Price-Prediction","ownerLogin":"ronakkjain77","currentUserCanPush":false,"isFork":false,"isEmpty":false,"createdAt":"2022-06-23T19:34:57.000+05:30","ownerAvatar":"https://avatars.githubusercontent.com/u/85284107?v=4","public":true,"private":false,"isOrgOwned":false},"codeLineWrapEnabled":false,"symbolsExpanded":false,"treeExpanded":true,"refInfo":{"name":"main","listCacheKey":"v0:1655993120.492061","canEdit":true,"refType":"branch","currentOid":"55a71551fee105d69dcc6b5feef03aa51263a350"},"path":"stock price prediction.ipynb","currentUser":{"id":135657458,"login":"pawarvijay1070","userEmail":"pawarvijay1070@gmail.com"},"blob":{"rawLines":["{"," \"cells\": [","  {","   \"cell_type\": \"code\",","   \"execution_count\": 13,","   \"id\": \"independent-package\",","   \"metadata\": {},","   \"outputs\": [],","   \"source\": [","    \"import numpy as np\\n\",","    \"import matplotlib.pyplot as plt\\n\",","    \"import pandas as pd\\n\",","    \"import pandas_datareader as web\\n\",","    \"import datetime as dt\\n\",","    \"import streamlit as st\"","   ]","  },","  {","   \"cell_type\": \"code\",","   \"execution_count\": 14,","   \"id\": \"revolutionary-value\",","   \"metadata\": {},","   \"outputs\": [],","   \"source\": [","    \"from sklearn.preprocessing import MinMaxScaler\\n\",","    \"from tensorflow.keras.layers import Dense,Dropout,LSTM\\n\",","    \"from tensorflow.keras.models import  Sequential\"","   ]","  },","  {","   \"cell_type\": \"code\",","   \"execution_count\": 15,","   \"id\": \"special-anger\",","   \"metadata\": {},","   \"outputs\": [","    {","     \"data\": {","      \"text/plain\": [","       \"DeltaGenerator(_root_container=0, _provided_cursor=None, _parent=None, _block_type=None, _form_data=None)\"","      ]","     },","     \"execution_count\": 15,","     \"metadata\": {},","     \"output_type\": \"execute_result\"","    }","   ],","   \"source\": [","    \"st.title('Stock and Cryptcurrency Price Prediction')\"","   ]","  },","  {","   \"cell_type\": \"code\",","   \"execution_count\": 16,","   \"id\": \"worldwide-robin\",","   \"metadata\": {},","   \"outputs\": [],","   \"source\": [","    \"#stock_name1=st.selectbox(('TSLA'),('AAPL'))\\n\",","    \"stock_name=st.text_input(\\\"Enter Any Stock\\\",'TCS.NS')\\n\",","    \"future_day=st.number_input(\\\"Enter Number of Days\\\",1)\"","   ]","  },","  {","   \"cell_type\": \"code\",","   \"execution_count\": 17,","   \"id\": \"competent-testimony\",","   \"metadata\": {},","   \"outputs\": [],","   \"source\": [","    \"#against_currency='INR'\"","   ]","  },","  {","   \"cell_type\": \"code\",","   \"execution_count\": 18,","   \"id\": \"close-luther\",","   \"metadata\": {},","   \"outputs\": [],","   \"source\": [","    \"start = dt.datetime(2018,1,1)\\n\",","    \"end = dt.datetime.now()\"","   ]","  },","  {","   \"cell_type\": \"code\",","   \"execution_count\": 19,","   \"id\": \"northern-click\",","   \"metadata\": {},","   \"outputs\": [],","   \"source\": [","    \"#Taking data from web using yahoo finanace API\\n\",","    \"data = web.DataReader(f'{stock_name}','yahoo',start,end)\"","   ]","  },","  {","   \"cell_type\": \"code\",","   \"execution_count\": 20,","   \"id\": \"mature-audit\",","   \"metadata\": {},","   \"outputs\": [","    {","     \"name\": \"stdout\",","     \"output_type\": \"stream\",","     \"text\": [","      \"                   High          Low         Open        Close     Volume  \\\\\\n\",","      \"Date                                                                        \\n\",","      \"2018-01-01  1347.400024  1317.500000  1341.150024  1322.800049  1351760.0   \\n\",","      \"2018-01-02  1334.800049  1310.099976  1330.000000  1315.599976  1920290.0   \\n\",","      \"2018-01-03  1334.500000  1315.599976  1316.000000  1319.324951  1257120.0   \\n\",","      \"2018-01-04  1331.000000  1320.000000  1325.000000  1328.550049   913082.0   \\n\",","      \"2018-01-05  1349.750000  1325.000000  1325.000000  1344.599976  1153706.0   \\n\",","      \"...                 ...          ...          ...          ...        ...   \\n\",","      \"2022-02-16  3854.100098  3806.000000  3844.000000  3813.100098  3256906.0   \\n\",","      \"2022-02-17  3835.000000  3779.000000  3825.000000  3784.199951  3134372.0   \\n\",","      \"2022-02-18  3815.949951  3757.600098  3769.000000  3793.899902  3688883.0   \\n\",","      \"2022-02-21  3827.800049  3705.550049  3810.000000  3719.399902  7465922.0   \\n\",","      \"2022-02-22  3667.899902  3586.000000  3650.000000  3594.949951  1473930.0   \\n\",","      \"\\n\",","      \"              Adj Close  \\n\",","      \"Date                     \\n\",","      \"2018-01-01  1222.738281  \\n\",","      \"2018-01-02  1216.082886  \\n\",","      \"2018-01-03  1219.526123  \\n\",","      \"2018-01-04  1228.053223  \\n\",","      \"2018-01-05  1242.889160  \\n\",","      \"...                 ...  \\n\",","      \"2022-02-16  3813.100098  \\n\",","      \"2022-02-17  3784.199951  \\n\",","      \"2022-02-18  3793.899902  \\n\",","      \"2022-02-21  3719.399902  \\n\",","      \"2022-02-22  3594.949951  \\n\",","      \"\\n\",","      \"[1024 rows x 6 columns]\\n\"","     ]","    }","   ],","   \"source\": [","    \"#data = pd.read_csv('LIVE DATA.xlsx')\\n\",","    \"#prepare data\\n\",","    \"print(data)\"","   ]","  },","  {","   \"cell_type\": \"code\",","   \"execution_count\": 21,","   \"id\": \"elect-yacht\",","   \"metadata\": {},","   \"outputs\": [],","   \"source\": [","    \"#feature scaling\\n\",","    \"scalar = MinMaxScaler(feature_range=(0,1))\\n\",","    \"scaled_data=scalar.fit_transform(data['Close'].values.reshape(-1,1))\"","   ]","  },","  {","   \"cell_type\": \"code\",","   \"execution_count\": 22,","   \"id\": \"affecting-stations\",","   \"metadata\": {},","   \"outputs\": [],","   \"source\": [","    \"prediction_days=14\\n\",","    \"#future_day=2\"","   ]","  },","  {","   \"cell_type\": \"code\",","   \"execution_count\": 23,","   \"id\": \"complex-wagner\",","   \"metadata\": {},","   \"outputs\": [],","   \"source\": [","    \"x_train,y_train=[],[]\\n\",","    \"for x in range(prediction_days,len(scaled_data)-future_day):\\n\",","    \"    x_train.append(scaled_data[x-prediction_days:x,0])\\n\",","    \"    y_train.append(scaled_data[x+future_day,0])\"","   ]","  },","  {","   \"cell_type\": \"code\",","   \"execution_count\": 24,","   \"id\": \"valid-planner\",","   \"metadata\": {},","   \"outputs\": [],","   \"source\": [","    \"x_train,y_train= np.array(x_train),np.array(y_train)\\n\",","    \"x_train=np.reshape(x_train,(x_train.shape[0],x_train.shape[1],1))\"","   ]","  },","  {","   \"cell_type\": \"code\",","   \"execution_count\": 25,","   \"id\": \"further-atlantic\",","   \"metadata\": {},","   \"outputs\": [],","   \"source\": [","    \"#CREATING A NEURAL NETWORK\"","   ]","  },","  {","   \"cell_type\": \"code\",","   \"execution_count\": 26,","   \"id\": \"immediate-responsibility\",","   \"metadata\": {},","   \"outputs\": [],","   \"source\": [","    \"model=Sequential()\\n\",","    \"model.add(LSTM(units=50,return_sequences=True,input_shape=(x_train.shape[1],1)))\\n\",","    \"model.add(Dropout(0.4))\\n\",","    \"model.add(LSTM(units=50,return_sequences=True))\\n\",","    \"model.add(Dropout(0.4))\\n\",","    \"model.add(LSTM(units=50))\\n\",","    \"model.add(Dropout(0.5))\\n\",","    \"model.add(Dense(units=1))\"","   ]","  },","  {","   \"cell_type\": \"code\",","   \"execution_count\": 27,","   \"id\": \"antique-access\",","   \"metadata\": {},","   \"outputs\": [","    {","     \"name\": \"stdout\",","     \"output_type\": \"stream\",","     \"text\": [","      \"Epoch 1/10\\n\",","      \"32/32 [==============================] - 0s 11ms/step - loss: 0.0543\\n\",","      \"Epoch 2/10\\n\",","      \"32/32 [==============================] - 0s 8ms/step - loss: 0.0120\\n\",","      \"Epoch 3/10\\n\",","      \"32/32 [==============================] - 0s 8ms/step - loss: 0.0101\\n\",","      \"Epoch 4/10\\n\",","      \"32/32 [==============================] - 0s 8ms/step - loss: 0.0086\\n\",","      \"Epoch 5/10\\n\",","      \"32/32 [==============================] - 0s 8ms/step - loss: 0.0074\\n\",","      \"Epoch 6/10\\n\",","      \"32/32 [==============================] - 0s 9ms/step - loss: 0.0083\\n\",","      \"Epoch 7/10\\n\",","      \"32/32 [==============================] - 0s 10ms/step - loss: 0.0078\\n\",","      \"Epoch 8/10\\n\",","      \"32/32 [==============================] - 0s 9ms/step - loss: 0.0071\\n\",","      \"Epoch 9/10\\n\",","      \"32/32 [==============================] - 0s 8ms/step - loss: 0.0068\\n\",","      \"Epoch 10/10\\n\",","      \"32/32 [==============================] - 0s 8ms/step - loss: 0.0071\\n\"","     ]","    },","    {","     \"data\": {","      \"text/plain\": [","       \"\u003ctensorflow.python.keras.callbacks.History at 0x2696feb3730\u003e\"","      ]","     },","     \"execution_count\": 27,","     \"metadata\": {},","     \"output_type\": \"execute_result\"","    }","   ],","   \"source\": [","    \"model.compile(optimizer='adam',loss='mean_squared_error')\\n\",","    \"model.fit(x_train,y_train,epochs=10,batch_size=32)\"","   ]","  },","  {","   \"cell_type\": \"code\",","   \"execution_count\": 28,","   \"id\": \"provincial-killer\",","   \"metadata\": {},","   \"outputs\": [],","   \"source\": [","    \"#TESTING THE MODEL\"","   ]","  },","  {","   \"cell_type\": \"code\",","   \"execution_count\": 29,","   \"id\": \"pointed-digest\",","   \"metadata\": {},","   \"outputs\": [],","   \"source\": [","    \"test_start=dt.datetime(2021,1,1)\\n\",","    \"test_end=dt.datetime.now()\\n\",","    \"test_data = web.DataReader(f'{stock_name}','yahoo',test_start,test_end)\\n\",","    \"actual_prices=test_data['Close'].values\"","   ]","  },","  {","   \"cell_type\": \"code\",","   \"execution_count\": 30,","   \"id\": \"center-promotion\",","   \"metadata\": {},","   \"outputs\": [],","   \"source\": [","    \"total_dataset=pd.concat((data['Close'],test_data['Close']),axis=0)\"","   ]","  },","  {","   \"cell_type\": \"code\",","   \"execution_count\": 31,","   \"id\": \"mexican-providence\",","   \"metadata\": {},","   \"outputs\": [],","   \"source\": [","    \"model_inputs=total_dataset[len(total_dataset)-len(test_data)-prediction_days:].values\\n\",","    \"model_inputs=model_inputs.reshape(-1,1)\\n\",","    \"model_inputs=scalar.fit_transform(model_inputs)\"","   ]","  },","  {","   \"cell_type\": \"code\",","   \"execution_count\": 32,","   \"id\": \"healthy-triumph\",","   \"metadata\": {},","   \"outputs\": [],","   \"source\": [","    \"x_test=[]\"","   ]","  },","  {","   \"cell_type\": \"code\",","   \"execution_count\": 33,","   \"id\": \"demographic-gasoline\",","   \"metadata\": {},","   \"outputs\": [],","   \"source\": [","    \"for x in range(prediction_days,len(model_inputs)):\\n\",","    \"    x_test.append(model_inputs[x-prediction_days:x,0])\"","   ]","  },","  {","   \"cell_type\": \"code\",","   \"execution_count\": 34,","   \"id\": \"quantitative-vienna\",","   \"metadata\": {},","   \"outputs\": [],","   \"source\": [","    \"x_test=np.array(x_test)\\n\",","    \"x_test=np.reshape(x_test,(x_test.shape[0],x_test.shape[1],1))\"","   ]","  },","  {","   \"cell_type\": \"code\",","   \"execution_count\": 35,","   \"id\": \"korean-impression\",","   \"metadata\": {},","   \"outputs\": [],","   \"source\": [","    \"prediction_prices=model.predict(x_test)\\n\",","    \"prediction_prices=scalar.inverse_transform(prediction_prices)\"","   ]","  },","  {","   \"cell_type\": \"code\",","   \"execution_count\": 36,","   \"id\": \"grand-louisiana\",","   \"metadata\": {},","   \"outputs\": [],","   \"source\": [","    \"#plotting the graph\"","   ]","  },","  {","   \"cell_type\": \"code\",","   \"execution_count\": 37,","   \"id\": \"incoming-source\",","   \"metadata\": {},","   \"outputs\": [","    {","     \"data\": {","      \"text/plain\": [","       \"[\u003cmatplotlib.lines.Line2D at 0x2697ae9aee0\u003e]\"","      ]","     },","     \"execution_count\": 37,","     \"metadata\": {},","     \"output_type\": \"execute_result\"","    },","    {","     \"data\": {","      \"image/png\": \"iVBORw0KGgoAAAANSUhEUgAAAX0AAAD4CAYAAAAAczaOAAAAOXRFWHRTb2Z0d2FyZQBNYXRwbG90bGliIHZlcnNpb24zLjMuNCwgaHR0cHM6Ly9tYXRwbG90bGliLm9yZy8QVMy6AAAACXBIWXMAAAsTAAALEwEAmpwYAABVJ0lEQVR4nO2dd3hU1daH350EQihJCIQkhN5LKNKbihRpikrxInhFVOAKXMRPL0i5Vy+KvWFXxAsI0lSkS1GKKL2GUAOEDiFAKAECyezvj30Oc5JMeiYzk+z3eeY5Z/Zp+8wkv7Nm7bXXElJKNBqNRlM48HJ1BzQajUaTf2jR12g0mkKEFn2NRqMpRGjR12g0mkKEFn2NRqMpRPi4ugOZUbZsWVmlShVXd0Oj0Wg8iu3bt8dJKYNTt7u96FepUoVt27a5uhsajUbjUQghjjtq1+4djUajKURo0ddoNJpChBZ9jUajKURo0ddoNJpChBZ9jUajKURo0ddoNJpChBZ9jUajKURo0ddoNJqscP06TJsGHp6OPsuiL4TwFkLsFEIsMd4HCSFWCSEOG8vSln3HCiGihRAHhRBdLO1NhRCRxrZPhBAib29Ho9FonMScOTBoEGze7Oqe5IrsWPovAPst718BfpNS1gR+M94jhKgH9APqA12BL4QQ3sYxXwJDgJrGq2uueq/RaDT5RUyMWm7Z4tJu5JYsib4QogLQA/jW0vwIMN1Ynw48ammfI6VMlFIeA6KBFkKIMMBfSrlRqnJdMyzHaDQajXtz3MhqUEgs/Y+B0YDN0hYipTwLYCzLGe3hwEnLfqeMtnBjPXW7RqPRuD8nTqhlQRd9IcRDQKyUcnsWz+nITy8zaHd0zSFCiG1CiG0XLlzI4mU1Go3GiZiW/pEjEBfn2r7kgqxY+m2BnkKIGGAO0EEIMRM4b7hsMJaxxv6ngIqW4ysAZ4z2Cg7a0yCl/EZK2UxK2Sw4OE1mUI1Go8lfkpLg1Clo2lS937fPtf3JBZmKvpRyrJSygpSyCmqA9ncp5ZPAImCgsdtAYKGxvgjoJ4TwFUJURQ3YbjFcQNeEEK2MqJ2nLMdoNBqN+3L2LCQnQ4sW6r0HeyByk0//bWCeEOJZ4ATQF0BKGSWEmAfsA5KA4VLKZOOY54FpgB+w3HhpNBqNe2O6dpo1U0sPdu9kS/SllGuBtcb6RaBjOvtNAiY5aN8GRGS3kxqNRuNSTNE33TsebOnrGbkajUaTGadPq2W1alCqlEdb+lr0NRpPJjFRvTTOJTYW/PygZEkIDtaWvkajcRGPP65SA2icy/nzEBICQni86Lt9YXSNRpMBUVFQpIire1HwiY2Fcsb807Jl4YzDaHOPQFv6Go0nc/68GmT08MyPbo9V9D3c0teir9F4KjduqHS/N2/CxYu5O9fKlTBggH54pEdsrHLvgLL04+LuflZRUVF8/fXXzJkzB0/IIKDdOxqNp3L+vH39+HElRjmli5EB/bvvwNc3d/0qaNhsaS39W7cgIYH1O3bQsWNHkpKSAChZsiQff/wxzz77rAs7nDHa0tdoPJXYWPu6GUeeW27fzpvzFCTi41UaBqvoA9eOHaNv375Uq1aNw4cPs2XLFpo1a8awYcM4fPiw6/qbCVr0NRpPxWrpmxkgc4sWfTtnzsDBg/aHq9W9A8z4/ntiY2OZNm0aNWrUoHnz5vzwww/4+vry0ksvuajTmaNFX6PxVFK7d3KKVei16NsZORIee8z+OVssfRvw6ezZtGjRgtatW989JCwsjJdffpnFixdz6NCh/O9zFtCir9F4KqYYVauWO0v/6FH7uhZ9Ozt3qs8mtegHBfEncPDUKYYPH57msCFDhlCkSBG+/PLL/OtrNtCir9F4KufPQ0AA1KyZO9GPjrav69m9ihs34Ngx9XnsN6rEmu6doCBmAcWLFqVXr15pDg0NDaV3795MmzaNRDf8PLXoazSeijlLNCQk5aBuOpw6dYpPP/2UTz75hBPWh4R10FFb+or9++3hq9u2gZcXlCkDwO3ixZkPPFKrFiVLlnR4+MCBA4mPj2f5cvdLJKxFX6PxVMzY8QwmCx06dIhXXnmFhg0bUrFiRUaOHMkLL7xA8+bNiYyMVDsdO2Y/QIu+Yu9e+/ratVC9Onh7A7Dy99+5BAyoWjXdwzt16kS5cuWYNWuWc/uZA7ToazSeyrlzys8cHKwmaCUk3N105swZunTpQu3atfnggw8IDg7mnXfe4dChQ+zZs4ciRYrQs2dPrl+/njJjpBu6I5xOcjJ07QpLl9rboqLs69evQ926d9/OmjWLMl5ePFiqVLqn9PHxoV+/fixevJjz1gF3N0CLvkbjiSQlqUHG6tXvxo2b4i2lZMiQIWzYsIHXX3+dU6dO8dtvvzF69Ghq1qxJgwYNmDNnDsePH2f8+PEpZ/MWRkv//HlYsQIeesjeFhkJ9evfte6pVw+A69evs3DhQvoGBVEkPj7D0w4bNozbt2/z2WefOanjOUOLvkbjiRw/DnfuQO3a9pm4hotn6tSpLF26lDeee44JJUsSEhiY5vB27doxZMgQvvzyS06cPQv+/mpDYRV9EynVDNxNm6B1awgLU+2Gpb9w4UJu3rzJgCpV4PLlDE9bu3ZtHnnkET7//HP1i8pN0KKv0XgiBw+qZe3adkv/wgXWrFnDP/7xDzpXr84/P/kEXnwRli1zeIrx48cD8HZMjF3cCrvo79+vXvHx0LYtVKig2g3RnzVrFpUqVaJN1apw6VKmpx49ejSXL1/mu+++c0LHc4YWfY3GEzFFv1atu6IvL1zgpUGDqJyczE9HjuBjhhPu2ePwFBUrVmTw4MF8fe0aG4sXV42F0ad/7px9/fffYcMGtd6unV3069ThwoULrFy5kieeeAKvoKAsiX7r1q1p27YtH3744d38PK5Gi75G4wmkdg8cOgSlSyvXjiH6i9euZefx4/y7WDFKvfUWzJ6tYvjNKB0HvPXf/1IR6H3gAB8Cy7ds4XZhs/ZNS794cfVZ/fmnGiCvXh06dFCDvKVKMX/+fJKTkxkwYACYop9RVtLFi+Fvf+Pll17i+PHjLF68OH/uJxO06Gs07s6PP6q6rJs329sOHlSuHSHA3x/p48N/ly2jWrFiPNmsGbzyChQtCg0bpmvpA/jfucMvQLi/Py8B3d95h6pVq7Jo0SJn35X7cP48lCgBderAyZMqLr9VK/XZPv88GLH2s2bNIiIiggYNGijRT06Ga9fSP++SJTBvHg83aUKlSpX44osv8umGMkaLvkbjzty4AU8/rdbXr7e3HzqkXDsAQrCkVCl2nD/PBB8ffCzhhTRooGbc3rjh+PwXL9IY2PKvf3EKWPLPf1KuXDkeeeQRt/JDO5Vz5yA0FCpWVAPkx47ZP1uDY8eO8ddff9G/f3/VEBSklhm5eE6eBMB7zx6GDh3K6tWrOWi65VyIFn2Nxl25cgU6dbILtpnA6/ZtlQHSMjnog9u3qezry5PXr6tfACYNGyoXhDXu3IoRrinKlycc6FG7Nps3b6Zz584MHTqUbdu2OeHG3AxzZnPFinDggMqVX61ail3mzJkDwBNPPKEaSpdWy4wieE6dUssdO3j22WfdJh+PFn2Nxl1ZsAA2boSZM+H+++3Cffq0EvKKFQE163ZdQgJDEhMpAspNYWLEl+PIwpw8Gf75T7Vevrxa3r5N0aJFmTdvHmXKlGHUqFHIgl5N69w5JfqVKqlwTUgh+lJKZs2aRdu2balSpYpqNC39Jk3U4K8jLKIfEhJCnz59mDZtGgmWSXSuQIu+RuOumFZk9+5qolBUlBJ7w21giv7UqVPxFoJB5nFW0TejT06fTnv+UaPsg7ypQjYDAwOZOHEif/75JwsWLMizW3JLzp+3u3dMLKIfGRlJVFSU3bUDdtEHNWCbmoQE+/e3cycAw4cP58qVK3zzzTd52ftso0Vfo3FXzEHCkiUhIgKuXlXWo0X0b9++zbRp03iobVvCzONMaxTUAGVAgGPRt+IgTv+ZZ56hXr16jBkzpuBG9Ny5o1xcpnsH1ABu5cp3d5kzZw7e3t707dvXflz16tC5s1p3NJhrWvnNm6vv648/aNu2LZ06deLNN9/kmvWYpKQUUUBJSUlO/TWgRV+jcVeuXwc/P/DxUZY+KGvfIvqLFy8mNjaWwa+8ovz8u3bZUweYhIfbRcjEdGOYlCqlMkla4vR9fHx4//33iY6OdgtftFOwVsWqVEmtV6yoIp8MFi5cyH333UewOQkOVHjnypXKvXP2bNrzmp/3a6+pB8jQoZCUxKRJk4iLi2PgwIH2B2mXLlCmDOc3buSZZ54hICCAoKAg+vXr55RC65mKvhCimBBiixBitxAiSgjxX6O9sRBikxBilxBimxCiheWYsUKIaCHEQSFEF0t7UyFEpLHtEyGEyPM7QvngFi9ezKpVq5xxeo0mf7h2TVn5YE/4dfCgEv3AQChZkm+//Zbw8HC6dOmirPVGjdKeJzw8raVvTbJmUrRomhm5Xbt2pVOnTkycOJH4THLNeCTm5xAcrD4/L68Urp3o6Gj27dvHI4884vj4sLCMRb92bZg4Uc3y3b2bFi1aMHnyZBYsWEBQUBDPPPMMP/7+O8svX6bFAw8wc+ZMnnzySYYMGcLevXsJdJBCI7f4ZGGfRKCDlPK6EKIIsEEIsRyYCPxXSrlcCNEdeBdoL4SoB/QD6gPlgdVCiFpSymTgS2AIsAlYBnQFnJJweuzYsfj7+9PZ/Amm0Xga164pCxzUJKzAQBXBc/IkVKzI8ePHWbFiBRMmTMDHJ4N/5fBw2LcvZZv5EBg9GloY9pqvbxrRF0Lw/vvvc8899/Dee+8xadKkvLk3d8EU/bJl1S+qevWgceO7m835Cj179nR8fFiYiutPjSn64eH2zzcqCpo2ZeTIkdSpU4cff/yRmTNn8j/jkKDERDZu2kTTli0BZbw6wy7O1NKXCnM6YBHjJY2XkaWJAOCMsf4IMEdKmSilPAZEAy2EEGGAv5Ryo1ThADOAR/PsTiwIIfj73//Oxo0bibZWBdJoPAmr6AuhZtdaRN+Mo3/22WczPk94uIpQSU62t50x/l179YLevdV60aIO0zA0atSIRx99lK+++oob6cX7eypmhlEzad2GDfDWW3c3L1y4kAYNGlA1vdz55csrF1HqFAunTqmiK8WKQY0a6rO15Oh/8MEH+eabbzh38CC7gRU1ahAJNPXzu7uPkxwhWfPpCyG8hRC7gFhglZRyMzAKeE8IcRJ4Hxhr7B4OnLQcfspoCzfWU7c7ut4Qw2W0Lac+rQEDBiCEYObMmTk6XqNxOVbRBzVh6PBhOHmS5PBwvvvuOx588EEqWwYdHRIergT/1VftpRFN0TdDNcGhe8fkhRde4NKlSwXv/8m09I2qWAQEKKEGLl68yIYNG9J37YCy9KVMW7ns7Fn7Z+vjo9xz1sIsBv537tAQePDxxykP8Pe/w5NP5uqWMiNLoi+lTJZSNgYqoKz2COB54EUpZUXgRWCqsbujx5PMoN3R9b6RUjaTUjZLMXiSDSpUqEC7du3cJt+FRpNl9u+HKVPSin7NmmrG6MWLrJCSU6dO8dxzz2V+vnDDtpo0Cf79b7Vuin5oqH2/DET/vvvuo2HDhkyZMiUHN+TGpBZ9C0uXLsVms2Uu+pDWr3/2rH0bqOgrB6J/95dGy5bKfbdnDzi52la2oneklPHAWpQvfiDws7FpPmAO5J4CLAGvVEC5fk4Z66nbnUabNm2IjIx0y+LEGk26TJmioj3i49Na+uYuJ08SHBycvq/ZSrjlB/WCBeq8Z86opGJFiti3OfDpmwghGDRoENu2bWOvI/HyVC5eVNa99XMwWLhwIeXLl6dJkybpH5+e6JupHUwiIpRb7sqVlPuZaRzKllVZPU2cGCKbleidYCFEoLHuB3QCDqAE+35jtw6AWV15EdBPCOErhKgK1AS2SCnPAteEEK2MqJ2ngIV5eTOpadasGXfu3LHXAtVoPIGLF5XL4MSJtJY+cLVNG5b+/jtPPvkkRS2hheliRqN06KB89nPnKtG3unYgXZ++Sf/+/fHx8WH69OnZvSP3JS7OoZV/69YtVqxYQc+ePfHyykAmzc/wjMV+ldKx6EPadBimpR8UBP/7H0yYYO+Xk8iKpR8GrBFC7AG2onz6S4DBwAdCiN3Am6ioHKSUUcA8YB/wKzDciNwB5RL6FjW4ewQnRe6YNGvWDKBw5A/RFBxM6+/2bXvIJii/cGgoq1q25M6dOxm7HayULq3EZfVqJVIbNyqrMzzVkFoG7h2AcuXK0aNHD77//nu3yQ2fa+Li7IO4Fn7//XcSEhIy/yUVEqIG2d9+W5VcBDUT9/Ztx6K/d6+ardu/P+zYYRf9MmVUP8zIISfE55tkJXpnj5TyHillQyllhJRyotG+QUrZVErZSErZUkq53XLMJClldSllbSnlckv7NuMc1aWUI6STk3pUrlyZMmXKaNHXeBbWmrVWS79ECThzhmVXrhAQEECbNm2yfs6gICVONWrAkSPqVb16yn0yEX2Ap59+mvPnz7Ny5cqsX9uduXjRoegvWrSIkiVL0qFDh4yPL1IEvvhCDeQaSdnuFmWx+vQrVVIP8L17Vdrr2bNhxgz7A95M4GapguYsCvSMXCEETZs2Zfv27ZnvrNG4C9Z0vVbRB2xSsmzZMrp06UIRB37oTKlWTVmY16/fdRfdJQOfvkn37t0pU6ZMwXHxOLD0bTYbixYtomvXrvj6+mZ+jn/8Q826NVMrmKJvtfS9vNSs6uXLwZzd7OVlH1Mw51lo0c899erV49ChQwU/U6Cm4JCepQ/s3LmTc+fO0aNHj5ydu3p1e6rmGjVSbsvEp692KUqvXr1Yvnw5d+7cyVkf3AkHPv1t27Zx9uzZrA2Sm5QqZRd9c1DXKvqgXDzR0Sp81stLCfvFiymvr0U/99SqVYsbN25w5oxTA4U0mrzBZsvQ0l+6dClCCLp165az81vzxDsS/SxEjXTt2pVr166xadOmnPXBXbh1S/nXU1n6ixYtwtvbO3sPVqvoO3LvgD1/0v33q5w9Fy6o79oq+kFB9geCkygUog8q57hG4/ZcvZoyGZoD0W/ZsiU5nb9y14/v45MyGydkWfQ7duyIt7c3v/76a8764C6kno1rsHDhQtq1a0eQNX1yZqQW/WLFwN8/5T4NG6rlgAHKoo+LU32wXsfLSz0EtOjnHC36Go8idfk9i+jHxcWxdetWunfvnvPzm5Z+lSp2P7JJFnz6AAEBAbRq1cqzB3NtNnjnHbVuCV09evQoe/fuzXpklElq905oqBo4t/LAAypc9umnleg7cu+AfZuTKPCiHx4ejp+fnxZ9jWeQWvQtIZt//PEHUko6duyY8/OXLasEKrVrB7Lk0zd54IEH2LlzJ9evX898Z3dk9Wr49FM1Ca5r17vNmSZYSw+r6J84YS9eY8XLCx5/XEX8lC2rhP38ebsf30SLfu7w8vKiZs2aWvQ1noHpcjDz6Vgs/XXr1uHn53d3/kmOEALGjIHBg9Nuy6J7B9Rs9+TkZLZu3ZrzvrgSc1bxpEkpfvEsXLiQ+vXrUz11OGtmWEX/6NG04bCpCQ6GmzfVmEKqIuxa9POAWrVqadHXuD+vv65KI4I9f34q0W/Tpk3WZuFmxPjxKrtmarIh+q1atQLgr7/+yl1fXMWBA8ratrhWYmNjWb9+PY8++mj2z1eqlKrCdeWKSludqrB6GqzWvfldW7dp0c8d1apVIyYmBlvqakEajTuxbJl9EDciQlnlAQEAXL58md27d3P//fdncIJc4uubZfdO6dKlqVu3rueK/v79KWsJAwsWLMBms6Usi5hVzIezmfIlO6Kfqh+ULq3yIzkpzLxQiH7lypW5ffs258+fd3VXNJr0iYmxr48erR4Chphs2LABKaVzRT8blj4oF8+mTZs8y5g6c0ZNjoqKSmNhz58/n1q1atHQjLLJDqbo796tlpmJvhkx5O+fNp6/VCkVy3/rVvb7kQUKjegDHD9+3MU90WjS4eZNe3w3KEvQMsC4bt06fH19aWFWYXIGRYuqYiBZFPE2bdpw6dIlz3GdSgmDBsGwYSo/jsXCvnDhAmvWrKFv3745K16SWvTTK7piYlr6deumjfIxz+Wo4HoeUChEv5JR8FiLvsZtMf82H3wQRoxIs3ndunW0bNmSYkaBD6dgjhVkcaatmfvHY1w8y5apYuYmlgHUXLl2wC7Ue/aoGP3U1ntqTNFP7dqxnkuLfs4xLf0TJ064uCcaTTqYrp3//EeFElq4evUqO3bscK5rB5RPH7Ls169VqxZBQUGeI/rz5imxnT9fDeA2b3530/z586lZs2bOXDuQ0tKvVi2t9Z6agACVP9/RnAst+rnH39+fwMBAbelr3Jdjx9Qy9SxZ4M8//8Rmszlf9E1LP4u+ZC8vL1q3bu05or9+Pdx3H/Tpo2bDhoQAcOTIEdasWcPjjz+e87q0plDfupV5uCaoh8Iff6i4/dSYczO06OeOSpUqadHXuC8xMUp0U+drQbl2fHx8aN26tXP7YLhBOXo0y4e0atWK/fv3c/XqVSd1Ko84cUJ9xvfdl2bTq6++StGiRRk+fHjOz29Nl1G7ds7PYz2XFv3cUblyZS36GvclJkZNyHJQpWn9+vU0b96c4sWLO7cPZgGPXbuycYg6xu1LKK5fr5apfi1t376dH374gZEjRxLm4IGbZdIpa5mrc2nRzx1a9DVuy82bsHatvbqShYSEBLZu3ep81w4oSz8w0B6BkgVMH/jubByT79y5A599psIkLZ+xzWZj2LBhlCtXjrFjx+buGh5k6ftkvkvBIDw8nKtXr5KQkECJEiVc3R2Nxs7Uqary0qhRaTZt2rSJpKSk/BF9IaBRo2xZ+hUrViQwMNC9Rf+dd2DzZpXszNv7bvMrr7zCli1b+P777wkwJsHlGGtBG23puwehRgjVOWsstEbjDkyZAq1awb33ptlklvps2bJl/vSlcWPYtEkJZRYmagkhaNSoEXv27HF+33LKsmXQpk2KQdOvvvqK9957j+HDhzNgwIC8vZ4xQJxjtOjnDaa/Tou+xq2w2eDQIWjb1mGY3/bt26latSqlzRqqzsZM5vbKK/Dbb6qsYiY0bNiQPXv2uOfM3ORk5a4y7stms/Hxxx8zfPhwevTowccff5zziJ30yO35fHxUrL8W/dxhWvpnzVJmGo07cO6cCvNLZ9r+jh07aNKkSf71p18/mDZNrW/cqOLav/suw0MaNWpEQkICR7MR9ZMtDh1SfclGLpqkpCRmz57NG//3f6y8cQPZuDExMTG0b9+eF198kR49ejBnzhx8UtcUyA333gt//3venKtUqSw9cHNCoRF9belr3I7162HLFrXuQPTj4+M5cuRI/oq+jw889ZSKFZ8/Xz2Q3nhDpWdIB6cP5j71lHLPPPlkynabDbZvT7P7hQsXaN68Of379+ffn3xCF6DNxx/TqlUr9uzZw/Tp01m4cCElLbUK8oT162HGjLw5lzVVcx5TaES/bNmyeHt7a0tf4x7YbCp88LHH1HsHE3p27twJQNOmTfOzZ8o9UaOGSj8MauLYTz+lu3tERAReXl7O8+tHR6ulMb5xl19+UW4bi/DfuXOHrl27cuDAAebOnUvCqFF84uPDDSkJDQ1l48aNPPXUU3nv0slrtOjnHi8vL0JCQrSlr3EPLl+2rwthL5piYceOHQDcc889+dUrO+ZDqFw55eJZtizdXf38/KhVq5ZzLH2bTdUNBpWrHlSeoq+/tj8EzBh8YMqUKezYsYPvv/+exx9/nOI7d/LPxo3ZvWcPu3btom7q3PXuihb9vCE0NFRb+hr3wFoko2JFewoECzt27KBChQqUK1cuHztmYJZTbNBAzWK1CKsjGjZs6BzRv3xZxdn7+NhF/+uv4R//gMWL1fv//Q+EIGHNGl599VUeeOABevfurapS/fWXqk3raWjRzxvCwsK0pa9xD+Li7OsZDOLmu2vHJLXox8SoVAbp0KhRI2JiYrhiCnNeYf6/1qmjxhcSE9XALthLHhqFS6a98w5xcXG88cYbyn2zbp16YDz4YN72KT8oWdJ1oi+EKCaE2CKE2C2EiBJC/Ney7Z9CiING+7uW9rFCiGhjWxdLe1MhRKSx7RORz441belr3Aar6DtwOVy7do2DBw/m7yCuFVP0IyLs+Wr++CPd3c15BGvWrMnbfpiib85yvXIFDh+2bw8PByAZ+HjzZlq1anU35TMrV6rQx3bt8rZP+YGLLf1EoIOUshHQGOgqhGglhHgAeARoKKWsD7wPIISoB/QD6gNdgS+EEOY0uC+BIUBN49WVfCQsLIzY2FiSk5Pz87IaTVpM0V+1SkXHpGL37t1IKV0n+m3awLhxqpZugwbg5wfGGIMj7rvvPgICAvjll1/yth+pRT8+3j6wC/DSS1CzJouB6Ph4/u///s++bcMGdR/OrEHgLFwp+lJhBowWMV4SeB54W0qZaOwXa+zzCDBHSpkopTwGRAMthBBhgL+UcqOUUgIzgEfz9G4yISwsDJvNxgUnFh3WaLKEKfpt2kBQUJrN5iCuy9w7RYvCpEmqXqu3txrQjY1Nd/ciRYrw0EMPsXjxYpIyCO/MNlb3DqiIohs37BWnevWCQ4f4MCCAKr6+PGZGQ4GKOsptSgRXYcbpO6FObpZ8+kIIbyHELiAWWCWl3AzUAu4VQmwWQqwTQpgVCcKBk5bDTxlt4cZ66nZH1xsihNgmhNiWlwKtUzFo3Ia4OCheXL0csH37dkJDQ3OX+TEvCQ5O6ZJywKOPPsqlS5fYsGFD3l333DllqZtpn82InfffVxO2Kldm69at/HHlCi/4+dknW12/DpcuOYyK8gjMVAwJCXl+6iyJvpQyWUrZGKiAstojUMnaSgOtgH8B8wwfvSM/vcyg3dH1vpFSNpNSNgu2Vo3PJeY/kPbra1xOXJy9OLYD8n0mbmaULZsy4sgBXbt2xdfXl4ULF+bddc+dU6UHzYRopujXqwfGOMIHH3yAv68vz165oiaRJSXZB53Nh4Wn8X//p1JI5PUEMrIZvSOljAfWonzxp4CfDffPFsAGlDXaK1oOqwCcMdorOGjPN7Slr3EbLlxIV/Rv3LjBvn373Ev0s2DplyxZks6dO/PLL78g88ot4Uj0ixZVYa6oEqg//vgjQ+67j1JSqtm7RYuqkE7wXEvfxyf3OXzSISvRO8FCiEBj3Q/oBBwAfgE6GO21gKJAHLAI6CeE8BVCVEUN2G6RUp4FrhmDwAJ4CshDkyBzdP4djduQgaVvJi9zmT/fEcHBmVr6oFw8MTExeRezf/asylppiv6FC0rIjRTJkydPBmCkmaJh9mzlBzcjjTzV0nciWbH0w4A1Qog9wFaUT38J8B1QTQixF5gDDDSs/ihgHrAP+BUYLqU0w2WeB75FDe4eAZbn6d1kgp+fHwEBAdrS17ieDETfHMR1K0u/bFk1gHrjRoa79ezZE29vb+bOnZv7a0qp3DSVKoG/v729alUArly5wpQpU/jb3/5GResD8oUX1NLbG8qXz30/ChhZid7ZI6W8R0rZUEoZIaWcaLTfllI+abQ1kVL+bjlmkpSyupSytpRyuaV9m7F/dSnlCJlnvwGzTlhYmLb0Na4nLk5Zzw7YsWMHZcqUoWLFig63uwSzrxcvZrJbMA8++CCzZ8/Ofarly5dV2GKVKsrdYRY/MkR/6tSpXLt2TYVp1qgBnTrBmjX2uPwKFVIUTdEoCtWMXFAuHm3pa1zG4cOqOtXVq+la+tu3b6dp06bulRTM7GsWXDz9+/fn+PHj/PXXX453uHnTnlIhI2Ji1NIQ+bsunipVSEpKYvLkydx///3KDebrq+Y8tG8PZgF5T/XnO5lCJ/ra0te4jJs3oWdPOHUKuneHbt3S7JKYmMjevXvdy7UDdks/k8FcUH79gICAu/72FCxbpsJUW7TI/Jqm6Fepopam6FetysyZMzlx4gQvvfRS2uPCw9Vkrvr1M79GIaTQ1Mg10Za+xmVs364mF82erYqVOGDv3r0kJSW5n+hnw9IvWbIkw4YN4+233+bw4cPUrFnTvvG119Ty0KG74xpSSjZs2MCmTZsIDAzkoYceUuHV6Yj+xdKl+deIEbRq1YoePXo47sSff3rmTNx8oFBa+gkJCVxz0hRnjSZdTCvZTCnggO1Gbni3E/1sWPoAL7zwAkWLFuX999+3N968CTt3gnlvRqK09957j/vuu4/Ro0czZMgQKleuzMSJE7EdO6YGcAMD1f6BgVwFHvn3v4mPj+ebb77ByysdCStTxj4GoElBoRN9HbapcRmmYGYyKSsgIIBq6WTedBmBgWpQNIsz5ENCQnj66aeZPn26/Zf19u1q4tTQoep9ZCR//PEH48aNo0+fPsTFxREVFUXfvn159dVX6T53LhcqVrwbr745KYnmQrB5xw5mz55NgwYNnHCjBZ9CJ/q6bKLGZZiRL2XKpLuLORPXrQZxAby8VL8zyL+Tmpdffpk7d+7w9ttvqwZzYPexx6BsWc5v3ky/fv2oVq0aU6dOpUyZMtSrV4+ZM2fy9ddfsyYujvqHDzNu3Dh69+5N699+I6FECVatWkWfPn2ccJOFg0Ir+trS1+Q7cXEqW2U6+Xbu3LnDnj173M+1Y1KzJuzfn+Xda9SoweDBg/nss8/UZK2NG1VoZXAwe6pVo9WPP3Lp0iXmz5+PvyUOXwjBkEGD2Fa0KHWCg3n33XfZsGEDY8aMYd/p07Rv394JN1d4KJQDuaBFX+MC4uIytPL37dtHYmKie83EtdKoEcycqSZNZfGXyJtvvsnPP//M448/zp+JiZRo2pT/ffEF/9qxg8DkZNZt3EijRo3SHrhnDw0SE1n/4Yck9eqFl5dX+v57TbYodKIfFBRE0aJFtehr8p+LFzP154MbDuKaNGyo5hccP26PqMmEoKAgfv75Zzp16kR4YiKcOsXtn3/m/ho1mB0dTVh6sfSmK6hNG3vmTE2eUOgenUIIXUFL4xoysfR37NhByZIlU4Y4uhOmRZ5ZXp3r16F/f1i9Gvbvp12TJvz53XeMAl7o3p01a9awZvJkwgCOHnV8jr/+UknVKlRwvF2TYwqd6IOulatxEZlY+lu3buWee+5xXzdGRIRy6+zZk/F+c+equQhduqgUyK+9RlMheAd4d9Ik2rdvj6heXe2bkeibM2s1eYqb/nU5Fz0rV+MSMkiydvv2bXbt2kXz5s0dbncLSpZUA7Hz56uyhekxfboa9B0wQO2/aBHs26cigMxKVpUrqweII9G/fl0lWrvnHqfcRmFHi75Gkx8kJ6sEYum4d/bu3UtiYiItspKewJV88IGaVdyrFxw8CL/+mnL7zp0qrfEzz8CMGTBihNpv6VKoXl3lyAE1W7Z8eceif8oosKfTIjuFQin6oaGhXLx4kdu3b7u6K5rCwuXLKuolHUt/69atAO5t6QM8/DB8+qnKZlmnTsr8QfHx0LevEvPnnlNt5vadO6Fx45TnqlZN1bFNzUmj2qr25zuFQin6eoKWJt8xZ+OmY+lv3bqVMmXKUNXMKOnOPPccWB9Ot26pB9rTT6vInnnz7A+3mjWhc2eVaO6jj1Kep1q1jC19d0otXYDQoq/R5AfmbNx0LP0tW7bQrFkz95uJ6whvb5XGeOJE9f78eeW+WbgQ3n0X2ra17ysErFyptoWHpzxPtWpw+rTKmW/FFH1dAMUpFGrR1359Tb4xY4YayHQQjpmQkEBUVJT7+/OtBATYB1rPn7db7H//e9bP0bGj+oWQupD6yZNQrpzd/6/JU7ToazTOZts2+OYbeOkle0EQCzt37sRms7m/Pz81ISFqef68cl8JAaVLZ/341q1VFM+ECephaKZSPnVKu3acSKEU/XLlyiGE0KKvyR927VLLESMcbvaYQdzUlCunlqboBwVlrzyhl5eaxHX8OERHw08/qfZTp/QgrhMplKLv4+NDcHCwFn1N/nD1qlqaeeFTsXXrVipUqHA3L5THkNrSz2DiWbqMHg1ffAF166qqWqDcO9rSdxqFUvRBx+pr8hFT9EuWdLh5y5YtnuXPNylWTBU5yY3oBwbC88+r6J7165WfPz5eW/pOpFCLvo7e0eQLV65AqVLKnZGKS5cuceTIEc9z7ZiEhORO9E0ee0wVWDl9WhVZ6d8/7/qoSUGhTV8XFhZGpFGuTaNxKlevKovYAdu2bQM80J9vYhX93PxaadlSCX5YWJbTNmtyRqG19ENDQzl//jw2m83VXdEUdDIQfXMQ121z6GeGKfqZJJPLEuXLa8HPBwqt6IeFhZGUlERcFgs9azQ5JgPR37JlC7Vr1yYwnUFetyckREXe3L6de9HX5AuFWvRBx+pr8oFMLH2Pde2AKqaSlKTWteh7BJmKvhCimBBiixBitxAiSgjx31TbXxZCSCFEWUvbWCFEtBDioBCii6W9qRAi0tj2iXDhnHOdikGTb6Qj+qdPn+bs2bOeLfr33Wdf16LvEWTF0k8EOkgpGwGNga5CiFYAQoiKQGfghLmzEKIe0A+oD3QFvhBCmDM2vgSGADWNV9e8uY3soy19Tb6Rjuh77KQsK9axCC36HkGmoi8V1423RYyXNN5/BIy2vAd4BJgjpUyUUh4DooEWQogwwF9KuVFKKYEZwKN5cxvZRxdI1+QbGYi+j48PjVOnHPYkrPVrMygFqXEfsuTTF0J4CyF2AbHAKinlZiFET+C0lDJ1wcxw4KTl/SmjLdxYT93u6HpDhBDbhBDbLly4kLU7ySbFixfH399fi77GudhsKoukA9HfsmULDRo0wM/PzwUdy0NefFEtPW1GcSElS6IvpUyWUjYGKqCs9obAeOA/DnZ35KeXGbQ7ut43UspmUspmwcHBWelijtCzcjVOJyFBZZIMCEjRLKVk27Ztnu3aMXn/fYiNVRPQNG5PtqJ3pJTxwFqUC6cqsFsIEYN6GOwQQoSiLHhr4owKwBmjvYKDdpehRb+AsncvXLrk6l4ozBQMqSz96Oho4uPjC4boe3mBE40zTd6SleidYCFEoLHuB3QCdkopy0kpq0gpq6AEvYmU8hywCOgnhPAVQlRFDdhukVKeBa4JIVoZUTtPAQsdXDLf0KkYCiBr10KDBnaXg6tJR/TNQVyPzLmj8WiykoYhDJhuROB4AfOklEvS21lKGSWEmAfsA5KA4VLKZGPz88A0wA9YbrxcRmhoKGfPnkVK6RkVizQZIyX066fW9+1zbV9MMhB9Pz8/6tWr54JOaQozmYq+lHIPcE8m+1RJ9X4SMMnBftuAiOx10XmEhYVx48YNrl27hn86k2c0HkRCgkoJAPaatK4mHdHfsmULTZo0wcen0Ka/0riIQjsjF3SsfoHDFNiQEDhxQqUGcEBiYiIrVqxgzZo17N69myRzRqkz+2QR/aSkJHbu3Fkw/Pkaj0OLPlr0CwymwDZpokIlzfJ7Fg4fPkzz5s3p2rUrHTp0oHHjxoSEhPCTWbXJWX2yiP6OHTu4efMmrVu3ds41NZoM0KKPTsVQYDAF1izYHR0NN2/ebT916hSdOnXizJkzzJkzh7Vr1zJr1ixq1KhBv379WLp0ad72R0pYuVJFt1hqx65btw6A+6wpDDSafKJQOxT1rNwCRmrR/+knGD4crl7l4ief0OXNN7l8+TJr166lSZMmdw/r0aMHHTt2pHfv3qxevZp27drlTX+mTIE5c+C//01h6a9bt47atWt7XnlETYGgUFv6pUuXxtfXV4t+QcEU/Ro11PK77+D2ba6HhdH9qac4cuQIixYtSiH4AAEBAaxYsYLQ0FDGjBmTN325fBnGjoUHHoAJE+42Jycn88cff3D//ffnzXU0mmxSqEVfCHE3bFNTADBFPyBA1V0dMAB27eIf4eFss9mYO2QI7du3d3homTJlePHFF/nrr7/uVrPKFRMnqlqvH3+cokzijh07uHr1qhZ9jcso1KIPhXRWrs2m/M0FDeug6RdfwMyZbDpyhFkrVzI2KIhHNm+GW7fSPfzpp5+mZMmSfPrpp7nrx8GD8Nln8Nxz0LBhik3Lly9HCMGDDz6Yu2toNDlEi35hE/3ISFWWbtw4V/ckdyQnw7FjKdtM0TdywEgpefHFFwkNDeWViRNhyxbo2FE99BwQEBDA008/zZw5c4iNjc1538aNAz8/Ze2nYvny5TRv3pyyOg2xxkUUetEPDQ0tXNE7Dz+sJjCtXOnqnuSOefOgZk04fNjedvUqFCsGRYsCMHfuXDZt2sSkSZMoOXy4GlD96y/IIHPriBEjuH37Nt98803O+rVvH/z8M4wapeYLWIiLi2Pz5s1069YtZ+fWaPKAQi/6YWFhXLp0icTERNXw7beeL4jpceUKHD+u1j097cSePcraX2hJ32TJW3/z5k3GjBlD48aNGThwoNreoIFanj6d7mlr165Nly5d+OKLL7hz5072+/XBB1C8OIwcmWbTkiVLkFLSo0eP7J9Xo8kjtOinjtUfNw7efRd++UU9AAoSR4+qZcmSGVq7HkF0tFouXqyWmzerzJqG6H/88cecOHGCDz/8EG9vo3BbuFG+IQPRBxg5ciRnz57N/oQtKWHZMnjkEYdVpH7++WcqVqxIs2bNsndejSYP0aJvnZWbkKDEMDJSuQKef94ulAUB815atCg4ov/nn7B+PbRqBfPng78/ly9f5u2336Znz5488MAD9mNM0T+TcUbvrl27UqNGjewP6B49CufOpawba3Dt2jVWrlxJr169dHI/jUvRom8VfXPafmws7N4NSUnw2msu61ueY4p+y5ZqpuqNG67tT06RUol+s2bKxfP66/Zt/v5MnjyZq1evMjH1QGpIiAqfzMTS9/LyYsSIEdkP3/zjD7W89940mxYsWEBiYiJ9+vTJ+vk0GiegRd8Q/TNnzqTM1SIlVKqkBuWSkx0f7GkcParqmFavrt57qrUfGwvXr0P//lCiBKxefXdTvJ8fH3/8MY8++iiNGjVKeZyPjxL+TEQf7OGbn3zySeb9WbpUJXjbsAGCgqBu3TS7TJkyhZo1a9K2bdvMz6fROJFCL/ohISEULVqUEydOpA0B/Mc/lMvn0CHXdC6vOXoUqlWz+5s9VfRN107dupAqZcKnp09z5coV/vMfR5U8US6eLIh+QEAAgwYNYs6cOZw8eTL9HW02eOghqFxZDSrff3+KyVgA+/fvZ8OGDQwePFi7djQup9CLvpeXF5UrVyYmJkaJvp+fEsXwcOjZU+1k+Ym/d+9e3nrrLd566y1++eWXnEV4uApT9M3Sdp4k+jt2KLfJAw/YH8I1aoA5w9bPj6vARwcP0rNnT+65J50SEOHhKmxz0CB7XH86vPTSS0gpef/999PfyVqW8dIlePXVNLu8++67FCtWzB5FpNG4EimlW7+aNm0qnU3nzp1lixYtpOzVS8q6daUcNkzKl1+WMilJyuLFpRw5Ukop5Q8//CBRxdzvvvr16ydtNpvT+5hrduyQ0ttbyvHjpTx0SEqQcsYMV/cq63TrJqWXl+p3WJiUISFS3rkjZWSklEWLSjlsmHzD+E62bduW/nmef16dA6T88stML/v0009LPz8/ef78ecc7REbaz/fmm2k2Hz58WHp7e8tRo0Zl9U41mjwB2CYdaKrLRT2zV36I/uDBg2VwcLCU99yjxMVKu3ZStmkjz58/L4OCgmSrVq1kbGysvH79unzttdckIN944w2n9zFXJCRIGRoqZaVKUp46JeWlS+qr/+ADV/cs60RESNm9u5QVKqi+f/qpfdvt2/L60qUyCGSPwMCMzzNkiF2kW7XK9LL79++XQgg5btw4xzusWqXOtX69w819+vSRfn5+8uzZs5leS6PJS9IT/ULv3gGoUqUKFy5cIOHIEahaNeXGe+6B3bv58osvuHz5MlOnTiU4OJgSJUrwn//8hyeffJIJEyYwf/5813Q+K2zcqEIJP/9cuTcCA9WgpgP3zu3bt1m6dKn7zVI+fRqqVFGROu3bw+DB9m1FijBz3z4uAWP798/4PH/7mxpsfeEF2LQp5YxeB9SpU4fevXvz2WefOU7NYH5ODtIkr127lh9//JGxY8fqNMoa98HRk8CdXk619G02KefMkbP+9z8JyCiQcvLklPu8+66UIBtGRMh27dqlOcXNmzdlmzZtZJEiReSqVauc19fc8NprUgohZXy8vS00VMrnnkuxW3Jysnz88cclIL28vOTk1J+Fq0hISNd9IqWUNptNRkREyHsaNZK25OSsnXP3bnXOefMy3XX//v2ySJEicuDAgWk3vveeOs/Vq6m6nCBr1Kghq1atKm/cuJG1Pmk0eQja0ndAZCT060fVadMAiIG04XahoUQDe/bupVevXmlOUaxYMZYsWULt2rV54okn3DN52x9/QKNGKuWwSXBwGkv/o48+Yt68eYwbN46HH36YF154gY8++iifO+sAM9rGnFyVitWrV7N3715GjByJ8Mrin3TlympppqXIgDp16vDyyy8zffp0fv3115Qbz51Tg/8lS6ZoHjduHNHR0Xz33Xf4+fllrU8aTX7g6EngTi+nWvrr1kkJ8owxAPgZSHniRMp9Vq2S7xrbY2Ji0j3Vvn37pJ+fn3zooYec19+ccPu2Goz+5z9Ttt97r5T333/37ZkzZ2TJkiVljx49pM1mk0lJSbJ3795SCCFXr16dv31Oze+/K2v6t98cbm7fvr0sX768vHXrVvbOGxAg5YgRWdr1xo0bsn79+jI0NFRGRUXZNwwYIGXVqin2Xb9+vRRCyOHDh2evPxpNHoK29B1w+TIAIYCflxdHfHzSWpOhofwENK1WjcqmdeiAunXr8vrrr7NkyRIWLVrkvD5nl8OH1czbli1TtpcooeYgGIwbN47ExEQ++ugjhBB4e3vz/fffU7lyZcaPH4/6G3IRGVj6f/31F2vXruXll1/G19c3e+etXDlLlj6An58fs2fPJjk5mebNmzNjxgy14dy5FP78ffv20atXL6pWrcrbb7+dvf5oNPmAFn3Uh1DTZuNQ8eJpJtacstnYDPRyMMsyNSNHjqR+/foMHjyYaHMCkasxBx/Ll0/ZbhH97du3M23aNEaNGkXNmjXv7uLn58eYMWPYvHkzv//+e371OC0ZiP6bb75JmTJlGDJkSPbPmw3RB2jQoAG7du2iefPmDBw4kGeeeYbdMTGc8Pdn1apVTJgwgRYtWuDj48Py5cspmcrlo9G4BY7Mf3d6OdW98+GHym3w97/LPiBr+vqm2eXTTz6RgNw/eHCWTrl//35ZpkwZWbVqVXnmzJm87nH2mTtX3WNkZMr2p56SslIlabPZZNu2bWW5cuXklStX0hx+8+ZNGRISInv06JFPHXbAiBHKFZOKnTt3SkC+/vrreXrezLhz546cMGGCFEKkmLMhhJA9evTI0A2o0eQXaPeOAwxLn3ffpRZw9M6dNDNsf16wgHo+PtTJ4szbOnXqsGzZMmJjY+nWrRvx8fF52+fsYg7WmrNwTQxLf/6wYfz555+88cYb+Btpia0UK1aMoUOHsmzZMo4cOZIPHXbA6dNQoUKa5rfeegt/f39GjBiRs/NWrqxqDJjfUWJi2qpap07BkiUp2n18fHj99dc5HBXFXOCbhx9m1apVXL58mSVLlmToBtRoXE2moi+EKCaE2CKE2C2EiBJC/Ndof08IcUAIsUcIsUAIEWg5ZqwQIloIcVAI0cXS3lQIEWls+0S4OhHJ5csqZj00lFrffEOyzcYxS/6duLg41q1bR6/gYHs8tiNatIBPP4X/+z8YOZIWzZvz888/s2/fPh5++GEumw8XV2CKfpkyKdtLlEBev87Er76iPvDMo4+me4qhQ4fi7e3NF1984bRupktysipzWKtWiuYDBw4wf/58hg8fTmBgYM7ObY3gsdmgdm3417/s22026N1bVRvr2DFN4r3qfn48Dgx+9FE6depEgDU6SqNxVxyZ/9YXIICSxnoRYDPQCngQ8DHa3wHeMdbrAbsBX6AqcATwNrZtAVob51wOdMvs+k5171giLzZu3CgBuXjx4rubv/32WwnIHffdJ2XjxvbjrPHuZgz5ww/LuzM9331XSinl3LlzZZEiRWS1atXkDz/8kP5UfmcybJiUZcqkbX/1VbnScEv8D6T8+ecMT/O3v/1NBgYGyuvXrzupo+mwYoVMHU+flJQk27VrJ/39/XP3mW7ZYj/3vn1q3cdHyiNH1PYZM1J+t4sWpTx+7VrV7q7zMzSFGnLq3jGOv268LWK8pJRypZQyyWjfBJi/vx8B5kgpE6WUx4BooIUQIgzwl1JuNDo0A3g0e4+oPObyZShdGoBahiV5yJJRc+HChVSpUoXGtWqBGX8fGal+HbRuDXFx9kHGP/+0n/eNNyAhgccff5w1a9bg6+tL//79CQsLy1qq3rzkwoW0rh2AEiX4HAjx9uYJgEwGakeMGEF8fDwzZ850Ri8dM3UqjBmjPu+HH77b/P7777NhwwY+//xzypUrl/PzN2oE5crBrFkqCRuox/aoUWr59dcQEQE//ghhYfDll2qfc+fU9hMn1PtKlXLeB40mn8mST18I4S2E2AXEAquklJtT7fIMynIHCAesuWhPGW3hxnrqdkfXGyKE2CaE2HbBmZkgLaIfFBREcHAwUVFRANy6dYvffvuNHj16IMLCVBRMcrIqfA1qCv+//618vmDPtvif/6jsjXPmANC2bVsiIyNZt24dDz30EC+88AK//PKL8+4pNemI/s0iRVgJ9C1aFF+A337L8DRt27alQYMGTDMmsjmd8+dh6FCVGfTll1XBc2DXrl38+9//pk+fPgwYMCB31yhaFJ59VpVcnDtXpWd47z31/rXXVPqKxx5T+w0eDL/+Ct98ox4ANWqoil0AFSvmrh8aTX7iyPxP7wUEAmuACEvbeGABIIz3nwNPWrZPBXoDzYHVlvZ7gcWZXdOp7p06daTs0+fu227dusmIiAgppZQrVqyQgFy6dKmUn3yifsZfuCDlxx+r9X79lCvgP/+xu3VAJTSrX1/KNm3SXO7OnTuyVq1asnHjxvmXmbNePZU9NBVLX3xRAvJXa98dRO9YefvttyUgjx496qze2vnoI9Uny0SomzdvyoiICBkWFibj4uLy5jpHj6rvEaTs2FGl5ujRw/6ZbNyo9jt5UmUp9fGRMijI7goKDs6bfmg0eQx5Eb0jpYwH1gJdAYQQA4GHgAHGRUBZ8FbTpwJwxmiv4KDddVgsfYCWLVsSFRXFtWvXWLZsGcWKFaN9+/bKAgRlzZ89C0WKwAcfqHKK1jqqAQEqHr5jR+UGuvuRKHx8fBg7diy7du1i+fLl5AvpWPpLoqIoAdwPKpEZqD5nwN/+9jcA5s6dm6dddMjMmdCkCdSrd7dpwoQJ7N27l6lTp1Im9cB0TqlaFRYsUOt9+oAQ8NlnKrVCmTLQvLnaVqGCcjElJcHw4eq4pCT7YLBG4yFkJXon2IzMEUL4AZ2AA0KIrsAYoKeU0lpsdRHQTwjhK4SoCtQEtkgpzwLXhBCtjKidp4CFeXs7WSAhQf2UP3rUoehLKdm2bRtr166lXbt2FC9e3B75cvGifQZm+fLqJ/7ly1CqFHh7Q/36SjQqVYJr1+yhgBYGDBhAaGgoX331lXPvMzZWZZK8cEH5rS1IKVmycyedgWJgrz61e3eGp6xSpQqtW7dm9uzZue/fV1+paJnUIZKgPrvt25VrxWDt2rV8+OGHPP/883Tr1i3317fy0ENw65ZyJ4F6CM6YAZ98or5Xk9Gj1UNo6FD7DGftz9d4GFmx9MOANUKIPcBWlE9/CfAZUApYJYTYJYT4CkBKGQXMA/YBvwLDpZRmrNvzwLeowd0j2McB8o/Zs6FfP1Un9vbtFKLf3LDqfvvtNyIjI2nTpo3aYLX0rdPumzZVyypVoHt36NFDvTetP3Ogz0KRIkUYNGgQS5cu5dSpU2m25xlTpyrRgjSWfmRkJCcvXOAhs6FePfU5ZCL6AE888QR79uxhnzm2kVNmzlQVsKx1iU0OHlTL+vUBuHLlCgMHDqRGjRq89957ubtuevj6qge2SZ8+qgavldatISpKzQzWoq/xULISvbNHSnmPlLKhlDJCSjnRaK8hpawopWxsvP5hOWaSlLK6lLK2lHK5pX2bcY7qUsoRFpdQ/pFaZExBB8qUKUPt2rX58ssvsdlsdtE3LX3TvWMUU6dZM7WsUAEWLYJx49T7TDI4Pvfcc9hsNucOipouC0iTAXLJkiUAdDcb/P1VJEsWRL9v3754eXkxxxiozhGXL6tBUoC9e9NuP3BALevUAVR6i9OnT/P9999TokSJnF83L9Gir/FQCt+M3FOnlEibNVSNqBCTZ599lktGJE5L8x/bfDBY3Ttgt/RTzxY1hSAd0a9WrRrt2rVj9uzZOOW5d/IkbN0KHTqo940bp9j8yy+/0CwigjCzwRT9yEjlp86A0NBQOnTowIwZM0jKZN90WbXK7tbZvRvWrk05/nHggHKrVK/OTz/9xIwZMxg/frz9+3AHmjdXD/k+fVzdE40mWxRe0f/vf9X7GjVSbH7uuecoUaIE9erVs8/0DAhQidhiY5WP3LT0mzRR4XzVq6e8Rrly6mGSQTKvJ554gn379hGZyeBpjlizRi0nT1YuLEuR8C1btrB161YGWGsD+PurguM3bsDq1Zmefvjw4Rw/fjznoadr16prli8Pkyapa48caRf+gwehWjV2RkXxzDPP0KxZMyZMmJCzazkLHx/Vdx2uqfEwCp/onzyp/lEfflgNtJouHIPSpUvz7bff8tZbb9kbvbyUz3v/fiVMpqUfEKAs6tS5X8zB3AxEv2/fvnh7e+fNoGhqzLkNlSqpSCMLH330Ef7+/jwzaJC9sVQp6NpVTYKaNSvT0z/88MNUq1aNiRMncuXKlez379Ah5bpp0EDluylRQkXM/PGH2n7gAIcrVKBr164EBgayYMECiqS6D41GkzMKl+hLabf0IWUlKQv9+vWjZ8+eKRuDguwTs6z1Ths2VKKVmkzS9gYHB9OpUyfmzJmTexdPZGTKGcGXLyv3SKlSKXbbvXs38+bNY+jQofiHhdk3+Purgcy+fdVYwI0bZIS3tzeTJ09m//79dOvWDdtPP6lInGvXstbfI0fUr6OICPX+3XdVf1etgr/+4sLBg3TZsQObzcbKlSup4CDZmkajyRmFS/Tj45Wg5UREgoKUhQoOi2CnoVIlx5EpFp544gliYmLYtGlT9vtjkpwMvXqpxGCmn9xMJGeJRpFSMmrUKEqXLs3YsWOVW8oMRzQfDo8+qkJas9Cfhx56iClTprBx40bmjRihPhvTrZQRt2+rqKYaNVRIZvfuMGiQ8pFPncqdtm15zGbj3K1bLFu2jNq1a2fv89BoNBlSuETfDJHMiehbJwMZUSUZUr++crNkkJ3zsccew9fXN3eTnX78EaKjVdqCXbtU26VLKUJRARYsWMDatWuZOHEipUuXVg8E8xeKmVK5TRvVvmGDem+zKb/10aMOL/3UU09Rv2JFXj13jkRQlnpmxMSo81avDm3bwtKlaiJUhw5w9ixvFC/On8nJ/G/69LshtBqNJu/Qop9VzAieevWUFZ0ZZmTPjh3p7uLv788DDzzAihUrst8fk6lT7fdjzvJNNeksISGBl19+mYiIiJQVplKLfmCgcleZvvXISJgwQVnkt26lubSXlxfvVqrEIeDVKlWyNAiMmZM/9eD3gw+yEph06xZPPfXU3dm/Go0mbylcon/SyAOXk4gLU/SzGjZohklmIPoAnTt35sCBAzmfqHX6tOpT06bpiv6LL75ITEwMn376KT4+PvZjS5RQg9TFi9vb7r1XxdAnJdn7vmdPyjzzJnfu0D0ykudq1+admBhePXCAa+bEqvRIR/RX3rpFn+LFqR8RwafW1BYajSZP8cl8lwLE+fNqGRKS/WPNlAqmBZ8Z/v6q8Mf27Rnu1qlTJwBWr17N008/nbVzHz2qwh2LFVPpncuWVbNE//c/tf3yZahaFSklr776KlOmTGHMmDEqj5CVEiWUP986E/WBB1QkzQ8/KNEvWVJlopw8WfnfrSkQNm6Eq1f59OuvSZw2jYkrVjCpXj28vL2x2WxIKWnWrBl9+vShd+/eXLlyhd/nzeOgtze2CRMIDQsjPj6eHTt2sHHjRiIiIli6dKnDCl4ajSaPcJSFzZ1eeZplc9QoKUuWzNmxzz6rMiv+8UfWj+nXT8pKlTLcxWazyZCQENm/f//Mz5ecLOVjj6l+vPWWeu/tLeW4cVK+9549U2bZsjJ56FA5bNgwCchnnnlG3rlzJ+352rSRsmLFlG1JSao9IEDK2rWlbNdOylu31PuhQ1Pu+69/qUyT8fHSdvGi/BPkhA4d5CuvvCLHjx8vx4wZI5s2bZqijiwgg729ZUhIiARkQECAbNmypXzzzTdlQkJC5p+BRqPJEqSTZbNwWfqXL6dIu5At3n1XJSZr2zbrx9xzj8qrf+lSutcVQtCpUydWrVqFzWbDyysDj9uxY/b0CkeOqPquycnK0jdDME+ehMuXGb1zJ19s2cLo0aN5++23cViZ0rT0rXh7w/TpaobuwYPQpYsK5wwLUzOSTZKSVP6crl0hIAABtKlQgTbh4WCd4wDExMSwaNEi/Pz8eHj8eEK7dYPp05FSOu6XRqNxGoXLp5+B+GZKUBA8/XRKV0hmNGiglkZhlvTo1KkTsbGx7HWUh8ZKdLR9/eJFuwib7h2Agwf5NjmZD7ZsYcSIEbzzzjvpC+sTT6hwydTUqKGKiYA9tXCZMilFf/lylYfouefsbRERDtMzV6lShZEjRzL44YcJvXDh7niHFnyNJv8p+KI/d67yR4PDUEanYmSJzEz0O3fuDMCqzEIezUHQWrVUOGhcnHpfpszdCJ5lP/3E80CX+vX56KOPMj7foEGqKpUjnn8eVq6Exx9X78uWtV8PYP581da9u70tIkLNWk4vJ4+Z0M2SFkKj0eQvBV/0v/oK3n5brefG0s8JFSsq90kmFnx4eDh169bNXPSjo1VMe4MGSoBNES5bFsqX5zug5+zZRABzR49OGamTXYSAzp3VJC7zGlbRP3RIuYCs6REiIlRahSNH1CSviAhVL9jEnEfQqFHO+6XRaHJFwRf9kyfVBKlr13Ln088JQijhy8xtg3LxrF+/nlsO4uHvEh2tXC/lyqUR/Q8++4xngQ5+fqwDAvI6dYHp3jFTRhw9CtWqpdzHTKuwd69y/0RFqTrCc+bAzz+r6KIqVfL315ZGo0lBwRZ9m80em3/oUP5b+mAXfbPqajp07tyZmzdvstHMM++II0eU6JctqwQ4NhaAXzZu5OWXX6ZvYCBLb9zAH/JeWMuWVSkUrl9XD9ALF9KKft266kG3d6+aKVyuHNSsCVOmqMLily6lTU6n0WjylYIt+hcuKKEC5Vq4fTv/Rb9RIyXQX3yhJkKlk9Kgffv2eHt7p3XxHD6s0iMcO2ZPVBYcrB4ghw9zw9ubYf/6F02aNGF627bcdbY4Q/RB/bo4dkytpxb94sVV/7ZuhSVLVE6gHj3g99+V4H/+Obz0Ut72S6PRZIuCLfqmlQ/2JGL57Vro1UuFQZoWbjrVqUqVKkWrVq1YuXJlyg0zZqhJUIMGKX95jRr28ocHDvCpnx9nz55l8uTJ+JnFW4RImSsoLzBF/+JF+4MrdSoFUL9sli1TPv0+fVTIJ6j88+a6RqNxGYVH9DdvVsv8tvTDwlJGuGRQbapbWBjbt2/n3Nmz9saFRu34detUWGafPncF+Nb+/Xxw8yZdu3alXbt2MHAgDBmiRDd1/H1uMR8icXF20U9t6YMSfSnV/vffr17Fiqmlnmmr0bicgi36ZmFysxQg5L/oA4waZV+/ejXd3R4yJl4tmzhRNRw7pvr9z3+qSWFz5yoxNSz9WRcvciE5mX+ZeXFatoSvv1YTpvKa1JZ+YKDjX03mYO5jjynr3s9PpXT44IO875NGo8k2BVv0T55UVqY154wrRL9DB+XThgwLjTSsVIkKwJIZM1TD2rVqOWyYSndszgYuW5YbwNtAo8BAHnjgASd13ILVp799u2PXDkDr1uphYM0j9NhjOkxTo3ETCr7oV6yoioOYuEL0we5uSc/SlxJx9iwPAytu3ODa6dNqENfHJ00dX8qWZRwQDXzw0kv5M7M1MFANRP/yixof+fvfHe9XqZJ6wGUnXYVGo8k3Crbonzmj/OD33mtvc1WMuI+Pim5JT/Tj4uDWLZ5s3JgbwE9Tpqi4/KpV1bEWDhw7xqfA80DHceOc3XOFl5f61bR2rXIvDR6cP9fVaDR5SsEW/StXlIXq7a1iyMFxPdv8wt8/fdE3Bp1bP/YYNYH/zZ1rD9FMxauvvopf0aK89tNPSozzi2HD1KD0Dz+kzMGv0Wg8hoIt+lev2iNGNm9Wk4ZcmeQrI9E3Bp1Fhw48B6w/cIA/DhxI49pZuXIl8+bN48XRoynXq5eTO5yK995T5Q2NGgAajcbzKDyiX6qUPQGaq/D3T38g14w0qlWLERUqUKFYMV64cYPblSvf3SU+Pp5nn32WunXrMn78+HzosEajKWhkKvpCiGJCiC1CiN1CiCghxH+N9iAhxCohxGFjWdpyzFghRLQQ4qAQooulvakQItLY9olw5giklClF3x0oVSpj946vLwQHU7xOHT6+dYudwMDFi7ly5QrXrl1jxIgRnD17lunTp1OsWLF87bpGoykYZMXSTwQ6SCkbAY2BrkKIVsArwG9SyprAb8Z7hBD1gH5AfaAr8IUQwts415fAEKCm8XJCQLnBzZuqwIg7iX5m7p1KlZT7qWZNegNvAXPWr6d06dL4+/sza9Ysxo0bR3Mzx71Go9Fkk0xz7xplt64bb4sYLwk8ArQ32qcDa4ExRvscKWUicEwIEQ20EELEAP5Syo0AQogZwKPA8ry5lVSY4uopon/mjKp7CyrG/dAhXpGSzm++yS9LllC8eHGaN29Ox44d8627Go2m4JGlhOuGpb4dqAF8LqXcLIQIkVKeBZBSnhVClDN2Dwc2WQ4/ZbTdMdZTtzu63hDULwIqmflksosprgEBOTveGaQW/e+/hxYtoHZtFbJpjjm0aAGrVwPQFGjasmX+91Wj0RRIsjSQK6VMllI2BiqgrPaIDHZ35KeXGbQ7ut43UspmUspmwWZysezirpb+tWtqvCExUVn0X3+ttl28mPdJ0jQajSYV2YrekVLGo9w4XYHzQogwAGMZa+x2CqhoOawCcMZor+Cg3Tm4q+jfuaME/8QJle8/Pl49BC5d0qKv0WicTlaid4KFEIHGuh/QCTgALAIGGrsNBIx0kCwC+gkhfIUQVVEDtlsMV9A1IUQrI2rnKcsxec+VK2rpTqJvpmKoXVtNcAIl+leuqEFnLfoajcbJZMWnHwZMN/z6XsA8KeUSIcRGYJ4Q4lngBNAXQEoZJYSYB+wDkoDhUspk41zPA9MAP9QArnMGccF9LX1QVv5nn6n1K1eUawe06Gs0GqeTleidPcA9DtovAg5DSaSUk4BJDtq3ARmNB+Qd7iz6YK9vGx+vRV+j0eQbBXdGrin6eV1MJDc46ou29DUaTT5SsEXf11e93AUzSZm1T9rS12g0+UiW4vQ9EndLwQCqstWKFVC0KJiFT6yWvlmoRKPRaJxEwRZ9d5qYBSrFwoMPqr6VLKlEPiZG5d0RQqWB1mg0GidSsN077mbpm/j7qwIpZm3bI0dUcRdv74yP02g0mlyiRd9VhITYffhHj2p/vkajyRe06LsS0/105IgWfY1Gky8UXJ9+mzaqKLo7Y/rwExL0IK5Go8kXCq7of/65q3uQOdaBZldX9dJoNIWCguve8QSs0Tq6MIpGo8kHtOi7Equl36yZ6/qh0WgKDVr0XYmfn309p8ViNBqNJhto0Xcl1rrwTqwRr9FoNCYFdyDXU/j6a5VfX6PRaPIBLfquZsgQV/dAo9EUIrR7R6PRaAoRWvQ1Go2mEKFFX6PRaAoRWvQ1Go2mEKFFX6PRaAoRWvQ1Go2mEKFFX6PRaAoRWvQ1Go2mECGklK7uQ4YIIS4Ax3N4eFkgLg+74y4UxPsqiPcE+r48jYJ0X5WllMGpG91e9HODEGKblLLApa8siPdVEO8J9H15GgX1vqxo945Go9EUIrToazQaTSGioIv+N67ugJMoiPdVEO8J9H15GgX1vu5SoH36Go1Go0lJQbf0NRqNRmNBi75Go9EUIgqk6AshugohDgohooUQr7i6P7lBCBEjhIgUQuwSQmwz2oKEEKuEEIeNZWlX9zMzhBDfCSFihRB7LW3p3ocQYqzx/R0UQnRxTa8zJ537ek0Icdr4znYJIbpbtrn9fQkhKgoh1ggh9gshooQQLxjtHv19ZXBfHv19ZRspZYF6Ad7AEaAaUBTYDdRzdb9ycT8xQNlUbe8CrxjrrwDvuLqfWbiP+4AmwN7M7gOoZ3xvvkBV4/v0dvU9ZOO+XgNedrCvR9wXEAY0MdZLAYeMvnv095XBfXn095XdV0G09FsA0VLKo1LK28Ac4BEX9ymveQSYbqxPBx51XVeyhpRyPXApVXN69/EIMEdKmSilPAZEo75XtyOd+0oPj7gvKeVZKeUOY/0asB8Ix8O/rwzuKz084r6yS0EU/XDgpOX9KTL+Yt0dCawUQmwXQpgFdUOklGdB/SED5VzWu9yR3n0UhO9whBBij+H+Md0gHndfQogqwD3AZgrQ95XqvqCAfF9ZoSCKvnDQ5slxqW2llE2AbsBwIcR9ru5QPuDp3+GXQHWgMXAW+MBo96j7EkKUBH4CRkkpr2a0q4M2T7qvAvF9ZZWCKPqngIqW9xWAMy7qS66RUp4xlrHAAtTPy/NCiDAAYxnruh7mivTuw6O/QynleSllspTSBkzB7hLwmPsSQhRBCeMsKeXPRrPHf1+O7qsgfF/ZoSCK/lagphCiqhCiKNAPWOTiPuUIIUQJIUQpcx14ENiLup+Bxm4DgYWu6WGuSe8+FgH9hBC+QoiqQE1giwv6lyNMYTR4DPWdgYfclxBCAFOB/VLKDy2bPPr7Su++PP37yjauHkl2xgvojhqZPwKMd3V/cnEf1VDRA7uBKPNegDLAb8BhYxnk6r5m4V5mo34630FZUM9mdB/AeOP7Owh0c3X/s3lf3wORwB6UcIR50n0B7VBujD3ALuPV3dO/rwzuy6O/r+y+dBoGjUajKUQURPeORqPRaNJBi75Go9EUIrToazQaTSFCi75Go9EUIrToazQaTSFCi75Go9EUIrToazQaTSHi/wFjRlQH6eFaHQAAAABJRU5ErkJggg==\\n\",","      \"text/plain\": [","       \"\u003cFigure size 432x288 with 1 Axes\u003e\"","      ]","     },","     \"metadata\": {","      \"needs_background\": \"light\"","     },","     \"output_type\": \"display_data\"","    }","   ],","   \"source\": [","    \"plt.plot(actual_prices,color='red',label='Predicted Price')\\n\",","    \"plt.plot(prediction_prices,color='black',label='Actual Price')\"","   ]","  },","  {","   \"cell_type\": \"code\",","   \"execution_count\": 38,","   \"id\": \"reserved-blood\",","   \"metadata\": {},","   \"outputs\": [","    {","     \"name\": \"stderr\",","     \"output_type\": \"stream\",","     \"text\": [","      \"2022-02-22 09:58:08.477 No handles with labels found to put in legend.\\n\"","     ]","    },","    {","     \"data\": {","      \"image/png\": \"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\\n\",","      \"text/plain\": [","       \"\u003cFigure size 432x288 with 1 Axes\u003e\"","      ]","     },","     \"metadata\": {","      \"needs_background\": \"light\"","     },","     \"output_type\": \"display_data\"","    }","   ],","   \"source\": [","    \"plt.title('Stock Market Price Prediction')\\n\",","    \"plt.title(stock_name +\\\" Stock Market Price Prediction\\\")\\n\",","    \"plt.xlabel('Time')\\n\",","    \"plt.ylabel('Price')\\n\",","    \"plt.legend(loc='upper left')\\n\",","    \"plt.show()\"","   ]","  },","  {","   \"cell_type\": \"code\",","   \"execution_count\": 39,","   \"id\": \"efficient-school\",","   \"metadata\": {},","   \"outputs\": [],","   \"source\": [","    \"#PREDICT THE NEXT DAY\"","   ]","  },","  {","   \"cell_type\": \"code\",","   \"execution_count\": 40,","   \"id\": \"contained-concert\",","   \"metadata\": {},","   \"outputs\": [],","   \"source\": [","    \"real_data=[model_inputs[len(model_inputs)+1-prediction_days:len(model_inputs)+1,0]]     \\n\",","    \"real_data=np.array(real_data)\\n\",","    \"real_data=np.reshape(real_data,(real_data.shape[0],real_data.shape[1],1))\"","   ]","  },","  {","   \"cell_type\": \"code\",","   \"execution_count\": 41,","   \"id\": \"affecting-front\",","   \"metadata\": {},","   \"outputs\": [","    {","     \"name\": \"stderr\",","     \"output_type\": \"stream\",","     \"text\": [","      \"2022-02-22 09:58:53.722 Model was constructed with shape (None, 14, 1) for input Tensor(\\\"lstm_input:0\\\", shape=(None, 14, 1), dtype=float32), but it was called on an input with incompatible shape (None, 13, 1).\\n\"","     ]","    },","    {","     \"name\": \"stdout\",","     \"output_type\": \"stream\",","     \"text\": [","      \"TCS.NS Predicted Price is : Rs. [[3765.6755]]\\n\"","     ]","    }","   ],","   \"source\": [","    \"prediction=model.predict(real_data)\\n\",","    \"prediction= scalar.inverse_transform(prediction)\\n\",","    \"print(stock_name +\\\" Predicted Price is : Rs.\\\",prediction)\"","   ]","  },","  {","   \"cell_type\": \"code\",","   \"execution_count\": 42,","   \"id\": \"proud-identification\",","   \"metadata\": {},","   \"outputs\": [],","   \"source\": [","    \"#describing data\"","   ]","  },","  {","   \"cell_type\": \"code\",","   \"execution_count\": 43,","   \"id\": \"increasing-minister\",","   \"metadata\": {},","   \"outputs\": [],","   \"source\": [","    \"#st.write(data.describe()\"","   ]","  },","  {","   \"cell_type\": \"code\",","   \"execution_count\": 44,","   \"id\": \"monetary-midwest\",","   \"metadata\": {},","   \"outputs\": [","    {","     \"data\": {","      \"text/plain\": [","       \"DeltaGenerator(_root_container=0, _provided_cursor=None, _parent=None, _block_type=None, _form_data=None)\"","      ]","     },","     \"execution_count\": 44,","     \"metadata\": {},","     \"output_type\": \"execute_result\"","    },","    {","     \"data\": {","      \"image/png\": \"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\\n\",","      \"text/plain\": [","       \"\u003cFigure size 864x432 with 1 Axes\u003e\"","      ]","     },","     \"metadata\": {","      \"needs_background\": \"light\"","     },","     \"output_type\": \"display_data\"","    }","   ],","   \"source\": [","    \"st.subheader(stock_name + ' Predicted Price of is Rs.' )\\n\",","    \"st.subheader(prediction)\\n\",","    \"fig =plt.figure(figsize=(12,6))\\n\",","    \"plt.plot(data.Close)\\n\",","    \"st.pyplot(fig)\"","   ]","  },","  {","   \"cell_type\": \"code\",","   \"execution_count\": 45,","   \"id\": \"official-frame\",","   \"metadata\": {},","   \"outputs\": [],","   \"source\": [","    \"#plt.plot(actual_prices,color='red',label='Predicted Price')\\n\",","    \"#plt.plot(prediction_prices,color='black',label='Actual Price')\"","   ]","  },","  {","   \"cell_type\": \"code\",","   \"execution_count\": 46,","   \"id\": \"driven-voltage\",","   \"metadata\": {},","   \"outputs\": [],","   \"source\": [","    \"st.subheader('Predicted Price vs Original Price')\\n\",","    \"ma100 = data.Close.rolling(100).mean()\"","   ]","  },","  {","   \"cell_type\": \"code\",","   \"execution_count\": 47,","   \"id\": \"rolled-introduction\",","   \"metadata\": {},","   \"outputs\": [","    {","     \"data\": {","      \"text/plain\": [","       \"DeltaGenerator(_root_container=0, _provided_cursor=None, _parent=None, _block_type=None, _form_data=None)\"","      ]","     },","     \"execution_count\": 47,","     \"metadata\": {},","     \"output_type\": \"execute_result\"","    },","    {","     \"data\": {","      \"image/png\": \"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\\n\",","      \"text/plain\": [","       \"\u003cFigure size 864x432 with 1 Axes\u003e\"","      ]","     },","     \"metadata\": {","      \"needs_background\": \"light\"","     },","     \"output_type\": \"display_data\"","    }","   ],","   \"source\": [","    \"fig =plt.figure(figsize=(12,6))\\n\",","    \"plt.plot(ma100)\\n\",","    \"plt.plot(data.Close)\\n\",","    \"st.pyplot(fig)\"","   ]","  },","  {","   \"cell_type\": \"code\",","   \"execution_count\": 48,","   \"id\": \"commercial-science\",","   \"metadata\": {},","   \"outputs\": [],","   \"source\": [","    \"st.write(data.describe())\"","   ]","  },","  {","   \"cell_type\": \"code\",","   \"execution_count\": null,","   \"id\": \"homeless-space\",","   \"metadata\": {},","   \"outputs\": [],","   \"source\": []","  }"," ],"," \"metadata\": {","  \"kernelspec\": {","   \"display_name\": \"Python 3\",","   \"language\": \"python\",","   \"name\": \"python3\"","  },","  \"language_info\": {","   \"codemirror_mode\": {","    \"name\": \"ipython\",","    \"version\": 3","   },","   \"file_extension\": \".py\",","   \"mimetype\": \"text/x-python\",","   \"name\": \"python\",","   \"nbconvert_exporter\": \"python\",","   \"pygments_lexer\": \"ipython3\",","   \"version\": \"3.8.5\"","  }"," },"," \"nbformat\": 4,"," \"nbformat_minor\": 5","}"],"stylingDirectives":null,"colorizedLines":null,"csv":null,"csvError":null,"dependabotInfo":{"showConfigurationBanner":false,"configFilePath":null,"networkDependabotPath":"/ronakkjain77/Stock-Price-Prediction/network/updates","dismissConfigurationNoticePath":"/settings/dismiss-notice/dependabot_configuration_notice","configurationNoticeDismissed":false},"displayName":"stock price prediction.ipynb","displayUrl":"https://notebooks.githubusercontent.com/view/ipynb?browser=safari\u0026bypass_fastly=true\u0026color_mode=auto\u0026commit=55a71551fee105d69dcc6b5feef03aa51263a350\u0026device=unknown_device\u0026docs_host=https%3A%2F%2Fdocs.github.com\u0026enc_url=68747470733a2f2f7261772e67697468756275736572636f6e74656e742e636f6d2f726f6e616b6b6a61696e37372f53746f636b2d50726963652d50726564696374696f6e2f353561373135353166656531303564363964636336623566656566303361613531323633613335302f73746f636b253230707269636525323070726564696374696f6e2e6970796e62\u0026logged_in=true\u0026nwo=ronakkjain77%2FStock-Price-Prediction\u0026path=stock+price+prediction.ipynb\u0026platform=mac\u0026repository_id=506664938\u0026repository_type=Repository\u0026version=18","headerInfo":{"blobSize":"130 KB","deleteTooltip":"Fork this repository and delete the file","editTooltip":"Fork this repository and edit the file","ghDesktopPath":"https://desktop.github.com","isGitLfs":false,"onBranch":true,"shortPath":"09c4f52","siteNavLoginPath":"/login?return_to=https%3A%2F%2Fgithub.com%2Fronakkjain77%2FStock-Price-Prediction%2Fblob%2Fmain%2Fstock%2520price%2520prediction.ipynb","isCSV":false,"isRichtext":false,"toc":null,"lineInfo":{"truncatedLoc":"636","truncatedSloc":"636"},"mode":"file"},"image":false,"isCodeownersFile":null,"isPlain":false,"isValidLegacyIssueTemplate":false,"issueTemplate":null,"discussionTemplate":null,"language":"Jupyter Notebook","languageID":185,"large":false,"planSupportInfo":{"repoIsFork":null,"repoOwnedByCurrentUser":null,"requestFullPath":"/ronakkjain77/Stock-Price-Prediction/blob/main/stock%20price%20prediction.ipynb","showFreeOrgGatedFeatureMessage":null,"showPlanSupportBanner":null,"upgradeDataAttributes":null,"upgradePath":null},"publishBannersInfo":{"dismissActionNoticePath":"/settings/dismiss-notice/publish_action_from_dockerfile","releasePath":"/ronakkjain77/Stock-Price-Prediction/releases/new?marketplace=true","showPublishActionBanner":false},"rawBlobUrl":"https://github.com/ronakkjain77/Stock-Price-Prediction/raw/refs/heads/main/stock%20price%20prediction.ipynb","renderImageOrRaw":false,"richText":null,"renderedFileInfo":{"identityUUID":"774d4a5b-ecc5-4053-8948-7986fe47e5e5","renderFileType":"ipynb","size":133037},"shortPath":null,"symbolsEnabled":true,"tabSize":8,"topBannersInfo":{"overridingGlobalFundingFile":false,"globalPreferredFundingPath":null,"showInvalidCitationWarning":false,"citationHelpUrl":"https://docs.github.com/github/creating-cloning-and-archiving-repositories/creating-a-repository-on-github/about-citation-files","actionsOnboardingTip":null},"truncated":false,"viewable":true,"workflowRedirectUrl":null,"symbols":{"timed_out":false,"not_analyzed":true,"symbols":[]}},"copilotInfo":null,"copilotAccessAllowed":true,"modelsAccessAllowed":false,"csrf_tokens":{"/ronakkjain77/Stock-Price-Prediction/branches":{"post":"6o0-Uz8rY3FM6cZz4wyOZsiWuKQIZXqCc4W69KAr9fiHJ4DeQFt8_qIaGZEuuzhH-D8id5LoiUv_SMc2bJKF0w"},"/repos/preferences":{"post":"Z7zv9ED-kRF1g3IxGp2yVmOAIvU9fFBgBCzuLu_7I8-wTD9T4lJ5DpkT-l4XEIuRu9DbFR8THwO07ByOfJ4WLQ"}}},"title":"Stock-Price-Prediction/stock price prediction.ipynb at main · ronakkjain77/Stock-Price-Prediction","appPayload":{"helpUrl":"https://docs.github.com","findFileWorkerPath":"/assets-cdn/worker/find-file-worker-9f8a877aa99f.js","findInFileWorkerPath":"/assets-cdn/worker/find-in-file-worker-eb3d353f90ce.js","githubDevUrl":"https://github.dev/","enabled_features":{"code_nav_ui_events":false,"overview_shared_code_dropdown_button":false,"react_blob_overlay":false,"copilot_conversational_ux_embedding_update":false,"copilot_smell_icebreaker_ux":true,"accessible_code_button":true}}}</script>
  <div data-target="react-app.reactRoot"><style data-styled="true" data-styled-version="5.3.11">.hOfjFo{padding:0;}/*!sc*/
.oDGAe{max-width:100%;margin-left:auto;margin-right:auto;display:-webkit-box;display:-webkit-flex;display:-ms-flexbox;display:flex;-webkit-flex-wrap:wrap;-ms-flex-wrap:wrap;flex-wrap:wrap;}/*!sc*/
.kowOcT{display:-webkit-box;display:-webkit-flex;display:-ms-flexbox;display:flex;-webkit-flex:1 1 100%;-ms-flex:1 1 100%;flex:1 1 100%;-webkit-flex-wrap:wrap;-ms-flex-wrap:wrap;flex-wrap:wrap;max-width:100%;}/*!sc*/
.gISSDQ{width:100%;}/*!sc*/
@media screen and (min-width:544px){.gISSDQ{width:100%;}}/*!sc*/
@media screen and (min-width:768px){.gISSDQ{width:auto;}}/*!sc*/
.cMnVPV{display:-webkit-box;display:-webkit-flex;display:-ms-flexbox;display:flex;-webkit-order:1;-ms-flex-order:1;order:1;width:100%;margin-left:0;margin-right:0;-webkit-flex-direction:column-reverse;-ms-flex-direction:column-reverse;flex-direction:column-reverse;margin-bottom:0;min-width:0;}/*!sc*/
@media screen and (min-width:768px){.cMnVPV{width:auto;margin-top:0 !important;margin-bottom:0 !important;position:-webkit-sticky;position:sticky;top:0px;max-height:100vh !important;-webkit-flex-direction:row;-ms-flex-direction:row;flex-direction:row;margin-right:0;height:100vh;}}/*!sc*/
@media print,screen and (max-width:1011px) and (min-width:768px){.cMnVPV{display:none;}}/*!sc*/
.hPvFuC{margin-left:0;margin-right:0;display:none;margin-top:0;}/*!sc*/
@media screen and (min-width:768px){.hPvFuC{margin-left:0 !important;margin-right:0 !important;}}/*!sc*/
.fFSoPl{--pane-min-width:256px;--pane-max-width-diff:511px;--pane-max-width:calc(100vw - var(--pane-max-width-diff));width:100%;padding:0;}/*!sc*/
@media screen and (min-width:544px){}/*!sc*/
@media screen and (min-width:768px){.fFSoPl{width:clamp(var(--pane-min-width),var(--pane-width),var(--pane-max-width));overflow:auto;}}/*!sc*/
@media screen and (min-width:1280px){.fFSoPl{--pane-max-width-diff:959px;}}/*!sc*/
.birIjn{max-height:100%;height:100%;display:-webkit-box;display:-webkit-flex;display:-ms-flexbox;display:flex;-webkit-flex-direction:column;-ms-flex-direction:column;flex-direction:column;}/*!sc*/
@media screen and (max-width:768px){.birIjn{display:none;}}/*!sc*/
@media screen and (min-width:768px){.birIjn{max-height:100vh;height:100vh;}}/*!sc*/
.hNNCwk{display:-webkit-box;display:-webkit-flex;display:-ms-flexbox;display:flex;-webkit-flex-direction:column;-ms-flex-direction:column;flex-direction:column;-webkit-align-items:center;-webkit-box-align:center;-ms-flex-align:center;align-items:center;padding-left:16px;padding-right:16px;padding-bottom:8px;padding-top:16px;}/*!sc*/
.jfIeyl{display:-webkit-box;display:-webkit-flex;display:-ms-flexbox;display:flex;width:100%;margin-bottom:16px;-webkit-align-items:center;-webkit-box-align:center;-ms-flex-align:center;align-items:center;}/*!sc*/
.XosP{display:-webkit-box;display:-webkit-flex;display:-ms-flexbox;display:flex;font-size:14px;}/*!sc*/
.hMLRgO[data-size="medium"]{color:var(--fgColor-muted,var(--color-fg-muted,#848d97));padding-left:8px;padding-right:8px;display:none;}/*!sc*/
@media screen and (max-width:768px){.hMLRgO[data-size="medium"]{display:block;}}/*!sc*/
.gUkoLg{-webkit-box-pack:center;-webkit-justify-content:center;-ms-flex-pack:center;justify-content:center;}/*!sc*/
.kOkWgo{font-size:16px;margin-left:8px;}/*!sc*/
.lhbroM{margin-left:24px;margin-right:24px;display:-webkit-box;display:-webkit-flex;display:-ms-flexbox;display:flex;width:100%;}/*!sc*/
.khzwtX{-webkit-box-flex:1;-webkit-flex-grow:1;-ms-flex-positive:1;flex-grow:1;}/*!sc*/
.JMXqM[data-size="medium"]{display:-webkit-box;display:-webkit-flex;display:-ms-flexbox;display:flex;min-width:0;}/*!sc*/
.JMXqM[data-size="medium"] svg{color:var(--fgColor-muted,var(--color-fg-muted,#848d97));}/*!sc*/
.JMXqM[data-size="medium"] > span{width:inherit;}/*!sc*/
.bZBlpz{display:-webkit-box;display:-webkit-flex;display:-ms-flexbox;display:flex;width:100%;}/*!sc*/
.bJjzmO{margin-right:4px;color:var(--fgColor-muted,var(--color-fg-muted,#848d97));}/*!sc*/
.ffLUq{font-size:14px;min-width:0;overflow:hidden;text-overflow:ellipsis;white-space:nowrap;}/*!sc*/
.bmcJak{min-width:0;}/*!sc*/
.eTeVqd{margin-left:8px;white-space:nowrap;}/*!sc*/
.eTeVqd:hover button:not(:hover){border-left-color:var(--button-default-borderColor-hover,var(--color-btn-hover-border));}/*!sc*/
.jNHrPP[data-size="medium"][data-no-visuals]{color:var(--fgColor-muted,var(--color-fg-subtle,#6e7681));border-top-right-radius:0;border-bottom-right-radius:0;border-right:0;}/*!sc*/
.ijefGF[data-size="medium"][data-no-visuals]{color:var(--fgColor-muted,var(--color-fg-subtle,#6e7681));font-size:14px;font-weight:400;-webkit-flex-shrink:0;-ms-flex-negative:0;flex-shrink:0;border-top-left-radius:0;border-bottom-left-radius:0;}/*!sc*/
.ftzGWg{margin-left:16px;margin-right:16px;margin-bottom:12px;}/*!sc*/
@media screen and (max-width:768px){.ftzGWg{display:none;}}/*!sc*/
.dItACB{margin-right:-6px;}/*!sc*/
.gjtfVk{-webkit-box-flex:1;-webkit-flex-grow:1;-ms-flex-positive:1;flex-grow:1;max-height:100% !important;overflow-y:auto;-webkit-scrollbar-gutter:stable;-moz-scrollbar-gutter:stable;-ms-scrollbar-gutter:stable;scrollbar-gutter:stable;}/*!sc*/
@media screen and (max-width:768px){.gjtfVk{display:none;}}/*!sc*/
.cOxzdh{padding-left:16px;padding-right:16px;padding-bottom:8px;}/*!sc*/
.bTBnTW{height:100%;position:relative;display:none;margin-left:0;}/*!sc*/
.fFMzrG{position:absolute;inset:0 -2px;cursor:col-resize;background-color:transparent;-webkit-transition-delay:0.1s;transition-delay:0.1s;}/*!sc*/
.fFMzrG:hover{background-color:var(--bgColor-neutral-muted,var(--color-neutral-muted,rgba(110,118,129,0.4)));}/*!sc*/
.iKqMNA{display:-webkit-box;display:-webkit-flex;display:-ms-flexbox;display:flex;-webkit-flex-direction:column;-ms-flex-direction:column;flex-direction:column;-webkit-order:2;-ms-flex-order:2;order:2;-webkit-flex-basis:0;-ms-flex-preferred-size:0;flex-basis:0;-webkit-box-flex:1;-webkit-flex-grow:1;-ms-flex-positive:1;flex-grow:1;-webkit-flex-shrink:1;-ms-flex-negative:1;flex-shrink:1;min-width:1px;margin-right:auto;}/*!sc*/
@media print{.iKqMNA{display:-webkit-box !important;display:-webkit-flex !important;display:-ms-flexbox !important;display:flex !important;}}/*!sc*/
.FxAyp{width:100%;max-width:100%;margin-left:auto;margin-right:auto;-webkit-box-flex:1;-webkit-flex-grow:1;-ms-flex-positive:1;flex-grow:1;padding:0;}/*!sc*/
.leYMvG{margin-left:auto;margin-right:auto;-webkit-flex-direction:column;-ms-flex-direction:column;flex-direction:column;padding-bottom:40px;max-width:100%;margin-top:0;}/*!sc*/
.KMPzq{display:inherit;}/*!sc*/
.hfKjHv{width:100%;}/*!sc*/
.gZWyZE{display:-webkit-box;display:-webkit-flex;display:-ms-flexbox;display:flex;gap:8px;-webkit-flex-direction:column;-ms-flex-direction:column;flex-direction:column;width:100%;}/*!sc*/
.dwYKDk{display:-webkit-box;display:-webkit-flex;display:-ms-flexbox;display:flex;-webkit-align-items:start;-webkit-box-align:start;-ms-flex-align:start;align-items:start;-webkit-box-pack:justify;-webkit-justify-content:space-between;-ms-flex-pack:justify;justify-content:space-between;gap:8px;}/*!sc*/
.iDtIiT{-webkit-align-self:center;-ms-flex-item-align:center;align-self:center;display:-webkit-box;display:-webkit-flex;display:-ms-flexbox;display:flex;padding-right:8px;min-width:0;}/*!sc*/
.cEytCf{display:-webkit-box;display:-webkit-flex;display:-ms-flexbox;display:flex;-webkit-flex-direction:row;-ms-flex-direction:row;flex-direction:row;font-size:16px;min-width:0;-webkit-flex-shrink:1;-ms-flex-negative:1;flex-shrink:1;-webkit-flex-wrap:wrap;-ms-flex-wrap:wrap;flex-wrap:wrap;max-width:100%;-webkit-align-items:center;-webkit-box-align:center;-ms-flex-align:center;align-items:center;}/*!sc*/
.fzFXnm{max-width:100%;}/*!sc*/
.iMnkmv{max-width:100%;list-style:none;display:inline-block;}/*!sc*/
.ghzDag{display:inline-block;max-width:100%;}/*!sc*/
.kHuKdh{font-weight:600;}/*!sc*/
.hXyrdx{padding-left:4px;padding-right:4px;font-weight:400;color:var(--fgColor-muted,var(--color-fg-muted,#848d97));font-size:16px;}/*!sc*/
.jGhzSQ{font-weight:600;display:inline-block;max-width:100%;font-size:16px;}/*!sc*/
.faNtbn{min-height:32px;display:-webkit-box;display:-webkit-flex;display:-ms-flexbox;display:flex;-webkit-align-items:start;-webkit-box-align:start;-ms-flex-align:start;align-items:start;}/*!sc*/
.dwNhzn[data-size="medium"][data-no-visuals]{border-top-left-radius:0;border-bottom-left-radius:0;display:none;}/*!sc*/
.kVRliy[data-size="medium"][data-no-visuals]{color:var(--fgColor-muted,var(--color-fg-muted,#848d97));}/*!sc*/
.dJxjrT{margin-left:16px;margin-right:16px;}/*!sc*/
.eFxKDQ{display:-webkit-box;display:-webkit-flex;display:-ms-flexbox;display:flex;-webkit-flex-direction:column;-ms-flex-direction:column;flex-direction:column;}/*!sc*/
.dzCJzi{display:-webkit-box;display:-webkit-flex;display:-ms-flexbox;display:flex;-webkit-flex-direction:row;-ms-flex-direction:row;flex-direction:row;-webkit-flex-wrap:wrap;-ms-flex-wrap:wrap;flex-wrap:wrap;-webkit-box-pack:justify;-webkit-justify-content:space-between;-ms-flex-pack:justify;justify-content:space-between;-webkit-align-items:center;-webkit-box-align:center;-ms-flex-align:center;align-items:center;gap:8px;min-width:273px;padding:8px;}/*!sc*/
@media screen and (min-width:544px){.dzCJzi{-webkit-flex-wrap:nowrap;-ms-flex-wrap:nowrap;flex-wrap:nowrap;}}/*!sc*/
.ldRxiI{display:-webkit-box;display:-webkit-flex;display:-ms-flexbox;display:flex;-webkit-flex-direction:row;-ms-flex-direction:row;flex-direction:row;}/*!sc*/
.fVkfyA{width:100%;height:-webkit-fit-content;height:-moz-fit-content;height:fit-content;min-width:0;margin-right:0;}/*!sc*/
.gNAmSV{height:40px;padding-left:4px;padding-bottom:16px;}/*!sc*/
.jNEwzY{-webkit-align-items:center;-webkit-box-align:center;-ms-flex-align:center;align-items:center;}/*!sc*/
.ifyOQK{font-size:12px;-webkit-flex:auto;-ms-flex:auto;flex:auto;padding-right:16px;color:var(--fgColor-muted,var(--color-fg-muted,#848d97));min-width:0;}/*!sc*/
.jdLMhu{top:0px;z-index:4;background:var(--bgColor-default,var(--color-canvas-default));position:-webkit-sticky;position:sticky;}/*!sc*/
.tOISc{display:-webkit-box;display:-webkit-flex;display:-ms-flexbox;display:flex;-webkit-flex-direction:column;-ms-flex-direction:column;flex-direction:column;width:100%;position:absolute;}/*!sc*/
.hqwSEx{display:none;min-width:0;padding-top:8px;padding-bottom:8px;}/*!sc*/
.lzKZY{margin-right:8px;margin-left:16px;text-overflow:ellipsis;overflow:hidden;display:-webkit-box;display:-webkit-flex;display:-ms-flexbox;display:flex;-webkit-flex-direction:row;-ms-flex-direction:row;flex-direction:row;-webkit-align-items:center;-webkit-box-align:center;-ms-flex-align:center;align-items:center;-webkit-box-pack:justify;-webkit-justify-content:space-between;-ms-flex-pack:justify;justify-content:space-between;width:100%;}/*!sc*/
.fHind{display:-webkit-box;display:-webkit-flex;display:-ms-flexbox;display:flex;-webkit-flex-direction:row;-ms-flex-direction:row;flex-direction:row;font-size:14px;min-width:0;-webkit-flex-shrink:1;-ms-flex-negative:1;flex-shrink:1;-webkit-flex-wrap:wrap;-ms-flex-wrap:wrap;flex-wrap:wrap;max-width:100%;-webkit-align-items:center;-webkit-box-align:center;-ms-flex-align:center;align-items:center;}/*!sc*/
.bQeXnn{padding-left:4px;padding-right:4px;font-weight:400;color:var(--fgColor-muted,var(--color-fg-muted,#848d97));font-size:14px;}/*!sc*/
.dnZoUW{font-weight:600;display:inline-block;max-width:100%;font-size:14px;}/*!sc*/
.dpNnZU[data-size="small"]{color:var(--fgColor-default,var(--color-fg-default,#e6edf3));margin-left:8px;}/*!sc*/
.gpHFJV{padding-left:8px;padding-top:8px;padding-bottom:8px;display:-webkit-box;display:-webkit-flex;display:-ms-flexbox;display:flex;-webkit-flex:1;-ms-flex:1;flex:1;-webkit-align-items:center;-webkit-box-align:center;-ms-flex-align:center;align-items:center;-webkit-box-pack:justify;-webkit-justify-content:space-between;-ms-flex-pack:justify;justify-content:space-between;background-color:var(--bgColor-muted,var(--color-canvas-subtle,#161b22));border:1px solid var(--borderColor-default,var(--color-border-default));border-radius:6px 6px 0px 0px;}/*!sc*/
.iNMjfP{display:-webkit-box;display:-webkit-flex;display:-ms-flexbox;display:flex;-webkit-align-items:center;-webkit-box-align:center;-ms-flex-align:center;align-items:center;gap:8px;min-width:0;}/*!sc*/
.fefCSX{display:block;position:relative;-webkit-box-flex:1;-webkit-flex-grow:1;-ms-flex-positive:1;flex-grow:1;margin-top:-1px;margin-bottom:-1px;--separator-color:transparent;}/*!sc*/
.fefCSX:not(:last-child){margin-right:1px;}/*!sc*/
.fefCSX:not(:last-child):after{background-color:var(--separator-color);content:"";position:absolute;right:-2px;top:8px;bottom:8px;width:1px;}/*!sc*/
.fefCSX:focus-within:has(:focus-visible){--separator-color:transparent;}/*!sc*/
.fefCSX:first-child{margin-left:-1px;}/*!sc*/
.fefCSX:last-child{margin-right:-1px;}/*!sc*/
.sulSy{display:block;position:relative;-webkit-box-flex:1;-webkit-flex-grow:1;-ms-flex-positive:1;flex-grow:1;margin-top:-1px;margin-bottom:-1px;--separator-color:var(--borderColor-default,var(--color-border-default,#30363d));}/*!sc*/
.sulSy:not(:last-child){margin-right:1px;}/*!sc*/
.sulSy:not(:last-child):after{background-color:var(--separator-color);content:"";position:absolute;right:-2px;top:8px;bottom:8px;width:1px;}/*!sc*/
.sulSy:focus-within:has(:focus-visible){--separator-color:transparent;}/*!sc*/
.sulSy:first-child{margin-left:-1px;}/*!sc*/
.sulSy:last-child{margin-right:-1px;}/*!sc*/
.kcLCKF{display:-webkit-box;display:-webkit-flex;display:-ms-flexbox;display:flex;-webkit-align-items:center;-webkit-box-align:center;-ms-flex-align:center;align-items:center;gap:8px;margin-right:8px;}/*!sc*/
.kVWtTz{gap:8px;}/*!sc*/
.gWqxTd{padding-left:8px;padding-right:8px;}/*!sc*/
.gWqxTd linkButtonSx:hover:not([disabled]){-webkit-text-decoration:none;text-decoration:none;}/*!sc*/
.gWqxTd linkButtonSx:focus:not([disabled]){-webkit-text-decoration:none;text-decoration:none;}/*!sc*/
.gWqxTd linkButtonSx:active:not([disabled]){-webkit-text-decoration:none;text-decoration:none;}/*!sc*/
.ivobqY[data-size="small"][data-no-visuals]{border-top-left-radius:0;border-bottom-left-radius:0;}/*!sc*/
.kilKoS[data-size="small"][data-no-visuals]{border-top-right-radius:0;border-bottom-right-radius:0;border-right-width:0;}/*!sc*/
.kilKoS[data-size="small"][data-no-visuals]:hover:not([disabled]){-webkit-text-decoration:none;text-decoration:none;}/*!sc*/
.kilKoS[data-size="small"][data-no-visuals]:focus:not([disabled]){-webkit-text-decoration:none;text-decoration:none;}/*!sc*/
.kilKoS[data-size="small"][data-no-visuals]:active:not([disabled]){-webkit-text-decoration:none;text-decoration:none;}/*!sc*/
.itGLhU[data-size="small"][data-no-visuals]{color:var(--fgColor-muted,var(--color-fg-muted,#848d97));}/*!sc*/
.hycJXc{border:1px solid;border-top:none;border-color:var(--borderColor-default,var(--color-border-default,#30363d));border-radius:0px 0px 6px 6px;min-width:273px;}/*!sc*/
.iWAocR{background-color:var(--bgColor-default,var(--color-canvas-default));border:0px;border-width:0;border-radius:0px 0px 6px 6px;padding:0;min-width:0;margin-top:46px;overflow:auto;}/*!sc*/
.cCoXib{position:fixed;top:0;right:0;height:100%;width:15px;-webkit-transition:-webkit-transform 0.3s;-webkit-transition:transform 0.3s;transition:transform 0.3s;z-index:1;}/*!sc*/
.cCoXib:hover{-webkit-transform:scaleX(1.5);-ms-transform:scaleX(1.5);transform:scaleX(1.5);}/*!sc*/
.fgsa-DI{display:-webkit-box;display:-webkit-flex;display:-ms-flexbox;display:flex;-webkit-flex-direction:column;-ms-flex-direction:column;flex-direction:column;-webkit-align-items:center;-webkit-box-align:center;-ms-flex-align:center;align-items:center;padding-top:16px;padding-bottom:16px;}/*!sc*/
data-styled.g1[id="Box-sc-g0xbh4-0"]{content:"hOfjFo,oDGAe,kowOcT,gISSDQ,cMnVPV,hPvFuC,fFSoPl,birIjn,hNNCwk,jfIeyl,XosP,hMLRgO,gUkoLg,kOkWgo,lhbroM,khzwtX,JMXqM,bZBlpz,bJjzmO,ffLUq,bmcJak,eTeVqd,jNHrPP,ijefGF,ftzGWg,dItACB,gjtfVk,cOxzdh,bTBnTW,fFMzrG,iKqMNA,FxAyp,leYMvG,KMPzq,hfKjHv,gZWyZE,dwYKDk,iDtIiT,cEytCf,fzFXnm,iMnkmv,ghzDag,kHuKdh,hXyrdx,jGhzSQ,faNtbn,dwNhzn,kVRliy,dJxjrT,eFxKDQ,dzCJzi,ldRxiI,fVkfyA,gNAmSV,jNEwzY,ifyOQK,jdLMhu,tOISc,hqwSEx,lzKZY,fHind,bQeXnn,dnZoUW,dpNnZU,gpHFJV,iNMjfP,fefCSX,sulSy,kcLCKF,kVWtTz,gWqxTd,ivobqY,kilKoS,itGLhU,hycJXc,iWAocR,cCoXib,fgsa-DI,"}/*!sc*/
.brGdpi{position:absolute;width:1px;height:1px;padding:0;margin:-1px;overflow:hidden;-webkit-clip:rect(0,0,0,0);clip:rect(0,0,0,0);white-space:nowrap;border-width:0;}/*!sc*/
data-styled.g4[id="_VisuallyHidden__VisuallyHidden-sc-11jhm7a-0"]{content:"brGdpi,"}/*!sc*/
.jkNcAv{border:0;font-size:inherit;font-family:inherit;background-color:transparent;-webkit-appearance:none;color:inherit;width:100%;}/*!sc*/
.jkNcAv:focus{outline:0;}/*!sc*/
data-styled.g14[id="UnstyledTextInput__ToggledUnstyledTextInput-sc-14ypya-0"]{content:"jkNcAv,"}/*!sc*/
.bclhiL{font-size:14px;line-height:var(--base-size-20);color:var(--fgColor-default,var(--color-fg-default,#e6edf3));vertical-align:middle;background-color:var(--bgColor-default,var(--color-canvas-default,#0d1117));border:1px solid var(--control-borderColor-rest,var(--borderColor-default,var(--color-border-default,#30363d)));border-radius:6px;outline:none;box-shadow:var(--shadow-inset,var(--color-primer-shadow-inset,0 0 transparent));display:-webkit-inline-box;display:-webkit-inline-flex;display:-ms-inline-flexbox;display:inline-flex;-webkit-align-items:stretch;-webkit-box-align:stretch;-ms-flex-align:stretch;align-items:stretch;min-height:var(--base-size-32);overflow:hidden;--inner-action-size:var(--base-size-24);}/*!sc*/
.bclhiL input,.bclhiL textarea{cursor:text;}/*!sc*/
.bclhiL select{cursor:pointer;}/*!sc*/
.bclhiL input::-webkit-input-placeholder,.bclhiL textarea::-webkit-input-placeholder,.bclhiL select::-webkit-input-placeholder{color:var(---control-fgColor-placeholder,var(--fgColor-muted,var(--color-fg-muted,#848d97)));}/*!sc*/
.bclhiL input::-moz-placeholder,.bclhiL textarea::-moz-placeholder,.bclhiL select::-moz-placeholder{color:var(---control-fgColor-placeholder,var(--fgColor-muted,var(--color-fg-muted,#848d97)));}/*!sc*/
.bclhiL input:-ms-input-placeholder,.bclhiL textarea:-ms-input-placeholder,.bclhiL select:-ms-input-placeholder{color:var(---control-fgColor-placeholder,var(--fgColor-muted,var(--color-fg-muted,#848d97)));}/*!sc*/
.bclhiL input::placeholder,.bclhiL textarea::placeholder,.bclhiL select::placeholder{color:var(---control-fgColor-placeholder,var(--fgColor-muted,var(--color-fg-muted,#848d97)));}/*!sc*/
.bclhiL:where([data-trailing-action][data-focused]),.bclhiL:where(:not([data-trailing-action]):focus-within){border-color:var(--fgColor-accent,var(--color-accent-fg,#2f81f7));outline:2px solid var(--fgColor-accent,var(--color-accent-fg,#2f81f7));outline-offset:-1px;}/*!sc*/
.bclhiL > textarea{padding:var(--base-size-12);}/*!sc*/
.bclhiL:where([data-contrast]){background-color:var(--bgColor-inset,var(--color-canvas-inset,#010409));}/*!sc*/
.bclhiL:where([data-disabled]){color:var(--fgColor-disabled,var(--color-primer-fg-disabled,#484f58));background-color:var(--control-bgColor-disabled,var(--color-input-disabled-bg,rgba(110,118,129,0)));box-shadow:none;border-color:var(--control-borderColor-disabled,var(--borderColor-default,var(--color-border-default,#30363d)));}/*!sc*/
.bclhiL:where([data-disabled]) input,.bclhiL:where([data-disabled]) textarea,.bclhiL:where([data-disabled]) select{cursor:not-allowed;}/*!sc*/
.bclhiL:where([data-monospace]){font-family:var(--fontStack-monospace,SFMono-Regular,Consolas,"Liberation Mono",Menlo,Courier,monospace);}/*!sc*/
.bclhiL:where([data-validation='error']){border-color:var(--borderColor-danger-emphasis,var(--color-danger-emphasis,#da3633));}/*!sc*/
.bclhiL:where([data-validation='error']):where([data-trailing-action][data-focused]),.bclhiL:where([data-validation='error']):where(:not([data-trailing-action])):focus-within{border-color:var(--fgColor-accent,var(--color-accent-fg,#2f81f7));outline:2px solid var(--fgColor-accent,var(--color-accent-fg,#2f81f7));outline-offset:-1px;}/*!sc*/
.bclhiL:where([data-validation='success']){border-color:var(--bgColor-success-emphasis,var(--color-success-emphasis,#238636));}/*!sc*/
.bclhiL:where([data-block]){width:100%;display:-webkit-box;display:-webkit-flex;display:-ms-flexbox;display:flex;-webkit-align-self:stretch;-ms-flex-item-align:stretch;align-self:stretch;}/*!sc*/
@media (min-width:768px){.bclhiL{font-size:var(--text-body-size-medium);}}/*!sc*/
.bclhiL:where([data-size='small']){--inner-action-size:var(--base-size-20);min-height:var(--base-size-28);padding-top:3px;padding-right:var(--base-size-8);padding-bottom:3px;padding-left:var(--base-size-8);font-size:var(--text-body-size-small);line-height:var(--base-size-20);}/*!sc*/
.bclhiL:where([data-size='large']){--inner-action-size:var(--base-size-28);height:var(--base-size-40);padding-top:10px;padding-right:var(--base-size-8);padding-bottom:10px;padding-left:var(--base-size-8);}/*!sc*/
.bclhiL:where([data-variant='small']){min-height:28px;padding-top:3px;padding-right:var(--base-size-8);padding-bottom:3px;padding-left:var(--base-size-8);font-size:(--text-body-size-small);line-height:var(--base-size-20);}/*!sc*/
.bclhiL:where([data-variant='large']){padding-top:10px;padding-right:var(--base-size-8);padding-bottom:10px;padding-left:var(--base-size-8);font-size:var(--text-title-size-medium);}/*!sc*/
.bclhiL{display:-webkit-box;display:-webkit-flex;display:-ms-flexbox;display:flex;min-width:160px;}/*!sc*/
data-styled.g15[id="TextInputWrapper__StyledTextInputBaseWrapper-sc-1mqhpbi-0"]{content:"bclhiL,"}/*!sc*/
.jpROxA{background-repeat:no-repeat;background-position:right 8px center;padding-right:0;padding-left:0;}/*!sc*/
.jpROxA > :not(:last-child){margin-right:8px;}/*!sc*/
.jpROxA .TextInput-icon,.jpROxA .TextInput-action{-webkit-align-self:center;-ms-flex-item-align:center;align-self:center;color:var(--fgColor-muted,var(--color-fg-muted,#848d97));-webkit-flex-shrink:0;-ms-flex-negative:0;flex-shrink:0;}/*!sc*/
.jpROxA > input,.jpROxA > select{padding-right:0;padding-left:0;}/*!sc*/
.jpROxA:where([data-leading-visual]){padding-left:var(--base-size-12);}/*!sc*/
.jpROxA:where([data-trailing-visual]:not([data-trailing-action])){padding-right:var(--base-size-12);}/*!sc*/
.jpROxA:where(:not([data-leading-visual])) > input,.jpROxA:where(:not([data-leading-visual])) > select{padding-left:var(--base-size-12);}/*!sc*/
.jpROxA:where(:not([data-trailing-visual]):not([data-trailing-action])) > input,.jpROxA:where(:not([data-trailing-visual]):not([data-trailing-action])) > select{padding-right:var(--base-size-12);}/*!sc*/
.jpROxA{display:-webkit-box;display:-webkit-flex;display:-ms-flexbox;display:flex;min-width:160px;}/*!sc*/
data-styled.g16[id="TextInputWrapper__StyledTextInputWrapper-sc-1mqhpbi-1"]{content:"jpROxA,"}/*!sc*/
.fLAhLl{display:none;}/*!sc*/
.fLAhLl[popover]{position:absolute;padding:0.5em 0.75em;width:-webkit-max-content;width:-moz-max-content;width:max-content;margin:auto;-webkit-clip:auto;clip:auto;white-space:normal;font:normal normal 11px/1.5 -apple-system,BlinkMacSystemFont,"Segoe UI","Noto Sans",Helvetica,Arial,sans-serif,"Apple Color Emoji","Segoe UI Emoji";-webkit-font-smoothing:subpixel-antialiased;color:var(--tooltip-fgColor,var(--fgColor-onEmphasis,var(--color-fg-on-emphasis,#ffffff)));text-align:center;word-wrap:break-word;background:var(--tooltip-bgColor,var(--bgColor-emphasis,var(--color-neutral-emphasis-plus,#6e7681)));border-radius:6px;border:0;opacity:0;max-width:250px;inset:auto;overflow:visible;}/*!sc*/
.fLAhLl[popover]:popover-open{display:block;}/*!sc*/
.fLAhLl[popover].\:popover-open{display:block;}/*!sc*/
@media (forced-colors:active){.fLAhLl{outline:1px solid transparent;}}/*!sc*/
.fLAhLl::after{position:absolute;display:block;right:0;left:0;height:var(--overlay-offset,0.25rem);content:'';}/*!sc*/
.fLAhLl[data-direction='n']::after,.fLAhLl[data-direction='ne']::after,.fLAhLl[data-direction='nw']::after{top:100%;}/*!sc*/
.fLAhLl[data-direction='s']::after,.fLAhLl[data-direction='se']::after,.fLAhLl[data-direction='sw']::after{bottom:100%;}/*!sc*/
.fLAhLl[data-direction='w']::after{position:absolute;display:block;height:100%;width:8px;content:'';bottom:0;left:100%;}/*!sc*/
.fLAhLl[data-direction='e']::after{position:absolute;display:block;height:100%;width:8px;content:'';bottom:0;right:100%;margin-left:-8px;}/*!sc*/
@-webkit-keyframes tooltip-appear{from{opacity:0;}to{opacity:1;}}/*!sc*/
@keyframes tooltip-appear{from{opacity:0;}to{opacity:1;}}/*!sc*/
.fLAhLl:popover-open,.fLAhLl:popover-open::before{-webkit-animation-name:tooltip-appear;animation-name:tooltip-appear;-webkit-animation-duration:0.1s;animation-duration:0.1s;-webkit-animation-fill-mode:forwards;animation-fill-mode:forwards;-webkit-animation-timing-function:ease-in;animation-timing-function:ease-in;-webkit-animation-delay:0s;animation-delay:0s;}/*!sc*/
.fLAhLl.\:popover-open,.fLAhLl.\:popover-open::before{-webkit-animation-name:tooltip-appear;animation-name:tooltip-appear;-webkit-animation-duration:0.1s;animation-duration:0.1s;-webkit-animation-fill-mode:forwards;animation-fill-mode:forwards;-webkit-animation-timing-function:ease-in;animation-timing-function:ease-in;-webkit-animation-delay:0s;animation-delay:0s;}/*!sc*/
data-styled.g17[id="Tooltip__StyledTooltip-sc-e45c7z-0"]{content:"fLAhLl,"}/*!sc*/
.fiSvBN{position:relative;display:inline-block;}/*!sc*/
.fiSvBN::after{position:absolute;z-index:1000000;display:none;padding:0.5em 0.75em;font:normal normal 11px/1.5 -apple-system,BlinkMacSystemFont,"Segoe UI","Noto Sans",Helvetica,Arial,sans-serif,"Apple Color Emoji","Segoe UI Emoji";-webkit-font-smoothing:subpixel-antialiased;color:var(--tooltip-fgColor,var(--fgColor-onEmphasis,var(--color-fg-on-emphasis,#ffffff)));text-align:center;-webkit-text-decoration:none;text-decoration:none;text-shadow:none;text-transform:none;-webkit-letter-spacing:normal;-moz-letter-spacing:normal;-ms-letter-spacing:normal;letter-spacing:normal;word-wrap:break-word;white-space:pre;pointer-events:none;content:attr(aria-label);background:var(--tooltip-bgColor,var(--bgColor-emphasis,var(--color-neutral-emphasis-plus,#6e7681)));border-radius:6px;opacity:0;}/*!sc*/
@-webkit-keyframes tooltip-appear{from{opacity:0;}to{opacity:1;}}/*!sc*/
@keyframes tooltip-appear{from{opacity:0;}to{opacity:1;}}/*!sc*/
.fiSvBN:hover::after,.fiSvBN:active::after,.fiSvBN:focus::after,.fiSvBN:focus-within::after{display:inline-block;-webkit-text-decoration:none;text-decoration:none;-webkit-animation-name:tooltip-appear;animation-name:tooltip-appear;-webkit-animation-duration:0.1s;animation-duration:0.1s;-webkit-animation-fill-mode:forwards;animation-fill-mode:forwards;-webkit-animation-timing-function:ease-in;animation-timing-function:ease-in;-webkit-animation-delay:0s;animation-delay:0s;}/*!sc*/
.fiSvBN.tooltipped-no-delay:hover::after,.fiSvBN.tooltipped-no-delay:active::after,.fiSvBN.tooltipped-no-delay:focus::after,.fiSvBN.tooltipped-no-delay:focus-within::after{-webkit-animation-delay:0s;animation-delay:0s;}/*!sc*/
.fiSvBN.tooltipped-multiline:hover::after,.fiSvBN.tooltipped-multiline:active::after,.fiSvBN.tooltipped-multiline:focus::after,.fiSvBN.tooltipped-multiline:focus-within::after{display:table-cell;}/*!sc*/
.fiSvBN.tooltipped-s::after,.fiSvBN.tooltipped-se::after,.fiSvBN.tooltipped-sw::after{top:100%;right:50%;margin-top:6px;}/*!sc*/
.fiSvBN.tooltipped-se::after{right:auto;left:50%;margin-left:-16px;}/*!sc*/
.fiSvBN.tooltipped-sw::after{margin-right:-16px;}/*!sc*/
.fiSvBN.tooltipped-n::after,.fiSvBN.tooltipped-ne::after,.fiSvBN.tooltipped-nw::after{right:50%;bottom:100%;margin-bottom:6px;}/*!sc*/
.fiSvBN.tooltipped-ne::after{right:auto;left:50%;margin-left:-16px;}/*!sc*/
.fiSvBN.tooltipped-nw::after{margin-right:-16px;}/*!sc*/
.fiSvBN.tooltipped-s::after,.fiSvBN.tooltipped-n::after{-webkit-transform:translateX(50%);-ms-transform:translateX(50%);transform:translateX(50%);}/*!sc*/
.fiSvBN.tooltipped-w::after{right:100%;bottom:50%;margin-right:6px;-webkit-transform:translateY(50%);-ms-transform:translateY(50%);transform:translateY(50%);}/*!sc*/
.fiSvBN.tooltipped-e::after{bottom:50%;left:100%;margin-left:6px;-webkit-transform:translateY(50%);-ms-transform:translateY(50%);transform:translateY(50%);}/*!sc*/
.fiSvBN.tooltipped-multiline::after{width:-webkit-max-content;width:-moz-max-content;width:max-content;max-width:250px;word-wrap:break-word;white-space:pre-line;border-collapse:separate;}/*!sc*/
.fiSvBN.tooltipped-multiline.tooltipped-s::after,.fiSvBN.tooltipped-multiline.tooltipped-n::after{right:auto;left:50%;-webkit-transform:translateX(-50%);-ms-transform:translateX(-50%);transform:translateX(-50%);}/*!sc*/
.fiSvBN.tooltipped-multiline.tooltipped-w::after,.fiSvBN.tooltipped-multiline.tooltipped-e::after{right:100%;}/*!sc*/
.fiSvBN.tooltipped-align-right-2::after{right:0;margin-right:0;}/*!sc*/
.fiSvBN.tooltipped-align-left-2::after{left:0;margin-left:0;}/*!sc*/
data-styled.g18[id="Tooltip__TooltipBase-sc-17tf59c-0"]{content:"fiSvBN,"}/*!sc*/
.eAtkQz{display:inline-block;overflow:hidden;text-overflow:ellipsis;vertical-align:top;white-space:nowrap;max-width:125px;max-width:100%;}/*!sc*/
data-styled.g20[id="Truncate__StyledTruncate-sc-23o1d2-0"]{content:"eAtkQz,"}/*!sc*/
.dPDqJE{--segmented-control-button-inner-padding:12px;--segmented-control-button-bg-inset:4px;--segmented-control-outer-radius:6px;background-color:transparent;border-color:transparent;border-radius:var(--segmented-control-outer-radius);border-width:0;color:currentColor;cursor:pointer;font-family:inherit;font-size:inherit;font-weight:600;padding:0;height:100%;width:100%;}/*!sc*/
.dPDqJE:focus:not(:disabled){box-shadow:none;outline:2px solid var(--fgColor-accent,var(--color-accent-fg,#2f81f7));outline-offset:-1px;}/*!sc*/
.dPDqJE:focus:not(:disabled):not(:focus-visible){outline:solid 1px transparent;}/*!sc*/
.dPDqJE:focus-visible:not(:disabled){box-shadow:none;outline:2px solid var(--fgColor-accent,var(--color-accent-fg,#2f81f7));outline-offset:-1px;}/*!sc*/
.dPDqJE .segmentedControl-content{-webkit-align-items:center;-webkit-box-align:center;-ms-flex-align:center;align-items:center;background-color:var(--controlKnob-bgColor-rest,var(--color-segmented-control-button-bg,#0d1117));border-color:var(--controlKnob-borderColor-rest,var(--color-segmented-control-button-selected-border,#6e7681));border-style:solid;border-width:1px;border-radius:var(--segmented-control-outer-radius);display:-webkit-box;display:-webkit-flex;display:-ms-flexbox;display:flex;height:100%;-webkit-box-pack:center;-webkit-justify-content:center;-ms-flex-pack:center;justify-content:center;padding-left:var(--segmented-control-button-inner-padding);padding-right:var(--segmented-control-button-inner-padding);}/*!sc*/
.dPDqJE svg{fill:var(--fgColor-muted,var(--color-fg-muted,#848d97));}/*!sc*/
.dPDqJE:focus:focus-visible:not(:last-child):after{width:0;}/*!sc*/
.dPDqJE .segmentedControl-text:after{content:"Preview";display:block;font-weight:600;height:0;overflow:hidden;pointer-events:none;-webkit-user-select:none;-moz-user-select:none;-ms-user-select:none;user-select:none;visibility:hidden;}/*!sc*/
@media (pointer:coarse){.dPDqJE:before{content:"";position:absolute;left:0;right:0;-webkit-transform:translateY(-50%);-ms-transform:translateY(-50%);transform:translateY(-50%);top:50%;min-height:44px;}}/*!sc*/
.kTvXLQ{--segmented-control-button-inner-padding:12px;--segmented-control-button-bg-inset:4px;--segmented-control-outer-radius:6px;background-color:transparent;border-color:transparent;border-radius:var(--segmented-control-outer-radius);border-width:0;color:currentColor;cursor:pointer;font-family:inherit;font-size:inherit;font-weight:400;padding:var(--segmented-control-button-bg-inset);height:100%;width:100%;}/*!sc*/
.kTvXLQ:focus:not(:disabled){box-shadow:none;outline:2px solid var(--fgColor-accent,var(--color-accent-fg,#2f81f7));outline-offset:-1px;}/*!sc*/
.kTvXLQ:focus:not(:disabled):not(:focus-visible){outline:solid 1px transparent;}/*!sc*/
.kTvXLQ:focus-visible:not(:disabled){box-shadow:none;outline:2px solid var(--fgColor-accent,var(--color-accent-fg,#2f81f7));outline-offset:-1px;}/*!sc*/
.kTvXLQ .segmentedControl-content{-webkit-align-items:center;-webkit-box-align:center;-ms-flex-align:center;align-items:center;background-color:transparent;border-color:transparent;border-style:solid;border-width:1px;border-radius:calc(var(--segmented-control-outer-radius) - var(--segmented-control-button-bg-inset) / 2);display:-webkit-box;display:-webkit-flex;display:-ms-flexbox;display:flex;height:100%;-webkit-box-pack:center;-webkit-justify-content:center;-ms-flex-pack:center;justify-content:center;padding-left:calc(var(--segmented-control-button-inner-padding) - var(--segmented-control-button-bg-inset));padding-right:calc(var(--segmented-control-button-inner-padding) - var(--segmented-control-button-bg-inset));}/*!sc*/
.kTvXLQ svg{fill:var(--fgColor-muted,var(--color-fg-muted,#848d97));}/*!sc*/
.kTvXLQ:hover .segmentedControl-content{background-color:var(--controlTrack-bgColor-hover,var(--color-segmented-control-button-hover-bg,#30363d));}/*!sc*/
.kTvXLQ:active .segmentedControl-content{background-color:var(--controlTrack-bgColor-active,var(--color-segmented-control-button-active-bg,#21262d));}/*!sc*/
.kTvXLQ:focus:focus-visible:not(:last-child):after{width:0;}/*!sc*/
.kTvXLQ .segmentedControl-text:after{content:"Code";display:block;font-weight:600;height:0;overflow:hidden;pointer-events:none;-webkit-user-select:none;-moz-user-select:none;-ms-user-select:none;user-select:none;visibility:hidden;}/*!sc*/
@media (pointer:coarse){.kTvXLQ:before{content:"";position:absolute;left:0;right:0;-webkit-transform:translateY(-50%);-ms-transform:translateY(-50%);transform:translateY(-50%);top:50%;min-height:44px;}}/*!sc*/
.gKyOFO{--segmented-control-button-inner-padding:12px;--segmented-control-button-bg-inset:4px;--segmented-control-outer-radius:6px;background-color:transparent;border-color:transparent;border-radius:var(--segmented-control-outer-radius);border-width:0;color:currentColor;cursor:pointer;font-family:inherit;font-size:inherit;font-weight:400;padding:var(--segmented-control-button-bg-inset);height:100%;width:100%;}/*!sc*/
.gKyOFO:focus:not(:disabled){box-shadow:none;outline:2px solid var(--fgColor-accent,var(--color-accent-fg,#2f81f7));outline-offset:-1px;}/*!sc*/
.gKyOFO:focus:not(:disabled):not(:focus-visible){outline:solid 1px transparent;}/*!sc*/
.gKyOFO:focus-visible:not(:disabled){box-shadow:none;outline:2px solid var(--fgColor-accent,var(--color-accent-fg,#2f81f7));outline-offset:-1px;}/*!sc*/
.gKyOFO .segmentedControl-content{-webkit-align-items:center;-webkit-box-align:center;-ms-flex-align:center;align-items:center;background-color:transparent;border-color:transparent;border-style:solid;border-width:1px;border-radius:calc(var(--segmented-control-outer-radius) - var(--segmented-control-button-bg-inset) / 2);display:-webkit-box;display:-webkit-flex;display:-ms-flexbox;display:flex;height:100%;-webkit-box-pack:center;-webkit-justify-content:center;-ms-flex-pack:center;justify-content:center;padding-left:calc(var(--segmented-control-button-inner-padding) - var(--segmented-control-button-bg-inset));padding-right:calc(var(--segmented-control-button-inner-padding) - var(--segmented-control-button-bg-inset));}/*!sc*/
.gKyOFO svg{fill:var(--fgColor-muted,var(--color-fg-muted,#848d97));}/*!sc*/
.gKyOFO:hover .segmentedControl-content{background-color:var(--controlTrack-bgColor-hover,var(--color-segmented-control-button-hover-bg,#30363d));}/*!sc*/
.gKyOFO:active .segmentedControl-content{background-color:var(--controlTrack-bgColor-active,var(--color-segmented-control-button-active-bg,#21262d));}/*!sc*/
.gKyOFO:focus:focus-visible:not(:last-child):after{width:0;}/*!sc*/
.gKyOFO .segmentedControl-text:after{content:"Blame";display:block;font-weight:600;height:0;overflow:hidden;pointer-events:none;-webkit-user-select:none;-moz-user-select:none;-ms-user-select:none;user-select:none;visibility:hidden;}/*!sc*/
@media (pointer:coarse){.gKyOFO:before{content:"";position:absolute;left:0;right:0;-webkit-transform:translateY(-50%);-ms-transform:translateY(-50%);transform:translateY(-50%);top:50%;min-height:44px;}}/*!sc*/
data-styled.g104[id="SegmentedControlButton__SegmentedControlButtonStyled-sc-8lkgxl-0"]{content:"dPDqJE,kTvXLQ,gKyOFO,"}/*!sc*/
.eYPFoP{background-color:var(--controlTrack-bgColor-rest,var(--color-segmented-control-bg,rgba(110,118,129,0.1)));border-radius:6px;border:1px solid;border-color:var(--controlTrack-borderColor-rest,transparent);display:-webkit-inline-box;display:-webkit-inline-flex;display:-ms-inline-flexbox;display:inline-flex;font-size:14px;height:28px;margin:0;padding:0;}/*!sc*/
data-styled.g106[id="SegmentedControl__SegmentedControlList-sc-1rzig82-0"]{content:"eYPFoP,"}/*!sc*/
body[data-page-layout-dragging="true"]{cursor:col-resize;}/*!sc*/
body[data-page-layout-dragging="true"] *{-webkit-user-select:none;-moz-user-select:none;-ms-user-select:none;user-select:none;}/*!sc*/
data-styled.g107[id="sc-global-gbKrvU1"]{content:"sc-global-gbKrvU1,"}/*!sc*/
.cJWUiG{list-style:none;padding:0;margin:0;}/*!sc*/
.cJWUiG .PRIVATE_TreeView-item{outline:none;}/*!sc*/
.cJWUiG .PRIVATE_TreeView-item:focus-visible > div,.cJWUiG .PRIVATE_TreeView-item.focus-visible > div{box-shadow:inset 0 0 0 2px var(--fgColor-accent,var(--color-accent-fg,#2f81f7));}/*!sc*/
@media (forced-colors:active){.cJWUiG .PRIVATE_TreeView-item:focus-visible > div,.cJWUiG .PRIVATE_TreeView-item.focus-visible > div{outline:2px solid HighlightText;outline-offset:-2;}}/*!sc*/
.cJWUiG .PRIVATE_TreeView-item[data-has-leading-action]{--has-leading-action:1;}/*!sc*/
.cJWUiG .PRIVATE_TreeView-item-container{--level:1;--toggle-width:1rem;--min-item-height:2rem;position:relative;display:grid;--leading-action-width:calc(var(--has-leading-action,0) * 1.5rem);--spacer-width:calc(calc(var(--level) - 1) * (var(--toggle-width) / 2));grid-template-columns:var(--spacer-width) var(--leading-action-width) var(--toggle-width) 1fr;grid-template-areas:'spacer leadingAction toggle content';width:100%;font-size:14px;color:var(--fgColor-default,var(--color-fg-default,#e6edf3));border-radius:6px;cursor:pointer;}/*!sc*/
.cJWUiG .PRIVATE_TreeView-item-container:hover{background-color:var(--control-transparent-bgColor-hover,var(--color-action-list-item-default-hover-bg,rgba(177,186,196,0.12)));}/*!sc*/
@media (forced-colors:active){.cJWUiG .PRIVATE_TreeView-item-container:hover{outline:2px solid transparent;outline-offset:-2px;}}/*!sc*/
@media (pointer:coarse){.cJWUiG .PRIVATE_TreeView-item-container{--toggle-width:1.5rem;--min-item-height:2.75rem;}}/*!sc*/
.cJWUiG .PRIVATE_TreeView-item-container:has(.PRIVATE_TreeView-item-skeleton):hover{background-color:transparent;cursor:default;}/*!sc*/
@media (forced-colors:active){.cJWUiG .PRIVATE_TreeView-item-container:has(.PRIVATE_TreeView-item-skeleton):hover{outline:none;}}/*!sc*/
.cJWUiG[data-omit-spacer='true'] .PRIVATE_TreeView-item-container{grid-template-columns:0 0 0 1fr;}/*!sc*/
.cJWUiG .PRIVATE_TreeView-item[aria-current='true'] > .PRIVATE_TreeView-item-container{background-color:var(--control-transparent-bgColor-selected,var(--color-action-list-item-default-selected-bg,rgba(177,186,196,0.08)));}/*!sc*/
.cJWUiG .PRIVATE_TreeView-item[aria-current='true'] > .PRIVATE_TreeView-item-container::after{content:'';position:absolute;top:calc(50% - 0.75rem);left:-8px;width:0.25rem;height:1.5rem;background-color:var(--fgColor-accent,var(--color-accent-fg,#2f81f7));border-radius:6px;}/*!sc*/
@media (forced-colors:active){.cJWUiG .PRIVATE_TreeView-item[aria-current='true'] > .PRIVATE_TreeView-item-container::after{background-color:HighlightText;}}/*!sc*/
.cJWUiG .PRIVATE_TreeView-item-toggle{grid-area:toggle;display:-webkit-box;display:-webkit-flex;display:-ms-flexbox;display:flex;-webkit-box-pack:center;-webkit-justify-content:center;-ms-flex-pack:center;justify-content:center;-webkit-align-items:flex-start;-webkit-box-align:flex-start;-ms-flex-align:flex-start;align-items:flex-start;padding-top:calc(var(--min-item-height) / 2 - 12px / 2);height:100%;color:var(--fgColor-muted,var(--color-fg-muted,#848d97));}/*!sc*/
.cJWUiG .PRIVATE_TreeView-item-toggle--hover:hover{background-color:var(--control-transparent-bgColor-hover,var(--color-tree-view-item-chevron-hover-bg,rgba(177,186,196,0.12)));}/*!sc*/
.cJWUiG .PRIVATE_TreeView-item-toggle--end{border-top-left-radius:6px;border-bottom-left-radius:6px;}/*!sc*/
.cJWUiG .PRIVATE_TreeView-item-content{grid-area:content;display:-webkit-box;display:-webkit-flex;display:-ms-flexbox;display:flex;height:100%;padding:0 8px;gap:8px;line-height:var(--custom-line-height,var(--text-body-lineHeight-medium,1.4285));padding-top:calc((var(--min-item-height) - var(--custom-line-height,1.3rem)) / 2);padding-bottom:calc((var(--min-item-height) - var(--custom-line-height,1.3rem)) / 2);}/*!sc*/
.cJWUiG .PRIVATE_TreeView-item-content-text{-webkit-flex:1 1 auto;-ms-flex:1 1 auto;flex:1 1 auto;width:0;}/*!sc*/
.cJWUiG[data-truncate-text='true'] .PRIVATE_TreeView-item-content-text{overflow:hidden;white-space:nowrap;text-overflow:ellipsis;}/*!sc*/
.cJWUiG[data-truncate-text='false'] .PRIVATE_TreeView-item-content-text{word-break:break-word;}/*!sc*/
.cJWUiG .PRIVATE_TreeView-item-visual{display:-webkit-box;display:-webkit-flex;display:-ms-flexbox;display:flex;-webkit-align-items:center;-webkit-box-align:center;-ms-flex-align:center;align-items:center;color:var(--fgColor-muted,var(--color-fg-muted,#848d97));height:var(--custom-line-height,1.3rem);}/*!sc*/
.cJWUiG .PRIVATE_TreeView-item-leading-action{display:-webkit-box;display:-webkit-flex;display:-ms-flexbox;display:flex;color:var(--fgColor-muted,var(--color-fg-muted,#848d97));grid-area:leadingAction;}/*!sc*/
.cJWUiG .PRIVATE_TreeView-item-level-line{width:100%;height:100%;border-right:1px solid;border-color:var(--borderColor-muted,var(--color-border-subtle,rgba(240,246,252,0.1)));}/*!sc*/
@media (hover:hover){.cJWUiG .PRIVATE_TreeView-item-level-line{border-color:transparent;}.cJWUiG:hover .PRIVATE_TreeView-item-level-line,.cJWUiG:focus-within .PRIVATE_TreeView-item-level-line{border-color:var(--borderColor-muted,var(--color-border-subtle,rgba(240,246,252,0.1)));}}/*!sc*/
.cJWUiG .PRIVATE_TreeView-directory-icon{display:grid;color:var(--treeViewItem-leadingVisual-iconColor-rest,var(--color-tree-view-item-directory-fill,#848d97));}/*!sc*/
.cJWUiG .PRIVATE_VisuallyHidden{position:absolute;width:1px;height:1px;padding:0;margin:-1px;overflow:hidden;-webkit-clip:rect(0,0,0,0);clip:rect(0,0,0,0);white-space:nowrap;border-width:0;}/*!sc*/
data-styled.g114[id="TreeView__UlBox-sc-4ex6b6-0"]{content:"cJWUiG,"}/*!sc*/
</style><meta data-hydrostats="publish"/> <!-- --> <!-- --> <button hidden="" data-testid="header-permalink-button" data-hotkey-scope="read-only-cursor-text-area"></button><button hidden=""></button><div><div style="--sticky-pane-height:100vh;--spacing:var(--spacing-none)" class="Box-sc-g0xbh4-0 hOfjFo"><div class="Box-sc-g0xbh4-0 oDGAe"><div class="Box-sc-g0xbh4-0 kowOcT"><div tabindex="0" class="Box-sc-g0xbh4-0 gISSDQ"><div class="Box-sc-g0xbh4-0 cMnVPV"><div class="Box-sc-g0xbh4-0 hPvFuC"></div><div style="--pane-width:320px" class="Box-sc-g0xbh4-0 fFSoPl"><div class="react-tree-pane-contents"><div id="repos-file-tree" class="Box-sc-g0xbh4-0 birIjn"><div class="Box-sc-g0xbh4-0 hNNCwk"><div class="Box-sc-g0xbh4-0 jfIeyl"><h2 class="Box-sc-g0xbh4-0 XosP prc-Heading-Heading-6CmGO"><button style="--button-color:fg.muted" type="button" aria-label="Expand file tree" data-testid="expand-file-tree-button-mobile" class="Box-sc-g0xbh4-0 hMLRgO prc-Button-ButtonBase-c50BI" data-loading="false" data-size="medium" data-variant="invisible" aria-describedby=":Rl6mplab:-loading-announcement"><span data-component="buttonContent" class="Box-sc-g0xbh4-0 gUkoLg prc-Button-ButtonContent-HKbr-"><span data-component="leadingVisual" class="prc-Button-Visual-2epfX prc-Button-VisualWrap-Db-eB"><svg aria-hidden="true" focusable="false" class="octicon octicon-arrow-left" viewBox="0 0 16 16" width="16" height="16" fill="currentColor" style="display:inline-block;user-select:none;vertical-align:text-bottom;overflow:visible"><path d="M7.78 12.53a.75.75 0 0 1-1.06 0L2.47 8.28a.75.75 0 0 1 0-1.06l4.25-4.25a.751.751 0 0 1 1.042.018.751.751 0 0 1 .018 1.042L4.81 7h7.44a.75.75 0 0 1 0 1.5H4.81l2.97 2.97a.75.75 0 0 1 0 1.06Z"></path></svg></span><span data-component="text" class="prc-Button-Label-pTQ3x">Files</span></span></button><span role="tooltip" aria-label="Collapse file tree" id="expand-button-file-tree-button" class="Tooltip__TooltipBase-sc-17tf59c-0 fiSvBN tooltipped-se"><button data-component="IconButton" type="button" data-testid="collapse-file-tree-button" aria-expanded="true" aria-controls="repos-file-tree" class="prc-Button-ButtonBase-c50BI position-relative ExpandFileTreeButton-module__expandButton--gL4is ExpandFileTreeButton-module__filesButtonBreakpoint--WfX9t fgColor-muted prc-Button-IconButton-szpyj" data-loading="false" data-no-visuals="true" data-size="medium" data-variant="invisible" aria-describedby=":R356mplab:-loading-announcement" aria-labelledby="expand-button-file-tree-button"><svg aria-hidden="true" focusable="false" class="octicon octicon-sidebar-expand" viewBox="0 0 16 16" width="16" height="16" fill="currentColor" style="display:inline-block;user-select:none;vertical-align:text-bottom;overflow:visible"><path d="m4.177 7.823 2.396-2.396A.25.25 0 0 1 7 5.604v4.792a.25.25 0 0 1-.427.177L4.177 8.177a.25.25 0 0 1 0-.354Z"></path><path d="M0 1.75C0 .784.784 0 1.75 0h12.5C15.216 0 16 .784 16 1.75v12.5A1.75 1.75 0 0 1 14.25 16H1.75A1.75 1.75 0 0 1 0 14.25Zm1.75-.25a.25.25 0 0 0-.25.25v12.5c0 .138.112.25.25.25H9.5v-13Zm12.5 13a.25.25 0 0 0 .25-.25V1.75a.25.25 0 0 0-.25-.25H11v13Z"></path></svg></button></span><button hidden="" data-testid="" data-hotkey-scope="read-only-cursor-text-area"></button></h2><h2 class="Box-sc-g0xbh4-0 kOkWgo prc-Heading-Heading-6CmGO">Files</h2></div><div class="Box-sc-g0xbh4-0 lhbroM"><div class="Box-sc-g0xbh4-0 khzwtX"><button type="button" aria-haspopup="true" aria-expanded="false" tabindex="0" aria-label="main branch" data-testid="anchor-button" class="Box-sc-g0xbh4-0 JMXqM prc-Button-ButtonBase-c50BI react-repos-tree-pane-ref-selector width-full ref-selector-class" data-loading="false" data-size="medium" data-variant="default" aria-describedby="branch-picker-repos-header-ref-selector-loading-announcement" id="branch-picker-repos-header-ref-selector"><span data-component="buttonContent" class="Box-sc-g0xbh4-0 gUkoLg prc-Button-ButtonContent-HKbr-"><span data-component="text" class="prc-Button-Label-pTQ3x"><div class="Box-sc-g0xbh4-0 bZBlpz"><div class="Box-sc-g0xbh4-0 bJjzmO"><svg aria-hidden="true" focusable="false" class="octicon octicon-git-branch" viewBox="0 0 16 16" width="16" height="16" fill="currentColor" style="display:inline-block;user-select:none;vertical-align:text-bottom;overflow:visible"><path d="M9.5 3.25a2.25 2.25 0 1 1 3 2.122V6A2.5 2.5 0 0 1 10 8.5H6a1 1 0 0 0-1 1v1.128a2.251 2.251 0 1 1-1.5 0V5.372a2.25 2.25 0 1 1 1.5 0v1.836A2.493 2.493 0 0 1 6 7h4a1 1 0 0 0 1-1v-.628A2.25 2.25 0 0 1 9.5 3.25Zm-6 0a.75.75 0 1 0 1.5 0 .75.75 0 0 0-1.5 0Zm8.25-.75a.75.75 0 1 0 0 1.5.75.75 0 0 0 0-1.5ZM4.25 12a.75.75 0 1 0 0 1.5.75.75 0 0 0 0-1.5Z"></path></svg></div><div class="Box-sc-g0xbh4-0 ffLUq ref-selector-button-text-container"><span class="Box-sc-g0xbh4-0 bmcJak prc-Text-Text-0ima0"> <!-- -->main</span></div></div></span><span data-component="trailingVisual" class="prc-Button-Visual-2epfX prc-Button-VisualWrap-Db-eB"><svg aria-hidden="true" focusable="false" class="octicon octicon-triangle-down" viewBox="0 0 16 16" width="16" height="16" fill="currentColor" style="display:inline-block;user-select:none;vertical-align:text-bottom;overflow:visible"><path d="m4.427 7.427 3.396 3.396a.25.25 0 0 0 .354 0l3.396-3.396A.25.25 0 0 0 11.396 7H4.604a.25.25 0 0 0-.177.427Z"></path></svg></span></span></button><button hidden="" data-hotkey-scope="read-only-cursor-text-area"></button></div><div class="Box-sc-g0xbh4-0 eTeVqd"><a sx="[object Object]" data-component="IconButton" type="button" aria-label="Add file" class="Box-sc-g0xbh4-0 jNHrPP prc-Button-ButtonBase-c50BI prc-Button-IconButton-szpyj" data-loading="false" data-no-visuals="true" data-size="medium" data-variant="default" aria-describedby=":R6q6mplab:-loading-announcement :Rq6mplab:" href="/ronakkjain77/Stock-Price-Prediction/new/main"><svg aria-hidden="true" focusable="false" class="octicon octicon-plus" viewBox="0 0 16 16" width="16" height="16" fill="currentColor" style="display:inline-block;user-select:none;vertical-align:text-bottom;overflow:visible"><path d="M7.75 2a.75.75 0 0 1 .75.75V7h4.25a.75.75 0 0 1 0 1.5H8.5v4.25a.75.75 0 0 1-1.5 0V8.5H2.75a.75.75 0 0 1 0-1.5H7V2.75A.75.75 0 0 1 7.75 2Z"></path></svg></a><span class="Tooltip__StyledTooltip-sc-e45c7z-0 fLAhLl" data-direction="s" aria-label="Add file" role="tooltip" aria-hidden="true" id=":Rq6mplab:">Add file</span><button data-component="IconButton" type="button" aria-label="Search this repository" class="Box-sc-g0xbh4-0 ijefGF prc-Button-ButtonBase-c50BI prc-Button-IconButton-szpyj" data-loading="false" data-no-visuals="true" data-size="medium" data-variant="default" aria-describedby=":R3a6mplab:-loading-announcement"><svg aria-hidden="true" focusable="false" class="octicon octicon-search" viewBox="0 0 16 16" width="16" height="16" fill="currentColor" style="display:inline-block;user-select:none;vertical-align:text-bottom;overflow:visible"><path d="M10.68 11.74a6 6 0 0 1-7.922-8.982 6 6 0 0 1 8.982 7.922l3.04 3.04a.749.749 0 0 1-.326 1.275.749.749 0 0 1-.734-.215ZM11.5 7a4.499 4.499 0 1 0-8.997 0A4.499 4.499 0 0 0 11.5 7Z"></path></svg></button><button hidden="" data-testid="" data-hotkey-scope="read-only-cursor-text-area"></button></div></div></div><div class="Box-sc-g0xbh4-0 ftzGWg"><span class="TextInputWrapper__StyledTextInputBaseWrapper-sc-1mqhpbi-0 bclhiL TextInputWrapper__StyledTextInputWrapper-sc-1mqhpbi-1 jpROxA TextInput-wrapper" data-leading-visual="true" data-trailing-visual="true" aria-busy="false"><span class="TextInput-icon" id=":R5amplab:" aria-hidden="true"><svg aria-hidden="true" focusable="false" class="octicon octicon-search" viewBox="0 0 16 16" width="16" height="16" fill="currentColor" style="display:inline-block;user-select:none;vertical-align:text-bottom;overflow:visible"><path d="M10.68 11.74a6 6 0 0 1-7.922-8.982 6 6 0 0 1 8.982 7.922l3.04 3.04a.749.749 0 0 1-.326 1.275.749.749 0 0 1-.734-.215ZM11.5 7a4.499 4.499 0 1 0-8.997 0A4.499 4.499 0 0 0 11.5 7Z"></path></svg></span><input type="text" aria-label="Go to file" role="combobox" aria-controls="file-results-list" aria-expanded="false" aria-haspopup="dialog" autoCorrect="off" spellcheck="false" placeholder="Go to file" aria-describedby=":R5amplab: :R5amplabH1:" data-component="input" class="UnstyledTextInput__ToggledUnstyledTextInput-sc-14ypya-0 jkNcAv" value=""/><span class="TextInput-icon" id=":R5amplabH1:" aria-hidden="true"><div class="Box-sc-g0xbh4-0 dItACB"><kbd>t</kbd></div></span></span></div><button hidden="" data-testid="" data-hotkey-scope="read-only-cursor-text-area"></button><button hidden=""></button><div class="Box-sc-g0xbh4-0 gjtfVk"><div class="react-tree-show-tree-items"><div data-testid="repos-file-tree-container" class="Box-sc-g0xbh4-0 cOxzdh"><nav aria-label="File Tree Navigation"><span role="status" aria-live="polite" aria-atomic="true" class="_VisuallyHidden__VisuallyHidden-sc-11jhm7a-0 brGdpi"></span><ul role="tree" aria-label="Files" data-truncate-text="true" class="TreeView__UlBox-sc-4ex6b6-0 cJWUiG"><li class="PRIVATE_TreeView-item" tabindex="0" id="README.md-item" role="treeitem" aria-labelledby=":R39implab:" aria-describedby=":R39implabH1:" aria-level="1" aria-selected="false"><div class="PRIVATE_TreeView-item-container" style="--level:1;content-visibility:auto;contain-intrinsic-size:auto 2rem"><div style="grid-area:spacer;display:flex"><div style="width:100%;display:flex"></div></div><div id=":R39implab:" class="PRIVATE_TreeView-item-content"><div class="PRIVATE_VisuallyHidden" aria-hidden="true" id=":R39implabH1:"></div><div class="PRIVATE_TreeView-item-visual" aria-hidden="true"><svg aria-hidden="true" focusable="false" class="octicon octicon-file" viewBox="0 0 16 16" width="16" height="16" fill="currentColor" style="display:inline-block;user-select:none;vertical-align:text-bottom;overflow:visible"><path d="M2 1.75C2 .784 2.784 0 3.75 0h6.586c.464 0 .909.184 1.237.513l2.914 2.914c.329.328.513.773.513 1.237v9.586A1.75 1.75 0 0 1 13.25 16h-9.5A1.75 1.75 0 0 1 2 14.25Zm1.75-.25a.25.25 0 0 0-.25.25v12.5c0 .138.112.25.25.25h9.5a.25.25 0 0 0 .25-.25V6h-2.75A1.75 1.75 0 0 1 9 4.25V1.5Zm6.75.062V4.25c0 .138.112.25.25.25h2.688l-.011-.013-2.914-2.914-.013-.011Z"></path></svg></div><span class="PRIVATE_TreeView-item-content-text"><span>README.md</span></span></div></div></li><li class="PRIVATE_TreeView-item" tabindex="0" id="stock price prediction.ipynb-item" role="treeitem" aria-labelledby=":R59implab:" aria-describedby=":R59implabH1:" aria-level="1" aria-current="true" aria-selected="false"><div class="PRIVATE_TreeView-item-container" style="--level:1"><div style="grid-area:spacer;display:flex"><div style="width:100%;display:flex"></div></div><div id=":R59implab:" class="PRIVATE_TreeView-item-content"><div class="PRIVATE_VisuallyHidden" aria-hidden="true" id=":R59implabH1:"></div><div class="PRIVATE_TreeView-item-visual" aria-hidden="true"><svg aria-hidden="true" focusable="false" class="octicon octicon-file" viewBox="0 0 16 16" width="16" height="16" fill="currentColor" style="display:inline-block;user-select:none;vertical-align:text-bottom;overflow:visible"><path d="M2 1.75C2 .784 2.784 0 3.75 0h6.586c.464 0 .909.184 1.237.513l2.914 2.914c.329.328.513.773.513 1.237v9.586A1.75 1.75 0 0 1 13.25 16h-9.5A1.75 1.75 0 0 1 2 14.25Zm1.75-.25a.25.25 0 0 0-.25.25v12.5c0 .138.112.25.25.25h9.5a.25.25 0 0 0 .25-.25V6h-2.75A1.75 1.75 0 0 1 9 4.25V1.5Zm6.75.062V4.25c0 .138.112.25.25.25h2.688l-.011-.013-2.914-2.914-.013-.011Z"></path></svg></div><span class="PRIVATE_TreeView-item-content-text"><span>stock price prediction.ipynb</span></span></div></div></li></ul></nav></div></div></div></div></div></div><div class="Box-sc-g0xbh4-0 bTBnTW"><div role="slider" aria-label="Draggable pane splitter" aria-valuemin="0" aria-valuemax="0" aria-valuenow="0" aria-valuetext="Pane width 0 pixels" tabindex="0" class="Box-sc-g0xbh4-0 fFMzrG"></div></div></div></div><div class="Box-sc-g0xbh4-0 iKqMNA"><div class="Box-sc-g0xbh4-0"></div><div class="Box-sc-g0xbh4-0 FxAyp"><div data-selector="repos-split-pane-content" tabindex="0" class="Box-sc-g0xbh4-0 leYMvG"><div class="Box-sc-g0xbh4-0 KMPzq"><div class="Box-sc-g0xbh4-0 hfKjHv container"><div class="px-3 pt-3 pb-0" id="StickyHeader"><div class="Box-sc-g0xbh4-0 gZWyZE"><div class="Box-sc-g0xbh4-0 dwYKDk"><div class="Box-sc-g0xbh4-0 iDtIiT"><div class="Box-sc-g0xbh4-0 cEytCf"><nav data-testid="breadcrumbs" aria-labelledby="repos-header-breadcrumb--wide-heading" id="repos-header-breadcrumb--wide" class="Box-sc-g0xbh4-0 fzFXnm"><h2 class="sr-only prc-Heading-Heading-6CmGO" data-testid="screen-reader-heading" id="repos-header-breadcrumb--wide-heading">Breadcrumbs</h2><ol class="Box-sc-g0xbh4-0 iMnkmv"><li class="Box-sc-g0xbh4-0 ghzDag"><a class="Box-sc-g0xbh4-0 kHuKdh prc-Link-Link-85e08" sx="[object Object]" data-testid="breadcrumbs-repo-link" href="/ronakkjain77/Stock-Price-Prediction/tree/main">Stock-Price-Prediction</a></li></ol></nav><div data-testid="breadcrumbs-filename" class="Box-sc-g0xbh4-0 ghzDag"><span class="Box-sc-g0xbh4-0 hXyrdx prc-Text-Text-0ima0" aria-hidden="true">/</span><h1 class="Box-sc-g0xbh4-0 jGhzSQ prc-Heading-Heading-6CmGO" tabindex="-1" id="file-name-id-wide">stock price prediction.ipynb</h1></div><div aria-describedby=":Rdd9lab:"><button data-component="IconButton" type="button" aria-label="Copy path" tabindex="0" class="Box-sc-g0xbh4-0 prc-Button-ButtonBase-c50BI prc-Button-IconButton-szpyj" data-loading="false" data-no-visuals="true" data-size="small" data-variant="invisible" aria-describedby=":R1td9lab:-loading-announcement"><svg aria-hidden="true" focusable="false" class="octicon octicon-copy" viewBox="0 0 16 16" width="16" height="16" fill="currentColor" style="display:inline-block;user-select:none;vertical-align:text-bottom;overflow:visible"><path d="M0 6.75C0 5.784.784 5 1.75 5h1.5a.75.75 0 0 1 0 1.5h-1.5a.25.25 0 0 0-.25.25v7.5c0 .138.112.25.25.25h7.5a.25.25 0 0 0 .25-.25v-1.5a.75.75 0 0 1 1.5 0v1.5A1.75 1.75 0 0 1 9.25 16h-7.5A1.75 1.75 0 0 1 0 14.25Z"></path><path d="M5 1.75C5 .784 5.784 0 6.75 0h7.5C15.216 0 16 .784 16 1.75v7.5A1.75 1.75 0 0 1 14.25 11h-7.5A1.75 1.75 0 0 1 5 9.25Zm1.75-.25a.25.25 0 0 0-.25.25v7.5c0 .138.112.25.25.25h7.5a.25.25 0 0 0 .25-.25v-7.5a.25.25 0 0 0-.25-.25Z"></path></svg></button></div></div></div><div class="react-code-view-header-element--wide"><div class="Box-sc-g0xbh4-0 faNtbn"><div class="d-flex gap-2"> <button type="button" class="Box-sc-g0xbh4-0 dwNhzn prc-Button-ButtonBase-c50BI" data-loading="false" data-no-visuals="true" data-size="medium" data-variant="default" aria-describedby=":R2l6d9lab:-loading-announcement"><span data-component="buttonContent" class="Box-sc-g0xbh4-0 gUkoLg prc-Button-ButtonContent-HKbr-"><span data-component="text" class="prc-Button-Label-pTQ3x">Blame</span></span></button><button hidden="" data-testid="" data-hotkey-scope="read-only-cursor-text-area"></button><button data-component="IconButton" type="button" aria-label="More file actions" title="More file actions" data-testid="more-file-actions-button-nav-menu-wide" aria-haspopup="true" aria-expanded="false" tabindex="0" class="Box-sc-g0xbh4-0 kVRliy prc-Button-ButtonBase-c50BI js-blob-dropdown-click prc-Button-IconButton-szpyj" data-loading="false" data-no-visuals="true" data-size="medium" data-variant="default" aria-describedby=":R156d9lab:-loading-announcement" id=":R156d9lab:"><svg aria-hidden="true" focusable="false" class="octicon octicon-kebab-horizontal" viewBox="0 0 16 16" width="16" height="16" fill="currentColor" style="display:inline-block;user-select:none;vertical-align:text-bottom;overflow:visible"><path d="M8 9a1.5 1.5 0 1 0 0-3 1.5 1.5 0 0 0 0 3ZM1.5 9a1.5 1.5 0 1 0 0-3 1.5 1.5 0 0 0 0 3Zm13 0a1.5 1.5 0 1 0 0-3 1.5 1.5 0 0 0 0 3Z"></path></svg></button> </div></div></div><div class="react-code-view-header-element--narrow"><div class="Box-sc-g0xbh4-0 faNtbn"><div class="d-flex gap-2"> <button type="button" class="Box-sc-g0xbh4-0 dwNhzn prc-Button-ButtonBase-c50BI" data-loading="false" data-no-visuals="true" data-size="medium" data-variant="default" aria-describedby=":R2l7d9lab:-loading-announcement"><span data-component="buttonContent" class="Box-sc-g0xbh4-0 gUkoLg prc-Button-ButtonContent-HKbr-"><span data-component="text" class="prc-Button-Label-pTQ3x">Blame</span></span></button><button hidden="" data-testid="" data-hotkey-scope="read-only-cursor-text-area"></button><button data-component="IconButton" type="button" aria-label="More file actions" title="More file actions" data-testid="more-file-actions-button-nav-menu-narrow" aria-haspopup="true" aria-expanded="false" tabindex="0" class="Box-sc-g0xbh4-0 kVRliy prc-Button-ButtonBase-c50BI js-blob-dropdown-click prc-Button-IconButton-szpyj" data-loading="false" data-no-visuals="true" data-size="medium" data-variant="default" aria-describedby=":R157d9lab:-loading-announcement" id=":R157d9lab:"><svg aria-hidden="true" focusable="false" class="octicon octicon-kebab-horizontal" viewBox="0 0 16 16" width="16" height="16" fill="currentColor" style="display:inline-block;user-select:none;vertical-align:text-bottom;overflow:visible"><path d="M8 9a1.5 1.5 0 1 0 0-3 1.5 1.5 0 0 0 0 3ZM1.5 9a1.5 1.5 0 1 0 0-3 1.5 1.5 0 0 0 0 3Zm13 0a1.5 1.5 0 1 0 0-3 1.5 1.5 0 0 0 0 3Z"></path></svg></button> </div></div></div></div></div></div></div></div><div class="Box-sc-g0xbh4-0 dJxjrT react-code-view-bottom-padding"> <div class="Box-sc-g0xbh4-0 eFxKDQ"></div> <!-- --> <!-- --> </div><div class="Box-sc-g0xbh4-0 dJxjrT"> <!-- --> <!-- --> <div class="d-flex flex-column border rounded-2 mb-3 pl-1"><div class="Box-sc-g0xbh4-0 dzCJzi"><h2 class="sr-only prc-Heading-Heading-6CmGO" data-testid="screen-reader-heading">Latest commit</h2><div style="width:120px" class="Skeleton Skeleton--text" data-testid="loading"> </div><div class="d-flex flex-shrink-0 gap-2"><div data-testid="latest-commit-details" class="d-none d-sm-flex flex-items-center"></div><div class="d-flex gap-2"><h2 class="sr-only prc-Heading-Heading-6CmGO" data-testid="screen-reader-heading">History</h2><a href="/ronakkjain77/Stock-Price-Prediction/commits/main/stock%20price%20prediction.ipynb" class="prc-Button-ButtonBase-c50BI d-none d-lg-flex LinkButton-module__code-view-link-button--xvCGA flex-items-center fgColor-default" data-loading="false" data-size="small" data-variant="invisible" aria-describedby=":R5dlal9lab:-loading-announcement"><span data-component="buttonContent" data-align="center" class="prc-Button-ButtonContent-HKbr-"><span data-component="leadingVisual" class="prc-Button-Visual-2epfX prc-Button-VisualWrap-Db-eB"><svg aria-hidden="true" focusable="false" class="octicon octicon-history" viewBox="0 0 16 16" width="16" height="16" fill="currentColor" style="display:inline-block;user-select:none;vertical-align:text-bottom;overflow:visible"><path d="m.427 1.927 1.215 1.215a8.002 8.002 0 1 1-1.6 5.685.75.75 0 1 1 1.493-.154 6.5 6.5 0 1 0 1.18-4.458l1.358 1.358A.25.25 0 0 1 3.896 6H.25A.25.25 0 0 1 0 5.75V2.104a.25.25 0 0 1 .427-.177ZM7.75 4a.75.75 0 0 1 .75.75v2.992l2.028.812a.75.75 0 0 1-.557 1.392l-2.5-1A.751.751 0 0 1 7 8.25v-3.5A.75.75 0 0 1 7.75 4Z"></path></svg></span><span data-component="text" class="prc-Button-Label-pTQ3x"><span class="fgColor-default">History</span></span></span></a><div class="d-sm-none"></div><div class="d-flex d-lg-none"><span role="tooltip" aria-label="History" id="history-icon-button-tooltip" class="Tooltip__TooltipBase-sc-17tf59c-0 fiSvBN tooltipped-n"><a href="/ronakkjain77/Stock-Price-Prediction/commits/main/stock%20price%20prediction.ipynb" class="prc-Button-ButtonBase-c50BI LinkButton-module__code-view-link-button--xvCGA flex-items-center fgColor-default" data-loading="false" data-size="small" data-variant="invisible" aria-describedby=":Rpdlal9lab:-loading-announcement history-icon-button-tooltip"><span data-component="buttonContent" data-align="center" class="prc-Button-ButtonContent-HKbr-"><span data-component="leadingVisual" class="prc-Button-Visual-2epfX prc-Button-VisualWrap-Db-eB"><svg aria-hidden="true" focusable="false" class="octicon octicon-history" viewBox="0 0 16 16" width="16" height="16" fill="currentColor" style="display:inline-block;user-select:none;vertical-align:text-bottom;overflow:visible"><path d="m.427 1.927 1.215 1.215a8.002 8.002 0 1 1-1.6 5.685.75.75 0 1 1 1.493-.154 6.5 6.5 0 1 0 1.18-4.458l1.358 1.358A.25.25 0 0 1 3.896 6H.25A.25.25 0 0 1 0 5.75V2.104a.25.25 0 0 1 .427-.177ZM7.75 4a.75.75 0 0 1 .75.75v2.992l2.028.812a.75.75 0 0 1-.557 1.392l-2.5-1A.751.751 0 0 1 7 8.25v-3.5A.75.75 0 0 1 7.75 4Z"></path></svg></span></span></a></span></div></div></div></div></div><div class="Box-sc-g0xbh4-0 ldRxiI"><div class="Box-sc-g0xbh4-0 fVkfyA container"><div class="Box-sc-g0xbh4-0 gNAmSV react-code-size-details-banner"><div class="Box-sc-g0xbh4-0 jNEwzY react-code-size-details-banner"><div class="Box-sc-g0xbh4-0 ifyOQK text-mono"><div title="130 KB" data-testid="blob-size" class="Truncate__StyledTruncate-sc-23o1d2-0 eAtkQz"><span>636 lines (636 loc) · 130 KB</span></div></div></div></div><div class="Box-sc-g0xbh4-0 jdLMhu react-blob-view-header-sticky" id="repos-sticky-header"><div class="Box-sc-g0xbh4-0 tOISc"><div class="react-blob-sticky-header"><div class="Box-sc-g0xbh4-0 hqwSEx"><div class="Box-sc-g0xbh4-0 lzKZY"><div class="Box-sc-g0xbh4-0 fHind"><nav data-testid="breadcrumbs" aria-labelledby="sticky-breadcrumb-heading" id="sticky-breadcrumb" class="Box-sc-g0xbh4-0 fzFXnm"><h2 class="sr-only prc-Heading-Heading-6CmGO" data-testid="screen-reader-heading" id="sticky-breadcrumb-heading">Breadcrumbs</h2><ol class="Box-sc-g0xbh4-0 iMnkmv"><li class="Box-sc-g0xbh4-0 ghzDag"><a class="Box-sc-g0xbh4-0 kHuKdh prc-Link-Link-85e08" sx="[object Object]" data-testid="breadcrumbs-repo-link" href="/ronakkjain77/Stock-Price-Prediction/tree/main">Stock-Price-Prediction</a></li></ol></nav><div data-testid="breadcrumbs-filename" class="Box-sc-g0xbh4-0 ghzDag"><span class="Box-sc-g0xbh4-0 bQeXnn prc-Text-Text-0ima0" aria-hidden="true">/</span><h1 class="Box-sc-g0xbh4-0 dnZoUW prc-Heading-Heading-6CmGO" tabindex="-1" id="sticky-file-name-id">stock price prediction.ipynb</h1></div></div><button style="--button-color:fg.default" type="button" class="Box-sc-g0xbh4-0 dpNnZU prc-Button-ButtonBase-c50BI" data-loading="false" data-size="small" data-variant="invisible" aria-describedby=":Riptal9lab:-loading-announcement"><span data-component="buttonContent" class="Box-sc-g0xbh4-0 gUkoLg prc-Button-ButtonContent-HKbr-"><span data-component="leadingVisual" class="prc-Button-Visual-2epfX prc-Button-VisualWrap-Db-eB"><svg aria-hidden="true" focusable="false" class="octicon octicon-arrow-up" viewBox="0 0 16 16" width="16" height="16" fill="currentColor" style="display:inline-block;user-select:none;vertical-align:text-bottom;overflow:visible"><path d="M3.47 7.78a.75.75 0 0 1 0-1.06l4.25-4.25a.75.75 0 0 1 1.06 0l4.25 4.25a.751.751 0 0 1-.018 1.042.751.751 0 0 1-1.042.018L9 4.81v7.44a.75.75 0 0 1-1.5 0V4.81L4.53 7.78a.75.75 0 0 1-1.06 0Z"></path></svg></span><span data-component="text" class="prc-Button-Label-pTQ3x">Top</span></span></button></div></div></div><div class="Box-sc-g0xbh4-0 gpHFJV"><h2 class="sr-only prc-Heading-Heading-6CmGO" data-testid="screen-reader-heading">File metadata and controls</h2><div class="Box-sc-g0xbh4-0 iNMjfP"><ul aria-label="File view" class="SegmentedControl__SegmentedControlList-sc-1rzig82-0 eYPFoP" data-size="small"><li class="Box-sc-g0xbh4-0 fefCSX" data-selected="true"><button aria-current="true" class="SegmentedControlButton__SegmentedControlButtonStyled-sc-8lkgxl-0 dPDqJE" type="button"><span class="segmentedControl-content"><div class="Box-sc-g0xbh4-0 segmentedControl-text" data-text="Preview">Preview</div></span></button></li><li class="Box-sc-g0xbh4-0 sulSy"><button aria-current="false" class="SegmentedControlButton__SegmentedControlButtonStyled-sc-8lkgxl-0 kTvXLQ" type="button"><span class="segmentedControl-content"><div class="Box-sc-g0xbh4-0 segmentedControl-text" data-text="Code">Code</div></span></button></li><li class="Box-sc-g0xbh4-0 sulSy"><button aria-current="false" class="SegmentedControlButton__SegmentedControlButtonStyled-sc-8lkgxl-0 gKyOFO" type="button"><span class="segmentedControl-content"><div class="Box-sc-g0xbh4-0 segmentedControl-text" data-text="Blame">Blame</div></span></button></li></ul><button hidden="" data-testid="" data-hotkey-scope="read-only-cursor-text-area"></button><button hidden="" data-testid="" data-hotkey-scope="read-only-cursor-text-area"></button><button hidden="" data-testid="" data-hotkey-scope="read-only-cursor-text-area"></button><div class="Box-sc-g0xbh4-0 jNEwzY react-code-size-details-in-header"><div class="Box-sc-g0xbh4-0 ifyOQK text-mono"><div title="130 KB" data-testid="blob-size" class="Truncate__StyledTruncate-sc-23o1d2-0 eAtkQz"><span>636 lines (636 loc) · 130 KB</span></div></div></div></div><div class="Box-sc-g0xbh4-0 kcLCKF"><div class="pr-0 prc-ButtonGroup-ButtonGroup-vcMeG"><div><button data-component="IconButton" type="button" aria-label="Ask Copilot about this file" data-testid="copilot-ask-menu" class="prc-Button-ButtonBase-c50BI AskCopilotButton-module__square--o8kDO prc-Button-IconButton-szpyj" data-loading="false" data-no-visuals="true" data-size="small" data-variant="default" aria-describedby="blob-view-header-copilot-icon-loading-announcement :Rbsptal9lab:" id="blob-view-header-copilot-icon"><svg aria-hidden="true" focusable="false" class="octicon octicon-copilot" viewBox="0 0 16 16" width="16" height="16" fill="currentColor" style="display:inline-block;user-select:none;vertical-align:text-bottom;overflow:visible"><path d="M7.998 15.035c-4.562 0-7.873-2.914-7.998-3.749V9.338c.085-.628.677-1.686 1.588-2.065.013-.07.024-.143.036-.218.029-.183.06-.384.126-.612-.201-.508-.254-1.084-.254-1.656 0-.87.128-1.769.693-2.484.579-.733 1.494-1.124 2.724-1.261 1.206-.134 2.262.034 2.944.765.05.053.096.108.139.165.044-.057.094-.112.143-.165.682-.731 1.738-.899 2.944-.765 1.23.137 2.145.528 2.724 1.261.566.715.693 1.614.693 2.484 0 .572-.053 1.148-.254 1.656.066.228.098.429.126.612.012.076.024.148.037.218.924.385 1.522 1.471 1.591 2.095v1.872c0 .766-3.351 3.795-8.002 3.795Zm0-1.485c2.28 0 4.584-1.11 5.002-1.433V7.862l-.023-.116c-.49.21-1.075.291-1.727.291-1.146 0-2.059-.327-2.71-.991A3.222 3.222 0 0 1 8 6.303a3.24 3.24 0 0 1-.544.743c-.65.664-1.563.991-2.71.991-.652 0-1.236-.081-1.727-.291l-.023.116v4.255c.419.323 2.722 1.433 5.002 1.433ZM6.762 2.83c-.193-.206-.637-.413-1.682-.297-1.019.113-1.479.404-1.713.7-.247.312-.369.789-.369 1.554 0 .793.129 1.171.308 1.371.162.181.519.379 1.442.379.853 0 1.339-.235 1.638-.54.315-.322.527-.827.617-1.553.117-.935-.037-1.395-.241-1.614Zm4.155-.297c-1.044-.116-1.488.091-1.681.297-.204.219-.359.679-.242 1.614.091.726.303 1.231.618 1.553.299.305.784.54 1.638.54.922 0 1.28-.198 1.442-.379.179-.2.308-.578.308-1.371 0-.765-.123-1.242-.37-1.554-.233-.296-.693-.587-1.713-.7Z"></path><path d="M6.25 9.037a.75.75 0 0 1 .75.75v1.501a.75.75 0 0 1-1.5 0V9.787a.75.75 0 0 1 .75-.75Zm4.25.75v1.501a.75.75 0 0 1-1.5 0V9.787a.75.75 0 0 1 1.5 0Z"></path></svg></button></div><div></div></div><div class="Box-sc-g0xbh4-0 kVWtTz react-blob-header-edit-and-raw-actions"><div class="prc-ButtonGroup-ButtonGroup-vcMeG"><div><a href="https://github.com/ronakkjain77/Stock-Price-Prediction/raw/refs/heads/main/stock%20price%20prediction.ipynb" data-testid="raw-button" class="Box-sc-g0xbh4-0 gWqxTd prc-Button-ButtonBase-c50BI" data-loading="false" data-no-visuals="true" data-size="small" data-variant="default" aria-describedby=":R5csptal9lab:-loading-announcement"><span data-component="buttonContent" class="Box-sc-g0xbh4-0 gUkoLg prc-Button-ButtonContent-HKbr-"><span data-component="text" class="prc-Button-Label-pTQ3x">Raw</span></span></a></div><div><button data-component="IconButton" type="button" aria-label="Copy raw content" data-testid="copy-raw-button" class="prc-Button-ButtonBase-c50BI prc-Button-IconButton-szpyj" data-loading="false" data-no-visuals="true" data-size="small" data-variant="default" aria-describedby=":Rpcsptal9lab:-loading-announcement"><svg aria-hidden="true" focusable="false" class="octicon octicon-copy" viewBox="0 0 16 16" width="16" height="16" fill="currentColor" style="display:inline-block;user-select:none;vertical-align:text-bottom;overflow:visible"><path d="M0 6.75C0 5.784.784 5 1.75 5h1.5a.75.75 0 0 1 0 1.5h-1.5a.25.25 0 0 0-.25.25v7.5c0 .138.112.25.25.25h7.5a.25.25 0 0 0 .25-.25v-1.5a.75.75 0 0 1 1.5 0v1.5A1.75 1.75 0 0 1 9.25 16h-7.5A1.75 1.75 0 0 1 0 14.25Z"></path><path d="M5 1.75C5 .784 5.784 0 6.75 0h7.5C15.216 0 16 .784 16 1.75v7.5A1.75 1.75 0 0 1 14.25 11h-7.5A1.75 1.75 0 0 1 5 9.25Zm1.75-.25a.25.25 0 0 0-.25.25v7.5c0 .138.112.25.25.25h7.5a.25.25 0 0 0 .25-.25v-7.5a.25.25 0 0 0-.25-.25Z"></path></svg></button></div><div><span role="tooltip" aria-label="Download raw file" id=":Rdcsptal9lab:" class="Tooltip__TooltipBase-sc-17tf59c-0 fiSvBN tooltipped-n"><button data-component="IconButton" type="button" aria-label="Download raw content" data-testid="download-raw-button" class="Box-sc-g0xbh4-0 ivobqY prc-Button-ButtonBase-c50BI prc-Button-IconButton-szpyj" data-loading="false" data-no-visuals="true" data-size="small" data-variant="default" aria-describedby=":Rtcsptal9lab:-loading-announcement"><svg aria-hidden="true" focusable="false" class="octicon octicon-download" viewBox="0 0 16 16" width="16" height="16" fill="currentColor" style="display:inline-block;user-select:none;vertical-align:text-bottom;overflow:visible"><path d="M2.75 14A1.75 1.75 0 0 1 1 12.25v-2.5a.75.75 0 0 1 1.5 0v2.5c0 .138.112.25.25.25h10.5a.25.25 0 0 0 .25-.25v-2.5a.75.75 0 0 1 1.5 0v2.5A1.75 1.75 0 0 1 13.25 14Z"></path><path d="M7.25 7.689V2a.75.75 0 0 1 1.5 0v5.689l1.97-1.969a.749.749 0 1 1 1.06 1.06l-3.25 3.25a.749.749 0 0 1-1.06 0L4.22 6.78a.749.749 0 1 1 1.06-1.06l1.97 1.969Z"></path></svg></button></span></div></div><button hidden="" data-testid="raw-button-shortcut" data-hotkey-scope="read-only-cursor-text-area"></button><button hidden="" data-testid="copy-raw-button-shortcut" data-hotkey-scope="read-only-cursor-text-area"></button><button hidden="" data-testid="download-raw-button-shortcut" data-hotkey-scope="read-only-cursor-text-area"></button><a class="js-github-dev-shortcut d-none prc-Link-Link-85e08" href="https://github.dev/"></a><button hidden="" data-testid="" data-hotkey-scope="read-only-cursor-text-area"></button><a class="js-github-dev-new-tab-shortcut d-none prc-Link-Link-85e08" href="https://github.dev/" target="_blank"></a><button hidden="" data-testid="" data-hotkey-scope="read-only-cursor-text-area"></button><div class="prc-ButtonGroup-ButtonGroup-vcMeG"><div><span role="tooltip" aria-label="Fork this repository and edit the file" id=":R6ksptal9lab:" class="Tooltip__TooltipBase-sc-17tf59c-0 fiSvBN tooltipped-nw"><a sx="[object Object]" data-component="IconButton" type="button" aria-label="Edit file" data-testid="edit-button" class="Box-sc-g0xbh4-0 kilKoS prc-Button-ButtonBase-c50BI prc-Button-IconButton-szpyj" data-loading="false" data-no-visuals="true" data-size="small" data-variant="default" aria-describedby=":Rmksptal9lab:-loading-announcement" href="/ronakkjain77/Stock-Price-Prediction/edit/main/stock%20price%20prediction.ipynb"><svg aria-hidden="true" focusable="false" class="octicon octicon-pencil" viewBox="0 0 16 16" width="16" height="16" fill="currentColor" style="display:inline-block;user-select:none;vertical-align:text-bottom;overflow:visible"><path d="M11.013 1.427a1.75 1.75 0 0 1 2.474 0l1.086 1.086a1.75 1.75 0 0 1 0 2.474l-8.61 8.61c-.21.21-.47.364-.756.445l-3.251.93a.75.75 0 0 1-.927-.928l.929-3.25c.081-.286.235-.547.445-.758l8.61-8.61Zm.176 4.823L9.75 4.81l-6.286 6.287a.253.253 0 0 0-.064.108l-.558 1.953 1.953-.558a.253.253 0 0 0 .108-.064Zm1.238-3.763a.25.25 0 0 0-.354 0L10.811 3.75l1.439 1.44 1.263-1.263a.25.25 0 0 0 0-.354Z"></path></svg></a></span></div><div><button data-component="IconButton" type="button" aria-label="More edit options" data-testid="more-edit-button" aria-haspopup="true" aria-expanded="false" tabindex="0" class="prc-Button-ButtonBase-c50BI prc-Button-IconButton-szpyj" data-loading="false" data-no-visuals="true" data-size="small" data-variant="default" aria-describedby=":Raksptal9lab:-loading-announcement" id=":Raksptal9lab:"><svg aria-hidden="true" focusable="false" class="octicon octicon-triangle-down" viewBox="0 0 16 16" width="16" height="16" fill="currentColor" style="display:inline-block;user-select:none;vertical-align:text-bottom;overflow:visible"><path d="m4.427 7.427 3.396 3.396a.25.25 0 0 0 .354 0l3.396-3.396A.25.25 0 0 0 11.396 7H4.604a.25.25 0 0 0-.177.427Z"></path></svg></button></div></div><button hidden="" data-testid="" data-hotkey="e,Shift+E" data-hotkey-scope="read-only-cursor-text-area"></button></div><div class="react-blob-header-edit-and-raw-actions-combined"><button data-component="IconButton" type="button" aria-label="Edit and raw actions" title="More file actions" data-testid="more-file-actions-button" aria-haspopup="true" aria-expanded="false" tabindex="0" class="Box-sc-g0xbh4-0 itGLhU prc-Button-ButtonBase-c50BI js-blob-dropdown-click prc-Button-IconButton-szpyj" data-loading="false" data-no-visuals="true" data-size="small" data-variant="invisible" aria-describedby=":Rnsptal9lab:-loading-announcement" id=":Rnsptal9lab:"><svg aria-hidden="true" focusable="false" class="octicon octicon-kebab-horizontal" viewBox="0 0 16 16" width="16" height="16" fill="currentColor" style="display:inline-block;user-select:none;vertical-align:text-bottom;overflow:visible"><path d="M8 9a1.5 1.5 0 1 0 0-3 1.5 1.5 0 0 0 0 3ZM1.5 9a1.5 1.5 0 1 0 0-3 1.5 1.5 0 0 0 0 3Zm13 0a1.5 1.5 0 1 0 0-3 1.5 1.5 0 0 0 0 3Z"></path></svg></button></div></div></div></div><div></div></div><div class="Box-sc-g0xbh4-0 hycJXc"><section aria-labelledby="file-name-id-wide file-name-id-mobile" class="Box-sc-g0xbh4-0 iWAocR"><!--$!--><template></template><div class="Box-sc-g0xbh4-0 fgsa-DI"><span class="prc-Spinner-Box-qNUI9"><svg height="32px" width="32px" viewBox="0 0 16 16" fill="none" aria-hidden="true" aria-label="Loading" class="prc-Spinner-SpinnerAnimation-e7Gf-"><circle cx="8" cy="8" r="7" stroke="currentColor" stroke-opacity="0.25" stroke-width="2" vector-effect="non-scaling-stroke"></circle><path d="M15 8a7.002 7.002 0 00-7-7" stroke="currentColor" stroke-width="2" stroke-linecap="round" vector-effect="non-scaling-stroke"></path></svg></span></div><!--/$--></section></div></div></div> <!-- --> <!-- --> </div></div></div><div class="Box-sc-g0xbh4-0"></div></div></div></div></div><div id="find-result-marks-container" class="Box-sc-g0xbh4-0 cCoXib"></div><button hidden="" data-testid="" data-hotkey-scope="read-only-cursor-text-area"></button><button hidden=""></button></div> <!-- --> <!-- --> <script type="application/json" id="__PRIMER_DATA_:R0:__">{"resolvedServerColorMode":"night"}</script></div>
</react-app>
</turbo-frame>



  </div>

</turbo-frame>

    </main>
  </div>

  </div>

          <footer class="footer pt-8 pb-6 f6 color-fg-muted p-responsive" role="contentinfo" >
  <h2 class='sr-only'>Footer</h2>

  


  <div class="d-flex flex-justify-center flex-items-center flex-column-reverse flex-lg-row flex-wrap flex-lg-nowrap">
    <div class="d-flex flex-items-center flex-shrink-0 mx-2">
      <a aria-label="Homepage" title="GitHub" class="footer-octicon mr-2" href="https://github.com">
        <svg aria-hidden="true" height="24" viewBox="0 0 24 24" version="1.1" width="24" data-view-component="true" class="octicon octicon-mark-github">
    <path d="M12.5.75C6.146.75 1 5.896 1 12.25c0 5.089 3.292 9.387 7.863 10.91.575.101.79-.244.79-.546 0-.273-.014-1.178-.014-2.142-2.889.532-3.636-.704-3.866-1.35-.13-.331-.69-1.352-1.18-1.625-.402-.216-.977-.748-.014-.762.906-.014 1.553.834 1.769 1.179 1.035 1.74 2.688 1.25 3.349.948.1-.747.402-1.25.733-1.538-2.559-.287-5.232-1.279-5.232-5.678 0-1.25.445-2.285 1.178-3.09-.115-.288-.517-1.467.115-3.048 0 0 .963-.302 3.163 1.179.92-.259 1.897-.388 2.875-.388.977 0 1.955.13 2.875.388 2.2-1.495 3.162-1.179 3.162-1.179.633 1.581.23 2.76.115 3.048.733.805 1.179 1.825 1.179 3.09 0 4.413-2.688 5.39-5.247 5.678.417.36.776 1.05.776 2.128 0 1.538-.014 2.774-.014 3.162 0 .302.216.662.79.547C20.709 21.637 24 17.324 24 12.25 24 5.896 18.854.75 12.5.75Z"></path>
</svg>
</a>
      <span>
        &copy; 2025 GitHub,&nbsp;Inc.
      </span>
    </div>

    <nav aria-label="Footer">
      <h3 class="sr-only" id="sr-footer-heading">Footer navigation</h3>

      <ul class="list-style-none d-flex flex-justify-center flex-wrap mb-2 mb-lg-0" aria-labelledby="sr-footer-heading">

          <li class="mx-2">
            <a data-analytics-event="{&quot;category&quot;:&quot;Footer&quot;,&quot;action&quot;:&quot;go to Terms&quot;,&quot;label&quot;:&quot;text:terms&quot;}" href="https://docs.github.com/site-policy/github-terms/github-terms-of-service" data-view-component="true" class="Link--secondary Link">Terms</a>
          </li>

          <li class="mx-2">
            <a data-analytics-event="{&quot;category&quot;:&quot;Footer&quot;,&quot;action&quot;:&quot;go to privacy&quot;,&quot;label&quot;:&quot;text:privacy&quot;}" href="https://docs.github.com/site-policy/privacy-policies/github-privacy-statement" data-view-component="true" class="Link--secondary Link">Privacy</a>
          </li>

          <li class="mx-2">
            <a data-analytics-event="{&quot;category&quot;:&quot;Footer&quot;,&quot;action&quot;:&quot;go to security&quot;,&quot;label&quot;:&quot;text:security&quot;}" href="https://github.com/security" data-view-component="true" class="Link--secondary Link">Security</a>
          </li>

          <li class="mx-2">
            <a data-analytics-event="{&quot;category&quot;:&quot;Footer&quot;,&quot;action&quot;:&quot;go to status&quot;,&quot;label&quot;:&quot;text:status&quot;}" href="https://www.githubstatus.com/" data-view-component="true" class="Link--secondary Link">Status</a>
          </li>

          <li class="mx-2">
            <a data-analytics-event="{&quot;category&quot;:&quot;Footer&quot;,&quot;action&quot;:&quot;go to docs&quot;,&quot;label&quot;:&quot;text:docs&quot;}" href="https://docs.github.com/" data-view-component="true" class="Link--secondary Link">Docs</a>
          </li>

          <li class="mx-2">
            <a data-analytics-event="{&quot;category&quot;:&quot;Footer&quot;,&quot;action&quot;:&quot;go to contact&quot;,&quot;label&quot;:&quot;text:contact&quot;}" href="https://support.github.com?tags=dotcom-footer" data-view-component="true" class="Link--secondary Link">Contact</a>
          </li>

          <li class="mx-2" >
  <cookie-consent-link>
    <button
      type="button"
      class="Link--secondary underline-on-hover border-0 p-0 color-bg-transparent"
      data-action="click:cookie-consent-link#showConsentManagement"
      data-analytics-event="{&quot;location&quot;:&quot;footer&quot;,&quot;action&quot;:&quot;cookies&quot;,&quot;context&quot;:&quot;subfooter&quot;,&quot;tag&quot;:&quot;link&quot;,&quot;label&quot;:&quot;cookies_link_subfooter_footer&quot;}"
    >
      Manage cookies
    </button>
  </cookie-consent-link>
</li>

<li class="mx-2">
  <cookie-consent-link>
    <button
      type="button"
      class="Link--secondary underline-on-hover border-0 p-0 color-bg-transparent"
      data-action="click:cookie-consent-link#showConsentManagement"
      data-analytics-event="{&quot;location&quot;:&quot;footer&quot;,&quot;action&quot;:&quot;dont_share_info&quot;,&quot;context&quot;:&quot;subfooter&quot;,&quot;tag&quot;:&quot;link&quot;,&quot;label&quot;:&quot;dont_share_info_link_subfooter_footer&quot;}"
    >
      Do not share my personal information
    </button>
  </cookie-consent-link>
</li>

      </ul>
    </nav>
  </div>
</footer>




    <ghcc-consent id="ghcc" class="position-fixed bottom-0 left-0" style="z-index: 999999" data-initial-cookie-consent-allowed="" data-cookie-consent-required="false"></ghcc-consent>


  <div id="ajax-error-message" class="ajax-error-message flash flash-error" hidden>
    <svg aria-hidden="true" height="16" viewBox="0 0 16 16" version="1.1" width="16" data-view-component="true" class="octicon octicon-alert">
    <path d="M6.457 1.047c.659-1.234 2.427-1.234 3.086 0l6.082 11.378A1.75 1.75 0 0 1 14.082 15H1.918a1.75 1.75 0 0 1-1.543-2.575Zm1.763.707a.25.25 0 0 0-.44 0L1.698 13.132a.25.25 0 0 0 .22.368h12.164a.25.25 0 0 0 .22-.368Zm.53 3.996v2.5a.75.75 0 0 1-1.5 0v-2.5a.75.75 0 0 1 1.5 0ZM9 11a1 1 0 1 1-2 0 1 1 0 0 1 2 0Z"></path>
</svg>
    <button type="button" class="flash-close js-ajax-error-dismiss" aria-label="Dismiss error">
      <svg aria-hidden="true" height="16" viewBox="0 0 16 16" version="1.1" width="16" data-view-component="true" class="octicon octicon-x">
    <path d="M3.72 3.72a.75.75 0 0 1 1.06 0L8 6.94l3.22-3.22a.749.749 0 0 1 1.275.326.749.749 0 0 1-.215.734L9.06 8l3.22 3.22a.749.749 0 0 1-.326 1.275.749.749 0 0 1-.734-.215L8 9.06l-3.22 3.22a.751.751 0 0 1-1.042-.018.751.751 0 0 1-.018-1.042L6.94 8 3.72 4.78a.75.75 0 0 1 0-1.06Z"></path>
</svg>
    </button>
    You can’t perform that action at this time.
  </div>

    <template id="site-details-dialog">
  <details class="details-reset details-overlay details-overlay-dark lh-default color-fg-default hx_rsm" open>
    <summary role="button" aria-label="Close dialog"></summary>
    <details-dialog class="Box Box--overlay d-flex flex-column anim-fade-in fast hx_rsm-dialog hx_rsm-modal">
      <button class="Box-btn-octicon m-0 btn-octicon position-absolute right-0 top-0" type="button" aria-label="Close dialog" data-close-dialog>
        <svg aria-hidden="true" height="16" viewBox="0 0 16 16" version="1.1" width="16" data-view-component="true" class="octicon octicon-x">
    <path d="M3.72 3.72a.75.75 0 0 1 1.06 0L8 6.94l3.22-3.22a.749.749 0 0 1 1.275.326.749.749 0 0 1-.215.734L9.06 8l3.22 3.22a.749.749 0 0 1-.326 1.275.749.749 0 0 1-.734-.215L8 9.06l-3.22 3.22a.751.751 0 0 1-1.042-.018.751.751 0 0 1-.018-1.042L6.94 8 3.72 4.78a.75.75 0 0 1 0-1.06Z"></path>
</svg>
      </button>
      <div class="octocat-spinner my-6 js-details-dialog-spinner"></div>
    </details-dialog>
  </details>
</template>

    <div class="Popover js-hovercard-content position-absolute" style="display: none; outline: none;">
  <div class="Popover-message Popover-message--bottom-left Popover-message--large Box color-shadow-large" style="width:360px;">
  </div>
</div>

    <template id="snippet-clipboard-copy-button">
  <div class="zeroclipboard-container position-absolute right-0 top-0">
    <clipboard-copy aria-label="Copy" class="ClipboardButton btn js-clipboard-copy m-2 p-0" data-copy-feedback="Copied!" data-tooltip-direction="w">
      <svg aria-hidden="true" height="16" viewBox="0 0 16 16" version="1.1" width="16" data-view-component="true" class="octicon octicon-copy js-clipboard-copy-icon m-2">
    <path d="M0 6.75C0 5.784.784 5 1.75 5h1.5a.75.75 0 0 1 0 1.5h-1.5a.25.25 0 0 0-.25.25v7.5c0 .138.112.25.25.25h7.5a.25.25 0 0 0 .25-.25v-1.5a.75.75 0 0 1 1.5 0v1.5A1.75 1.75 0 0 1 9.25 16h-7.5A1.75 1.75 0 0 1 0 14.25Z"></path><path d="M5 1.75C5 .784 5.784 0 6.75 0h7.5C15.216 0 16 .784 16 1.75v7.5A1.75 1.75 0 0 1 14.25 11h-7.5A1.75 1.75 0 0 1 5 9.25Zm1.75-.25a.25.25 0 0 0-.25.25v7.5c0 .138.112.25.25.25h7.5a.25.25 0 0 0 .25-.25v-7.5a.25.25 0 0 0-.25-.25Z"></path>
</svg>
      <svg aria-hidden="true" height="16" viewBox="0 0 16 16" version="1.1" width="16" data-view-component="true" class="octicon octicon-check js-clipboard-check-icon color-fg-success d-none m-2">
    <path d="M13.78 4.22a.75.75 0 0 1 0 1.06l-7.25 7.25a.75.75 0 0 1-1.06 0L2.22 9.28a.751.751 0 0 1 .018-1.042.751.751 0 0 1 1.042-.018L6 10.94l6.72-6.72a.75.75 0 0 1 1.06 0Z"></path>
</svg>
    </clipboard-copy>
  </div>
</template>
<template id="snippet-clipboard-copy-button-unpositioned">
  <div class="zeroclipboard-container">
    <clipboard-copy aria-label="Copy" class="ClipboardButton btn btn-invisible js-clipboard-copy m-2 p-0 d-flex flex-justify-center flex-items-center" data-copy-feedback="Copied!" data-tooltip-direction="w">
      <svg aria-hidden="true" height="16" viewBox="0 0 16 16" version="1.1" width="16" data-view-component="true" class="octicon octicon-copy js-clipboard-copy-icon">
    <path d="M0 6.75C0 5.784.784 5 1.75 5h1.5a.75.75 0 0 1 0 1.5h-1.5a.25.25 0 0 0-.25.25v7.5c0 .138.112.25.25.25h7.5a.25.25 0 0 0 .25-.25v-1.5a.75.75 0 0 1 1.5 0v1.5A1.75 1.75 0 0 1 9.25 16h-7.5A1.75 1.75 0 0 1 0 14.25Z"></path><path d="M5 1.75C5 .784 5.784 0 6.75 0h7.5C15.216 0 16 .784 16 1.75v7.5A1.75 1.75 0 0 1 14.25 11h-7.5A1.75 1.75 0 0 1 5 9.25Zm1.75-.25a.25.25 0 0 0-.25.25v7.5c0 .138.112.25.25.25h7.5a.25.25 0 0 0 .25-.25v-7.5a.25.25 0 0 0-.25-.25Z"></path>
</svg>
      <svg aria-hidden="true" height="16" viewBox="0 0 16 16" version="1.1" width="16" data-view-component="true" class="octicon octicon-check js-clipboard-check-icon color-fg-success d-none">
    <path d="M13.78 4.22a.75.75 0 0 1 0 1.06l-7.25 7.25a.75.75 0 0 1-1.06 0L2.22 9.28a.751.751 0 0 1 .018-1.042.751.751 0 0 1 1.042-.018L6 10.94l6.72-6.72a.75.75 0 0 1 1.06 0Z"></path>
</svg>
    </clipboard-copy>
  </div>
</template>


    <style>
      .user-mention[href$="/pawarvijay1070"] {
        color: var(--color-user-mention-fg);
        background-color: var(--bgColor-attention-muted, var(--color-attention-subtle));
        border-radius: 2px;
        margin-left: -2px;
        margin-right: -2px;
      }
      .user-mention[href$="/pawarvijay1070"]:before,
      .user-mention[href$="/pawarvijay1070"]:after {
        content: '';
        display: inline-block;
        width: 2px;
      }
    </style>


    </div>

    <div id="js-global-screen-reader-notice" class="sr-only mt-n1" aria-live="polite" aria-atomic="true" ></div>
    <div id="js-global-screen-reader-notice-assertive" class="sr-only mt-n1" aria-live="assertive" aria-atomic="true"></div>
  </body>
</html>

